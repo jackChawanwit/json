{
 "cells": [
  {
   "cell_type": "code",
   "execution_count": 28,
   "id": "83942294",
   "metadata": {},
   "outputs": [],
   "source": [
    "import pandas as pds\n",
    "import json \n",
    "import math as mt\n",
    "import os\n",
    "#df_raw_data = pds.read_csv(r'C:\\Users\\Chawanwit\\Desktop\\doc\\bucket\\ascentis\\part-00000-3e003a3a-c205-4bdd-b203-7bb4eb36b325-c000.csv')\n",
    "#df_raw_data = pds.read_csv(r'C:\\Users\\Chawanwit\\Desktop\\doc\\bucket\\ascentis\\part-00000-ef446fd3-e48a-447e-899b-da28ca55d6fc-c000.csv')\n",
    "#dfa_template = pds.read_csv(r'C:\\Users\\Chawanwit\\Desktop\\doc\\bucket\\ascentis\\asc_json_mapper_template_23082022.csv')\n"
   ]
  },
  {
   "cell_type": "code",
   "execution_count": 29,
   "id": "191b40c6",
   "metadata": {},
   "outputs": [],
   "source": [
    "model_type = \"\"\n",
    "model_type_template_path = \"\"\n",
    "model_type_raw_data_path =\"\""
   ]
  },
  {
   "cell_type": "code",
   "execution_count": 30,
   "id": "cb427f4f",
   "metadata": {},
   "outputs": [],
   "source": [
    "def get_template_path_by_model_type(model_type):\n",
    "    #------------------ Local ver.\n",
    "    if model_type == \"uc1m1\" :\n",
    "        model_type_template_path = r'C:\\Users\\Chawanwit\\Desktop\\doc\\bucket\\ascentis\\uc1m1_asc_json_meta_template.csv'\n",
    "    elif model_type == \"uc1m2\" :\n",
    "        model_type_template_path = r'C:\\Users\\Chawanwit\\Desktop\\doc\\bucket\\ascentis\\uc1m2_asc_json_meta_template.csv'\n",
    "    elif model_type == \"uc1m3\" :\n",
    "        model_type_template_path = r'C:\\Users\\Chawanwit\\Desktop\\doc\\bucket\\ascentis\\uc1m3_asc_json_meta_template.csv'\n",
    "    elif model_type == \"uc2m1\" :\n",
    "        model_type_template_path = r'C:\\Users\\Chawanwit\\Desktop\\doc\\bucket\\ascentis\\uc2m1_asc_json_meta_template.csv'\n",
    "    elif model_type == \"uc2m3\" :\n",
    "        model_type_template_path = r'C:\\Users\\Chawanwit\\Desktop\\doc\\bucket\\ascentis\\uc1m3_asc_json_meta_template.csv'\n",
    "    else :\n",
    "        model_type_template_path = r'C:\\Users\\Chawanwit\\Desktop\\doc\\bucket\\ascentis\\asc_json_mapper_template_23082022.csv'\n",
    "    return model_type_template_path\n",
    "    \n",
    "    "
   ]
  },
  {
   "cell_type": "code",
   "execution_count": 31,
   "id": "6bee27a5",
   "metadata": {},
   "outputs": [],
   "source": [
    "def get_raw_data_path_by_model_type(model_type):\n",
    "    #------------------ Local ver.\n",
    "    if model_type == \"uc1m1\" :\n",
    "        model_type_raw_data_path = r'C:\\Users\\Chawanwit\\Desktop\\doc\\bucket\\ascentis\\part-00000-ef446fd3-e48a-447e-899b-da28ca55d6fc-c000.csv'\n",
    "\n",
    "    elif model_type == \"uc1m2\" :\n",
    "        model_type_raw_data_path = r'C:\\Users\\Chawanwit\\Desktop\\doc\\bucket\\ascentis\\u01m02_raw_data.csv'\n",
    "\n",
    "    elif model_type == \"uc1m3\" :\n",
    "        model_type_raw_data_path = r'C:\\Users\\Chawanwit\\Desktop\\doc\\bucket\\ascentis\\u01m03_raw_data.csv'\n",
    "\n",
    "    elif model_type == \"uc2m1\" :\n",
    "        model_type_raw_data_path = r'C:\\Users\\Chawanwit\\Desktop\\doc\\bucket\\ascentis\\u02m01_raw_data.csv'\n",
    "\n",
    "    elif model_type == \"uc2m3\" :\n",
    "        model_type_raw_data_path = r'C:\\Users\\Chawanwit\\Desktop\\doc\\bucket\\ascentis\\u02m03_raw_data.csv'\n",
    "    else :\n",
    "        model_type_raw_data_path = r'C:\\Users\\Chawanwit\\Desktop\\doc\\bucket\\ascentis\\part-00000-ef446fd3-e48a-447e-899b-da28ca55d6fc-c000.csv'\n",
    "    return model_type_raw_data_path\n",
    "    \n",
    "    \n"
   ]
  },
  {
   "cell_type": "code",
   "execution_count": null,
   "id": "468b04a9",
   "metadata": {},
   "outputs": [],
   "source": [
    "#------ dynamic input path\n",
    "#----- model_type_template_path\n",
    "#----- model_type_raw_data_path\n",
    "#----- dfa_sort_value_standard\n",
    "#----- dfa_card_tier_sort\n",
    "#----- dfa_rfm_segment"
   ]
  },
  {
   "cell_type": "code",
   "execution_count": null,
   "id": "7652faf1",
   "metadata": {},
   "outputs": [],
   "source": []
  },
  {
   "cell_type": "code",
   "execution_count": 32,
   "id": "d6b00f2e",
   "metadata": {},
   "outputs": [],
   "source": [
    "#model_type = @model_type\n",
    "model_type = \"uc1m1\"\n",
    "#customer_code = @client_customercode\n",
    "customer_code = \"feomall\"\n",
    "#----------------------------[ Set input path by model type ]-------------------------------------------\n",
    "model_type_template_path = get_template_path_by_model_type(model_type)\n",
    "model_type_raw_data_path = get_raw_data_path_by_model_type(model_type)\n",
    "#----------------------------[ Get template & data set by path ]----------------------------------------\n",
    "df_raw_data = pds.read_csv(model_type_raw_data_path)\n",
    "dfa_template = pds.read_csv(model_type_template_path)\n",
    "#----------------------------[ Get sort&sequence standard ]---------------------------------------------\n",
    "dfa_sort_value_standard = pds.read_csv(r'C:\\Users\\Chawanwit\\Desktop\\doc\\bucket\\ascentis\\ascentis_std_mapping.csv')\n",
    "dfa_card_tier_sort = pds.read_csv(r'C:\\Users\\Chawanwit\\Desktop\\doc\\bucket\\ascentis\\crm_raw_membershiptypetier_202208291357.csv') \n",
    "dfa_rfm_segment = pds.read_csv(r'C:\\Users\\Chawanwit\\Desktop\\doc\\bucket\\ascentis\\dim_rfm_202208291411.csv')\n",
    "\n",
    "\n"
   ]
  },
  {
   "cell_type": "code",
   "execution_count": 33,
   "id": "49a45b4c",
   "metadata": {},
   "outputs": [],
   "source": [
    "dict_result_list = []\n",
    "dict_list_temp = {}\n",
    "dict_temp = {}\n",
    "dict_temp_data = {}\n",
    "dict_row_value = {}\n",
    "\n",
    "\n",
    "dict_values_list = []\n",
    "dict_value_data = {}\n",
    "\n",
    "\n",
    "dict_row_group = {}\n",
    "dict_fields = {} #--- feilds in space 1 \n",
    "dict_json_row = {}\n",
    "json_data_first_space = {}"
   ]
  },
  {
   "cell_type": "code",
   "execution_count": 347,
   "id": "35f2760b",
   "metadata": {},
   "outputs": [],
   "source": [
    "domain_type_list = dfa_sort_value_standard[\"domain\"].unique()\n",
    "rfm_segment_value_list = dfa_rfm_segment[\"rfmsegment\"].unique()\n",
    "special_case_column = [\"card_tier\",\"rfm_segment\"]"
   ]
  },
  {
   "cell_type": "code",
   "execution_count": 35,
   "id": "a5558d87",
   "metadata": {},
   "outputs": [],
   "source": [
    "#verify data group\n",
    "def verify_group(dict_row):\n",
    "    dict_row_group = dict_row[\"group\"] \n",
    "    return dict_row_group\n",
    "#get row feature\n",
    "def get_row_feature(dict_row):\n",
    "    dict_row_feature = dict_row[\"feature\"]\n",
    "    return dict_row_feature\n",
    "#verify data type\n",
    "def verify_data_type(dict_row):\n",
    "    dict_row_data_type = dict_row[\"data_type\"]\n",
    "    #---- verify special data type\n",
    "    return dict_row_data_type\n",
    "#get row selection\n",
    "def get_row_selection(dict_row):\n",
    "    dict_row_selection = dict_row[\"selection\"]\n",
    "    return dict_row_selection\n",
    "#get row name\n",
    "def get_name(dict_row):\n",
    "    dict_row_name = dict_row[\"name\"]\n",
    "    #---- verify special data type\n",
    "    if pds.isna(dict_row_name):\n",
    "        dict_row_name = \"\"\n",
    "    return dict_row_name\n",
    "#get row description\n",
    "def get_row_description(dict_row):\n",
    "    dict_row_description = dict_row[\"description\"]\n",
    "    if pds.isna(dict_row_description):\n",
    "        dict_row_description = \"\"\n",
    "    return dict_row_description\n",
    "#get row aggregatable\n",
    "def get_row_aggregatable(dict_row):\n",
    "    dict_row_aggregatable = dict_row[\"aggregatable\"]\n",
    "    if pds.isna(dict_row_aggregatable):\n",
    "        dict_row_aggregatable = \"\"\n",
    "    return dict_row_aggregatable\n",
    "\n"
   ]
  },
  {
   "cell_type": "code",
   "execution_count": 36,
   "id": "e033e669",
   "metadata": {},
   "outputs": [],
   "source": [
    "#set json row [ { \"feature\" : set_fields_convert_data  }]\n",
    "def set_row_to_json(dict_row):\n",
    "    data_type  = verify_data_type(dict_row)\n",
    "    dict_row_group = verify_group(dict_row)\n",
    "    if pds.isna(dict_row_group): #------- select only group nan value\n",
    "        dict_json_row[dict_row[\"feature\"]] = set_fields_convert_data(dict_row)\n",
    "    "
   ]
  },
  {
   "cell_type": "code",
   "execution_count": 37,
   "id": "d864e1ec",
   "metadata": {},
   "outputs": [],
   "source": [
    "def join_column_name(column_name):\n",
    "    split_column_name = column_name.split(\"_\")\n",
    "    column_name = (\"\").join(split_column_name)\n",
    "    return column_name"
   ]
  },
  {
   "cell_type": "code",
   "execution_count": 38,
   "id": "6948b6b3",
   "metadata": {},
   "outputs": [],
   "source": [
    "#----- set info to categorical\n",
    "def set_info_categorical_type(categorical_row):\n",
    "    categorical_result = {}\n",
    "    categorical_name = get_name(categorical_row)\n",
    "    categorical_value = get_row_feature(categorical_row)\n",
    "    categorical_result[\"name\"] = categorical_name\n",
    "    categorical_result[\"value\"] = categorical_value\n",
    "    return categorical_result"
   ]
  },
  {
   "cell_type": "code",
   "execution_count": 39,
   "id": "17e36b17",
   "metadata": {},
   "outputs": [],
   "source": [
    "def sorted_source_unique_mapper(source_column_name):\n",
    "    source_unique_values = []\n",
    "    categorical_result_list =[]\n",
    "    source_unique_values = sorted(df_raw_data[source_column_name].unique())\n",
    "    if len(source_unique_values) > 0:\n",
    "        for unique_values in source_unique_values:\n",
    "            categorical_result = {}\n",
    "            categorical_result[\"name\"] = unique_values\n",
    "            categorical_result[\"value\"] = unique_values\n",
    "            categorical_result_list.append(categorical_result)\n",
    "    return categorical_result_list"
   ]
  },
  {
   "cell_type": "code",
   "execution_count": 40,
   "id": "23df1a46",
   "metadata": {},
   "outputs": [],
   "source": [
    "#----- get uniqueue std_value sort by order\n",
    "def sorted_domain_unique_mapper(source_column_name):\n",
    "    categorical_result_list = []\n",
    "    domain_values = []\n",
    "    source_domain_column_name = join_column_name(source_column_name)\n",
    "    for sort_type in domain_type_list:\n",
    "        if sort_type in source_domain_column_name :\n",
    "            #domain_list = dfa_sort_value_standard.loc[dfa_sort_value_standard[\"domain\"]==sort_type]\n",
    "            domain_list = dfa_sort_value_standard.loc[dfa_sort_value_standard[\"domain\"]==sort_type].drop_duplicates(subset='std_values').sort_values(by=['std_order'])\n",
    "            for row_index in domain_list.index :\n",
    "                #print(domain_list[\"std_name\"].notna(),\"type - \",type(domain_list[\"std_name\"].notna()),\"-\",row_index)\n",
    "                categorical_result = {}\n",
    "                if str(domain_list[\"std_name\"][row_index]) != \"nan\" :\n",
    "                    categorical_result[\"name\"] = str(domain_list[\"std_values\"][row_index])\n",
    "                    categorical_result[\"value\"] = str(domain_list[\"std_name\"][row_index])\n",
    "                else:\n",
    "                    categorical_result[\"name\"] = str(domain_list[\"std_values\"][row_index])\n",
    "                    categorical_result[\"value\"] = str(domain_list[\"std_values\"][row_index])\n",
    "                categorical_result_list.append(categorical_result)\n",
    "            #---- if [std_value] have value return value in [std_value]\n",
    "            #domain_values = domain_list.drop_duplicates(subset = [\"std_values\"]).sort_values(by=['std_order'])[\"std_values\"]\n",
    "            \n",
    "            \n",
    "    return categorical_result_list"
   ]
  },
  {
   "cell_type": "code",
   "execution_count": 41,
   "id": "ae633d3d",
   "metadata": {},
   "outputs": [],
   "source": [
    "def get_sorted_unique(source_column_name):\n",
    "   # print(\"[sort-unique]-\",source_column_name)\n",
    "    source_unique_values = []\n",
    "    source_unique_values = sorted_domain_unique_mapper(source_column_name)\n",
    "    #print(\"[sort-unique] len -\",len(source_unique_values))\n",
    "    if len(source_unique_values) <= 0:\n",
    "        #print(\"[sort-unique]-\",source_column_name)\n",
    "        source_unique_values = sorted_source_unique_mapper(source_column_name)\n",
    "    return source_unique_values"
   ]
  },
  {
   "cell_type": "code",
   "execution_count": 386,
   "id": "6118b078",
   "metadata": {},
   "outputs": [],
   "source": [
    "def rfmsegment_sort_mapping():\n",
    "    categorical_result_list =[]\n",
    "    rfm_segment_raw = df_raw_data[\"rfm_segment\"].unique()\n",
    "    rfm_segment_order_list = dfa_rfm_segment.drop_duplicates(subset='rfmsegment').sort_values(by=['rfmsegmentorder'])\n",
    "    if len(rfm_segment_order_list) > 0 :  \n",
    "        for rfm_order_value in rfm_segment_order_list['rfmsegment'] :\n",
    "            categorical_result = {}\n",
    "            categorical_result[\"name\"] = str(rfm_order_value)\n",
    "            categorical_result[\"value\"] = str(rfm_order_value)\n",
    "            categorical_result_list.append(categorical_result)  \n",
    "            \n",
    "        for raw_segment_value in rfm_segment_raw.tolist():\n",
    "            if raw_segment_value not in rfm_segment_order_list[\"rfmsegment\"].tolist():\n",
    "                categorical_result = {}\n",
    "                categorical_result[\"name\"] = str(raw_segment_value)\n",
    "                categorical_result[\"value\"] = str(raw_segment_value)\n",
    "                categorical_result_list.append(categorical_result)\n",
    "    \n",
    "            \n",
    "            \n",
    "            \n",
    "    return categorical_result_list"
   ]
  },
  {
   "cell_type": "code",
   "execution_count": 387,
   "id": "3e9c9d3a",
   "metadata": {},
   "outputs": [],
   "source": [
    "def cardtier_sort_mapping(customer_code):\n",
    "    categorical_result_list =[]\n",
    "    source_column_list = df_raw_data.columns.tolist()\n",
    "    card_tier_rank = dfa_card_tier_sort.loc[dfa_card_tier_sort[\"customercode\"]==customer_code].drop_duplicates(subset='code').sort_values(by=['tierrank'])\n",
    "    card_tier_rank = card_tier_rank[~card_tier_rank[\"tierrank\"].isnull()] #--- ignore Nan value in dataframe\n",
    "    card_tier_source_value_list = [source_column for source_column in source_column_list if \"card_tier\" in source_column]\n",
    "\n",
    "    for source_value in card_tier_source_value_list:\n",
    "        for tier_code in card_tier_rank['code']:\n",
    "            if tier_code in source_value :\n",
    "                categorical_result = {}\n",
    "                categorical_result[\"name\"] = str(tier_code)\n",
    "                categorical_result[\"value\"] = str(source_value) \n",
    "                categorical_result_list.append(categorical_result)\n",
    "    return categorical_result_list"
   ]
  },
  {
   "cell_type": "code",
   "execution_count": 388,
   "id": "a94766a5",
   "metadata": {},
   "outputs": [],
   "source": [
    "def validate_special_column_sorting(categorical_result_list,column_name,customer_code):\n",
    "    if column_name == \"card_tier\":\n",
    "        categorical_result_list = cardtier_sort_mapping(customer_code)\n",
    "    elif column_name == \"rfm_segment\":\n",
    "        categorical_result_list = rfmsegment_sort_mapping()\n",
    "    \n",
    "    return categorical_result_list"
   ]
  },
  {
   "cell_type": "code",
   "execution_count": 389,
   "id": "81d818da",
   "metadata": {},
   "outputs": [],
   "source": [
    "def split_code_name(source_column_name,categorical_name):\n",
    "    categorical_result_name = source_column_name\n",
    "    split_result_list = source_column_name.split(categorical_name+'_code_')\n",
    "    if len(split_result_list) > 0:\n",
    "        for result_name in split_result_list:\n",
    "            categorical_result_name = result_name\n",
    "    return categorical_result_name"
   ]
  },
  {
   "cell_type": "code",
   "execution_count": 390,
   "id": "3e8b2566",
   "metadata": {},
   "outputs": [],
   "source": [
    "def get_categorical_value_from_source(categorical_name):\n",
    "    categorical_result_list = []\n",
    "    source_column_list = df_raw_data.columns.tolist() #------- column from raw data\n",
    "    join_categorical_name = join_column_name(categorical_name) \n",
    "  \n",
    "    for source_column_name in source_column_list:\n",
    "        source_join_column_name = join_column_name(source_column_name)\n",
    "        if join_categorical_name in source_join_column_name:\n",
    "            if categorical_name in special_case_column :\n",
    "                #--- validate special case and set response data \n",
    "                categorical_result_list = validate_special_column_sorting(categorical_result_list,categorical_name,customer_code)           \n",
    "            elif join_categorical_name == source_join_column_name:\n",
    "                source_unique_values = get_sorted_unique(source_column_name)\n",
    "                if len(source_unique_values) > 0:\n",
    "                    categorical_result_list = source_unique_values\n",
    "                break\n",
    "            elif join_categorical_name != source_join_column_name:\n",
    "                categorical_result = {}\n",
    "                categorical_result[\"name\"] = str(split_code_name(source_column_name,categorical_name))\n",
    "                categorical_result[\"value\"] = str(source_column_name)\n",
    "                categorical_result_list.append(categorical_result) \n",
    "    return categorical_result_list\n",
    "    "
   ]
  },
  {
   "cell_type": "code",
   "execution_count": 391,
   "id": "109e23e5",
   "metadata": {},
   "outputs": [],
   "source": [
    "def get_categorical_value_from_sourcetest(categorical_name):\n",
    "    categorical_result_list = []\n",
    "    source_column_list = df_raw_data.columns.tolist() #------- column from raw data\n",
    "    join_categorical_name = join_column_name(categorical_name) \n",
    "  \n",
    "    for source_column_name in source_column_list:\n",
    "        source_join_column_name = join_column_name(source_column_name)\n",
    "        if join_categorical_name in source_join_column_name:   \n",
    "            if join_categorical_name == source_join_column_name:\n",
    "                source_unique_values = get_sorted_unique(source_column_name)\n",
    "                if len(source_unique_values) > 0:\n",
    "                    categorical_result_list = source_unique_values\n",
    "                break\n",
    "            elif join_categorical_name != source_join_column_name:\n",
    "                categorical_result = {}\n",
    "                categorical_result[\"name\"] = str(source_column_name)\n",
    "                categorical_result[\"value\"] = str(source_column_name)\n",
    "                categorical_result_list.append(categorical_result)\n",
    "    return categorical_result_list\n",
    "    "
   ]
  },
  {
   "cell_type": "code",
   "execution_count": null,
   "id": "06e263a2",
   "metadata": {},
   "outputs": [],
   "source": []
  },
  {
   "cell_type": "code",
   "execution_count": 392,
   "id": "37420e23",
   "metadata": {},
   "outputs": [],
   "source": [
    "#---- value will set when data type is categorical\n",
    "def set_categorical_values(dict_row):\n",
    "    data_categorical_row_group = verify_group(dict_row)\n",
    "    data_categorical_row_type = verify_data_type(dict_row)\n",
    "    data_categorical_row_feature = get_row_feature(dict_row)\n",
    "    dict_categorical_row_values = []\n",
    "    #print(\"[categorical] data type : \",data_type,\" - \",data_feature , \" - \" ,data_group)\n",
    "    #----- verify categorical type---\n",
    "    if data_categorical_row_type == \"categorical\":\n",
    "        #-------------------------------- get category from dfa_template loc \n",
    "        categorical_row_list = dfa_template.loc[dfa_template[\"group\"]==data_categorical_row_feature] #--- get group value from column group\n",
    "        if len(categorical_row_list) > 0 :\n",
    "            for categorical_row_index in range(len(categorical_row_list)):\n",
    "                categorical_row = categorical_row_list.iloc[categorical_row_index]\n",
    "                dict_categorical_row_values.append(set_info_categorical_type(categorical_row))      \n",
    "        else :\n",
    "            #------ when data type categorical but empty value     \n",
    "            dict_categorical_row_values = get_categorical_value_from_source(data_categorical_row_feature)\n",
    "    else :\n",
    "        dict_categorical_row_values = []\n",
    "    return dict_categorical_row_values"
   ]
  },
  {
   "cell_type": "code",
   "execution_count": 393,
   "id": "47634c9a",
   "metadata": {},
   "outputs": [],
   "source": [
    "#---- fields will set when data type is group\n",
    "def set_group_fields(dict_row):\n",
    "    data_group_row_feature = get_row_feature(dict_row)\n",
    "    data_group_row_group = verify_group(dict_row)\n",
    "    data_group_row_type = verify_data_type(dict_row)\n",
    "    dict_group_fields_values = {}\n",
    "    #print(\"[group] data type : \",data_type,\" - \",data_feature , \" - \" ,data_row_group )\n",
    "    if data_group_row_type == \"group\":\n",
    "        #print(\"detect group type - \",data_row_group)\n",
    "        #------------- get loc from dfa_template\n",
    "        group_row_list = dfa_template.loc[dfa_template[\"group\"]==data_group_row_feature]\n",
    "        if len(group_row_list) > 0 :\n",
    "            #dict_group_fields = {}\n",
    "            for group_row_index in range(len(group_row_list)):\n",
    "                group_result_index = {}\n",
    "                #--------------------------\n",
    "                group_row = group_row_list.iloc[group_row_index]\n",
    "                #--------------------------\n",
    "                group_name = get_name(group_row)\n",
    "                group_value = get_row_feature(group_row)\n",
    "                group_value_data_type = verify_data_type(group_row)\n",
    "                #--------------------------\n",
    "                group_result_index[\"name\"] = group_name\n",
    "                group_result_index[\"data_type\"] = group_value_data_type\n",
    "                #-------------------------- \n",
    "                dict_group_fields_values[group_value] = group_result_index\n",
    "        else : \n",
    "            #------ when data type group but empty value\n",
    "            dict_group_fields_values = {}\n",
    "                \n",
    "                \n",
    "        \n",
    "    else :\n",
    "        dict_group_fields_values = {}\n",
    "    #----- find by name like\n",
    "    return dict_group_fields_values\n"
   ]
  },
  {
   "cell_type": "code",
   "execution_count": 394,
   "id": "fb2f82a1",
   "metadata": {},
   "outputs": [],
   "source": [
    "def set_float_min(source_float_column_name):\n",
    "    dict_float_min_value = 0\n",
    "    source_column_list = df_raw_data.columns.tolist()\n",
    "    if source_float_column_name in source_column_list:\n",
    "        #------ get direct unique value\n",
    "        source_min_values = df_raw_data[source_float_column_name].min()\n",
    "        dict_float_min_value = float(source_min_values)\n",
    "    else:\n",
    "        dict_float_min_value = float(0)\n",
    "    \n",
    "    return dict_float_min_value"
   ]
  },
  {
   "cell_type": "code",
   "execution_count": 395,
   "id": "82ffae99",
   "metadata": {},
   "outputs": [],
   "source": [
    "def set_float_max(source_float_column_name):\n",
    "    dict_float_max_value = 0\n",
    "    source_column_list = df_raw_data.columns.tolist()\n",
    "    if source_float_column_name in source_column_list:\n",
    "        #------ get direct unique value\n",
    "        source_max_values = df_raw_data[source_float_column_name].max()\n",
    "        dict_float_max_value = float(source_max_values)\n",
    "    else:\n",
    "        dict_float_max_value = float(0)\n",
    "    return dict_float_max_value\n",
    "    "
   ]
  },
  {
   "cell_type": "code",
   "execution_count": 396,
   "id": "93bb3e03",
   "metadata": {},
   "outputs": [],
   "source": [
    "#----- detect data type and add fields\n",
    "def set_fields_by_data_type(dict_row,dict_row_value):\n",
    "    data_type = verify_data_type(dict_row)\n",
    "    row_group = verify_group(dict_row)\n",
    "    data_feature = get_row_feature(dict_row)\n",
    "    dict_row_value_verify_type = {}\n",
    "    if  data_type == \"string\":\n",
    "        dict_row_value[\"aggregatable\"] = get_row_aggregatable(dict_row)\n",
    "    elif data_type == \"categorical\":\n",
    "        dict_row_value[\"selection\"] = get_row_selection(dict_row)\n",
    "        dict_row_value[\"values\"] = set_categorical_values(dict_row)\n",
    "    elif data_type == \"group\":\n",
    "        dict_row_value[\"fields\"]= set_group_fields(dict_row)\n",
    "    elif data_type == \"float\":\n",
    "        dict_row_value[\"max_value\"] = set_float_max(data_feature) #------------ get max from other source value\n",
    "        dict_row_value[\"min_value\"] = set_float_min(data_feature) #------------ get min from other source value\n",
    "    \n",
    "    return dict_row_value\n"
   ]
  },
  {
   "cell_type": "code",
   "execution_count": 397,
   "id": "5e93eb65",
   "metadata": {},
   "outputs": [],
   "source": [
    "def set_row_data(row_index):\n",
    "    dict_row = dfa_template.iloc[row_index] #---- get iloc row\n",
    "    #____________________________________________________\n",
    "    dict_row_group = verify_group(dict_row) #---- group\n",
    "    dict_row_feature = get_row_feature(dict_row) #---- feature\n",
    "    dict_row_data_type = verify_data_type(dict_row) #---- data_type\n",
    "    dict_row_selection = get_row_selection(dict_row) #---- selection\n",
    "    dict_row_name = get_name(dict_row) #---- name \n",
    "    dict_row_description = get_row_description(dict_row) #---- description\n",
    "    dict_row_aggregatable = get_row_description(dict_row) #---- aggregatable\n",
    "    set_row_to_json(dict_row)\n",
    "    return dict_row"
   ]
  },
  {
   "cell_type": "code",
   "execution_count": 398,
   "id": "2eda4138",
   "metadata": {},
   "outputs": [],
   "source": [
    "def set_fields_convert_data(dict_row):\n",
    "    dict_row_value = {}\n",
    "    dict_row_value = {\n",
    "    #---------- Default value ---------------\n",
    "    \"name\":get_name(dict_row),\n",
    "    \"description\":get_row_description(dict_row),\n",
    "    \"data_type\":verify_data_type(dict_row),\n",
    "    }\n",
    "    dict_row_value.update(set_fields_by_data_type(dict_row,dict_row_value))\n",
    "    return dict_row_value"
   ]
  },
  {
   "cell_type": "code",
   "execution_count": 399,
   "id": "47384d09",
   "metadata": {},
   "outputs": [],
   "source": [
    "for data_row in range(len(dfa_template)):\n",
    "    set_row_data(data_row)"
   ]
  },
  {
   "cell_type": "code",
   "execution_count": 400,
   "id": "214975ee",
   "metadata": {},
   "outputs": [],
   "source": [
    "def json_meta_data_result(model_type):\n",
    "    #----- Json 1 space tab [model,client,fields]\n",
    "    json_data_first_space = {\n",
    "        \"model\": model_type,\n",
    "        \"client\": customer_code,\n",
    "        \"fields\": dict_json_row\n",
    "    }\n",
    "    return json_data_first_space"
   ]
  },
  {
   "cell_type": "code",
   "execution_count": null,
   "id": "21e55a6f",
   "metadata": {},
   "outputs": [],
   "source": [
    "json_meta_data_result(model_type)"
   ]
  },
  {
   "cell_type": "code",
   "execution_count": null,
   "id": "544a2e96",
   "metadata": {},
   "outputs": [],
   "source": []
  },
  {
   "cell_type": "code",
   "execution_count": null,
   "id": "cbbf162d",
   "metadata": {},
   "outputs": [],
   "source": []
  },
  {
   "cell_type": "code",
   "execution_count": null,
   "id": "c979ac3a",
   "metadata": {},
   "outputs": [],
   "source": []
  },
  {
   "cell_type": "code",
   "execution_count": null,
   "id": "ea8c7fcb",
   "metadata": {},
   "outputs": [],
   "source": []
  },
  {
   "cell_type": "code",
   "execution_count": null,
   "id": "f5296235",
   "metadata": {},
   "outputs": [],
   "source": []
  },
  {
   "cell_type": "code",
   "execution_count": null,
   "id": "1cbeb344",
   "metadata": {},
   "outputs": [],
   "source": []
  },
  {
   "cell_type": "code",
   "execution_count": null,
   "id": "722f8526",
   "metadata": {},
   "outputs": [],
   "source": []
  },
  {
   "cell_type": "code",
   "execution_count": null,
   "id": "70820bb6",
   "metadata": {},
   "outputs": [],
   "source": []
  },
  {
   "cell_type": "code",
   "execution_count": null,
   "id": "22c8360d",
   "metadata": {},
   "outputs": [],
   "source": []
  },
  {
   "cell_type": "code",
   "execution_count": null,
   "id": "9b959c5d",
   "metadata": {},
   "outputs": [],
   "source": []
  },
  {
   "cell_type": "code",
   "execution_count": null,
   "id": "3621e44d",
   "metadata": {},
   "outputs": [],
   "source": []
  },
  {
   "cell_type": "code",
   "execution_count": null,
   "id": "0a468e56",
   "metadata": {},
   "outputs": [],
   "source": []
  },
  {
   "cell_type": "code",
   "execution_count": null,
   "id": "00a49ea6",
   "metadata": {},
   "outputs": [],
   "source": []
  },
  {
   "cell_type": "code",
   "execution_count": null,
   "id": "d5ad449f",
   "metadata": {},
   "outputs": [],
   "source": []
  }
 ],
 "metadata": {
  "kernelspec": {
   "display_name": "Python 3 (ipykernel)",
   "language": "python",
   "name": "python3"
  },
  "language_info": {
   "codemirror_mode": {
    "name": "ipython",
    "version": 3
   },
   "file_extension": ".py",
   "mimetype": "text/x-python",
   "name": "python",
   "nbconvert_exporter": "python",
   "pygments_lexer": "ipython3",
   "version": "3.10.5"
  }
 },
 "nbformat": 4,
 "nbformat_minor": 5
}
