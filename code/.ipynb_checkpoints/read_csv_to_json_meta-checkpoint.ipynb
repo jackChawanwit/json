{
 "cells": [
  {
   "cell_type": "code",
   "execution_count": 103,
   "id": "99a74022",
   "metadata": {},
   "outputs": [],
   "source": [
    "import pandas as pds\n",
    "import json \n",
    "import math as mt\n",
    "import os\n",
    "#df_raw_data = pds.read_csv(r'C:\\Users\\Chawanwit\\Desktop\\doc\\bucket\\ascentis\\part-00000-3e003a3a-c205-4bdd-b203-7bb4eb36b325-c000.csv')\n",
    "#df_raw_data = pds.read_csv(r'C:\\Users\\Chawanwit\\Desktop\\doc\\bucket\\ascentis\\part-00000-ef446fd3-e48a-447e-899b-da28ca55d6fc-c000.csv')\n",
    "#dfa_template = pds.read_csv(r'C:\\Users\\Chawanwit\\Desktop\\doc\\bucket\\ascentis\\asc_json_mapper_template_23082022.csv')\n"
   ]
  },
  {
   "cell_type": "code",
   "execution_count": 104,
   "id": "ab925abf",
   "metadata": {},
   "outputs": [],
   "source": [
    "model_type = \"\"\n",
    "model_type_template_path = \"\"\n",
    "model_type_raw_data_path =\"\""
   ]
  },
  {
   "cell_type": "code",
   "execution_count": 174,
   "id": "8c19d2cb",
   "metadata": {},
   "outputs": [],
   "source": [
    "def get_template_path_by_model_type(model_type):\n",
    "    if model_type == \"uc1m1\" :\n",
    "        model_type_template_path = r'C:\\Users\\Chawanwit\\Desktop\\doc\\bucket\\ascentis\\uc1m1_asc_json_meta_template.csv'\n",
    "    elif model_type == \"uc1m2\" :\n",
    "        model_type_template_path = r'C:\\Users\\Chawanwit\\Desktop\\doc\\bucket\\ascentis\\uc1m2_asc_json_meta_template.csv'\n",
    "    elif model_type == \"uc1m3\" :\n",
    "        model_type_template_path = r'C:\\Users\\Chawanwit\\Desktop\\doc\\bucket\\ascentis\\uc1m3_asc_json_meta_template.csv'\n",
    "    elif model_type == \"uc2m1\" :\n",
    "        model_type_template_path = r'C:\\Users\\Chawanwit\\Desktop\\doc\\bucket\\ascentis\\uc2m1_asc_json_meta_template.csv'\n",
    "    elif model_type == \"uc2m3\" :\n",
    "        model_type_template_path = r'C:\\Users\\Chawanwit\\Desktop\\doc\\bucket\\ascentis\\uc1m3_asc_json_meta_template.csv'\n",
    "    else :\n",
    "        model_type_template_path = r'C:\\Users\\Chawanwit\\Desktop\\doc\\bucket\\ascentis\\asc_json_mapper_template_23082022.csv'\n",
    "    return model_type_template_path\n",
    "    \n",
    "    "
   ]
  },
  {
   "cell_type": "code",
   "execution_count": 175,
   "id": "1a507b91",
   "metadata": {},
   "outputs": [],
   "source": [
    "def get_raw_data_path_by_model_type(model_type):\n",
    "    if model_type == \"uc1m1\" :\n",
    "        model_type_raw_data_path = r'C:\\Users\\Chawanwit\\Desktop\\doc\\bucket\\ascentis\\part-00000-ef446fd3-e48a-447e-899b-da28ca55d6fc-c000.csv'\n",
    "\n",
    "    elif model_type == \"uc1m2\" :\n",
    "        model_type_raw_data_path = r'C:\\Users\\Chawanwit\\Desktop\\doc\\bucket\\ascentis\\u01m02_raw_data.csv'\n",
    "\n",
    "    elif model_type == \"uc1m3\" :\n",
    "        model_type_raw_data_path = r'C:\\Users\\Chawanwit\\Desktop\\doc\\bucket\\ascentis\\u01m03_raw_data.csv'\n",
    "\n",
    "    elif model_type == \"uc2m1\" :\n",
    "        model_type_raw_data_path = r'C:\\Users\\Chawanwit\\Desktop\\doc\\bucket\\ascentis\\u02m01_raw_data.csv'\n",
    "\n",
    "    elif model_type == \"uc2m3\" :\n",
    "        model_type_raw_data_path = r'C:\\Users\\Chawanwit\\Desktop\\doc\\bucket\\ascentis\\u02m03_raw_data.csv'\n",
    "    else :\n",
    "        model_type_raw_data_path = r'C:\\Users\\Chawanwit\\Desktop\\doc\\bucket\\ascentis\\part-00000-ef446fd3-e48a-447e-899b-da28ca55d6fc-c000.csv'\n",
    "    return model_type_raw_data_path\n",
    "    \n",
    "    \n"
   ]
  },
  {
   "cell_type": "code",
   "execution_count": null,
   "id": "53c48a1d",
   "metadata": {},
   "outputs": [],
   "source": []
  },
  {
   "cell_type": "code",
   "execution_count": null,
   "id": "30c753d4",
   "metadata": {},
   "outputs": [],
   "source": []
  },
  {
   "cell_type": "code",
   "execution_count": 229,
   "id": "584f71f8",
   "metadata": {},
   "outputs": [],
   "source": [
    "#model_type = @model_type\n",
    "model_type = \"uc1m1\"\n",
    "#customer_code = @client_customercode\n",
    "customer_code = \"feomall\"\n",
    "#----------------------------[ Set input path by model type ]-------------------------------------------\n",
    "model_type_template_path = get_template_path_by_model_type(model_type)\n",
    "model_type_raw_data_path = get_raw_data_path_by_model_type(model_type)\n",
    "#----------------------------[ Get template & data set by path ]----------------------------------------\n",
    "df_raw_data = pds.read_csv(model_type_raw_data_path)\n",
    "dfa_template = pds.read_csv(model_type_template_path)\n",
    "#----------------------------[ Get sort&sequence standard ]---------------------------------------------\n",
    "dfa_sort_value_standard = pds.read_csv(r'C:\\Users\\Chawanwit\\Desktop\\doc\\bucket\\ascentis\\ascentis_std_mapping.csv')\n",
    "dfa_card_tier_sort = pds.read_csv(r'C:\\Users\\Chawanwit\\Desktop\\doc\\bucket\\ascentis\\crm_raw_membershiptypetier_202208291357.csv') \n",
    "dfa_rfm_segment = pds.read_csv(r'C:\\Users\\Chawanwit\\Desktop\\doc\\bucket\\ascentis\\dim_rfm_202208291411.csv')\n",
    "\n",
    "\n"
   ]
  },
  {
   "cell_type": "code",
   "execution_count": null,
   "id": "ff8eb0cd",
   "metadata": {},
   "outputs": [],
   "source": []
  },
  {
   "cell_type": "code",
   "execution_count": null,
   "id": "595b74e9",
   "metadata": {},
   "outputs": [],
   "source": []
  },
  {
   "cell_type": "code",
   "execution_count": 230,
   "id": "37a4f404",
   "metadata": {},
   "outputs": [],
   "source": [
    "dict_row_value = {}\n",
    "dict_value_data = {}\n",
    "dict_row_group = {}\n",
    "dict_json_row = {}"
   ]
  },
  {
   "cell_type": "code",
   "execution_count": 231,
   "id": "a47947de",
   "metadata": {},
   "outputs": [],
   "source": [
    "#for col in dfa_template.columns:\n",
    "#    print(col)\n",
    "#    dict_list_temp[col]= dfa_template[col].tolist()"
   ]
  },
  {
   "cell_type": "code",
   "execution_count": 232,
   "id": "97cf05ee",
   "metadata": {},
   "outputs": [],
   "source": [
    "#dfa_template"
   ]
  },
  {
   "cell_type": "code",
   "execution_count": 233,
   "id": "4d9647bd",
   "metadata": {},
   "outputs": [
    {
     "name": "stdout",
     "output_type": "stream",
     "text": [
      "C:/Users/Chawanwit/Desktop/doc/bucket/ascentis/uc1m3_ads_asc_json_meta_template.csv\n"
     ]
    }
   ],
   "source": [
    "md = \"uc1m3\"\n",
    "pt = r'C:\\Users\\Chawanwit\\Desktop\\doc\\bucket\\ascentis\\\"'\n",
    "model_th = md+'_ads_asc_json_meta_template.csv'\n",
    "\n",
    "\n",
    "\n",
    "\n",
    "path= 'C:/Users/Chawanwit/Desktop/doc/bucket/ascentis/'\n",
    "aaa = os.path.join(path, model_th).replace(\"\\\\\",\"/\")\n",
    "\n",
    "print(aaa)"
   ]
  },
  {
   "cell_type": "code",
   "execution_count": null,
   "id": "4456d9a1",
   "metadata": {},
   "outputs": [],
   "source": []
  },
  {
   "cell_type": "code",
   "execution_count": 234,
   "id": "9d663e03",
   "metadata": {},
   "outputs": [
    {
     "data": {
      "text/plain": [
       "'uc1m3_ads_asc_json_meta_template.csv'"
      ]
     },
     "execution_count": 234,
     "metadata": {},
     "output_type": "execute_result"
    }
   ],
   "source": [
    "model_th"
   ]
  },
  {
   "cell_type": "code",
   "execution_count": 235,
   "id": "26014516",
   "metadata": {},
   "outputs": [],
   "source": [
    "#print(\"Value of row 1\")\n",
    "#display(dfa_template.iloc[1])"
   ]
  },
  {
   "cell_type": "code",
   "execution_count": 236,
   "id": "fc9b055b",
   "metadata": {},
   "outputs": [],
   "source": [
    "#len(dfa_template)"
   ]
  },
  {
   "cell_type": "code",
   "execution_count": 237,
   "id": "84819678",
   "metadata": {},
   "outputs": [],
   "source": [
    "#for template_row in range(len(dfa_template)):\n",
    "#    print(template_row)\n"
   ]
  },
  {
   "cell_type": "code",
   "execution_count": 238,
   "id": "ccc5c338",
   "metadata": {},
   "outputs": [],
   "source": [
    "#exclude = [\"member_notify\"]\n",
    "#include = [\"nan\"]"
   ]
  },
  {
   "cell_type": "code",
   "execution_count": 239,
   "id": "150fc166",
   "metadata": {},
   "outputs": [],
   "source": [
    "#for exclude_row in dfa_template[\"group\"] if exclude_row not in exclude :\n",
    " #   print(exclude_row)\n",
    "    \n",
    "#filtered=[exclude_row for exclude_row in dfa_template[\"group\"] if exclude_row == \"member_notify\"]    "
   ]
  },
  {
   "cell_type": "code",
   "execution_count": 240,
   "id": "384d8a53",
   "metadata": {},
   "outputs": [],
   "source": [
    "#filtered"
   ]
  },
  {
   "cell_type": "code",
   "execution_count": 241,
   "id": "6c7f4f17",
   "metadata": {},
   "outputs": [],
   "source": [
    "#for exclude_row in dfa_template[\"group\"]:\n",
    "#    if exclude_row == \"member_notify\":\n",
    " #       print(exclude_row)"
   ]
  },
  {
   "cell_type": "code",
   "execution_count": null,
   "id": "26e60825",
   "metadata": {},
   "outputs": [],
   "source": []
  },
  {
   "cell_type": "code",
   "execution_count": null,
   "id": "8e2eae25",
   "metadata": {},
   "outputs": [],
   "source": []
  },
  {
   "cell_type": "code",
   "execution_count": null,
   "id": "d8511869",
   "metadata": {},
   "outputs": [],
   "source": []
  },
  {
   "cell_type": "code",
   "execution_count": 242,
   "id": "a5b14f7e",
   "metadata": {},
   "outputs": [],
   "source": [
    "dict_fields = {} #--- feilds in space 1 \n",
    "dict_json_row = {}"
   ]
  },
  {
   "cell_type": "code",
   "execution_count": null,
   "id": "6cf3de99",
   "metadata": {},
   "outputs": [],
   "source": []
  },
  {
   "cell_type": "code",
   "execution_count": 243,
   "id": "1ecaac49",
   "metadata": {},
   "outputs": [],
   "source": [
    "#verify data group\n",
    "def verify_group(dict_row):\n",
    "    dict_row_group = dict_row[\"group\"] \n",
    "    return dict_row_group"
   ]
  },
  {
   "cell_type": "code",
   "execution_count": 244,
   "id": "eefc6139",
   "metadata": {},
   "outputs": [],
   "source": [
    "#get row feature\n",
    "def get_row_feature(dict_row):\n",
    "    dict_row_feature = dict_row[\"feature\"]\n",
    "    return dict_row_feature"
   ]
  },
  {
   "cell_type": "code",
   "execution_count": 245,
   "id": "b4d61227",
   "metadata": {},
   "outputs": [],
   "source": [
    "#verify data type\n",
    "def verify_data_type(dict_row):\n",
    "    dict_row_data_type = dict_row[\"data_type\"]\n",
    "    #---- verify special data type\n",
    "    return dict_row_data_type"
   ]
  },
  {
   "cell_type": "code",
   "execution_count": 246,
   "id": "88fd9834",
   "metadata": {},
   "outputs": [],
   "source": [
    "#get row selection\n",
    "def get_row_selection(dict_row):\n",
    "    dict_row_selection = dict_row[\"selection\"]\n",
    "    return dict_row_selection\n"
   ]
  },
  {
   "cell_type": "code",
   "execution_count": 247,
   "id": "cac069d3",
   "metadata": {},
   "outputs": [],
   "source": [
    "#get row name\n",
    "def get_name(dict_row):\n",
    "    dict_row_name = dict_row[\"name\"]\n",
    "    #---- verify special data type\n",
    "    if pds.isna(dict_row_name):\n",
    "        dict_row_name = \"\"\n",
    "    return dict_row_name\n",
    "\n"
   ]
  },
  {
   "cell_type": "code",
   "execution_count": 248,
   "id": "161ab0d3",
   "metadata": {},
   "outputs": [],
   "source": [
    "#get row description\n",
    "def get_row_description(dict_row):\n",
    "    dict_row_description = dict_row[\"description\"]\n",
    "    if pds.isna(dict_row_description):\n",
    "        dict_row_description = \"\"\n",
    "    return dict_row_description\n",
    "\n",
    "\n",
    "\n",
    "\n"
   ]
  },
  {
   "cell_type": "code",
   "execution_count": 249,
   "id": "61619d14",
   "metadata": {},
   "outputs": [],
   "source": [
    "#get row aggregatable\n",
    "def get_row_aggregatable(dict_row):\n",
    "    dict_row_aggregatable = dict_row[\"aggregatable\"]\n",
    "    if pds.isna(dict_row_aggregatable):\n",
    "        dict_row_aggregatable = \"\"\n",
    "    return dict_row_aggregatable\n"
   ]
  },
  {
   "cell_type": "code",
   "execution_count": 250,
   "id": "acd071bc",
   "metadata": {},
   "outputs": [],
   "source": [
    "#set json row [ { \"feature\" : set_fields_convert_data  }]\n",
    "def set_row_to_json(dict_row):\n",
    "    data_type  = verify_data_type(dict_row)\n",
    "    dict_row_group = verify_group(dict_row)\n",
    "    if pds.isna(dict_row_group):\n",
    "        dict_json_row[dict_row[\"feature\"]] = set_fields_convert_data(dict_row)\n",
    "    \n"
   ]
  },
  {
   "cell_type": "code",
   "execution_count": null,
   "id": "a8af590b",
   "metadata": {},
   "outputs": [],
   "source": []
  },
  {
   "cell_type": "code",
   "execution_count": 251,
   "id": "69367009",
   "metadata": {},
   "outputs": [],
   "source": [
    "def join_column_name(column_name):\n",
    "    split_column_name = column_name.split(\"_\")\n",
    "    column_name = (\"\").join(split_column_name)\n",
    "    return column_name"
   ]
  },
  {
   "cell_type": "code",
   "execution_count": 252,
   "id": "c2afc971",
   "metadata": {},
   "outputs": [],
   "source": [
    "#----- set info to categorical\n",
    "def set_info_categorical_type(categorical_row):\n",
    "    categorical_result = {}\n",
    "    categorical_name = get_name(categorical_row)\n",
    "    categorical_value = get_row_feature(categorical_row)\n",
    "    categorical_result[\"name\"] = categorical_name\n",
    "    categorical_result[\"value\"] = categorical_value\n",
    "    return categorical_result"
   ]
  },
  {
   "cell_type": "code",
   "execution_count": null,
   "id": "690ba131",
   "metadata": {},
   "outputs": [],
   "source": []
  },
  {
   "cell_type": "code",
   "execution_count": 253,
   "id": "6c778887",
   "metadata": {},
   "outputs": [],
   "source": [
    "domain_type_list = dfa_sort_value_standard[\"domain\"].unique()"
   ]
  },
  {
   "cell_type": "code",
   "execution_count": 254,
   "id": "179008e4",
   "metadata": {},
   "outputs": [],
   "source": [
    "rfm_segment_value_list = dfa_rfm_segment[\"rfmsegment\"].unique()"
   ]
  },
  {
   "cell_type": "code",
   "execution_count": null,
   "id": "18707713",
   "metadata": {},
   "outputs": [],
   "source": []
  },
  {
   "cell_type": "code",
   "execution_count": 255,
   "id": "8bdeade0",
   "metadata": {},
   "outputs": [],
   "source": [
    "def sorted_source_unique_mapper(source_column_name):\n",
    "    source_unique_values = []\n",
    "    categorical_result_list =[]\n",
    "    source_unique_values = sorted(df_raw_data[source_column_name].unique())\n",
    "    if len(source_unique_values) > 0:\n",
    "        for unique_values in source_unique_values:\n",
    "            categorical_result = {}\n",
    "            categorical_result[\"name\"] = unique_values\n",
    "            categorical_result[\"value\"] = unique_values\n",
    "            categorical_result_list.append(categorical_result)\n",
    "    return categorical_result_list"
   ]
  },
  {
   "cell_type": "code",
   "execution_count": 256,
   "id": "41a96982",
   "metadata": {},
   "outputs": [],
   "source": [
    "#----- get uniqueue std_value sort by order\n",
    "def sorted_domain_unique_mapper(source_column_name):\n",
    "    categorical_result_list = []\n",
    "    domain_values = []\n",
    "    source_domain_column_name = join_column_name(source_column_name)\n",
    "    for sort_type in domain_type_list:\n",
    "        if sort_type in source_domain_column_name :\n",
    "            #domain_list = dfa_sort_value_standard.loc[dfa_sort_value_standard[\"domain\"]==sort_type]\n",
    "            domain_list = dfa_sort_value_standard.loc[dfa_sort_value_standard[\"domain\"]==sort_type].drop_duplicates(subset='std_values').sort_values(by=['std_order'])\n",
    "            for row_index in domain_list.index :\n",
    "                #print(domain_list[\"std_name\"].notna(),\"type - \",type(domain_list[\"std_name\"].notna()),\"-\",row_index)\n",
    "                categorical_result = {}\n",
    "                if str(domain_list[\"std_name\"][row_index]) != \"nan\" :\n",
    "                    categorical_result[\"name\"] = str(domain_list[\"std_values\"][row_index])\n",
    "                    categorical_result[\"value\"] = str(domain_list[\"std_name\"][row_index])\n",
    "                else:\n",
    "                    categorical_result[\"name\"] = str(domain_list[\"std_values\"][row_index])\n",
    "                    categorical_result[\"value\"] = str(domain_list[\"std_values\"][row_index])\n",
    "                categorical_result_list.append(categorical_result)\n",
    "            #---- if [std_value] have value return value in [std_value]\n",
    "            #domain_values = domain_list.drop_duplicates(subset = [\"std_values\"]).sort_values(by=['std_order'])[\"std_values\"]\n",
    "            \n",
    "            \n",
    "    return categorical_result_list"
   ]
  },
  {
   "cell_type": "code",
   "execution_count": 364,
   "id": "f00c052f",
   "metadata": {},
   "outputs": [],
   "source": [
    "def get_sorted_unique(source_column_name):\n",
    "   # print(\"[sort-unique]-\",source_column_name)\n",
    "    source_unique_values = []\n",
    "    source_unique_values = sorted_domain_unique_mapper(source_column_name)\n",
    "    #print(\"[sort-unique] len -\",len(source_unique_values))\n",
    "    if len(source_unique_values) <= 0:\n",
    "        #print(\"[sort-unique]-\",source_column_name)\n",
    "        source_unique_values = sorted_source_unique_mapper(source_column_name)\n",
    "    return source_unique_values"
   ]
  },
  {
   "cell_type": "code",
   "execution_count": null,
   "id": "795047c0",
   "metadata": {},
   "outputs": [],
   "source": []
  },
  {
   "cell_type": "code",
   "execution_count": 258,
   "id": "ba471604",
   "metadata": {},
   "outputs": [],
   "source": [
    "def get_categorical_value_from_source(categorical_name):\n",
    "    categorical_result_list = []\n",
    "    source_column_list = df_raw_data.columns.tolist() #------- column from raw data\n",
    "    join_categorical_name = join_column_name(categorical_name) \n",
    "  \n",
    "    for source_column_name in source_column_list:\n",
    "        source_join_column_name = join_column_name(source_column_name)\n",
    "        if join_categorical_name in source_join_column_name:\n",
    "            if join_categorical_name == source_join_column_name:\n",
    "                print(\"[sort]-\",source_column_name)\n",
    "                #source_unique_values = sorted(df_raw_data[source_column_name].unique())\n",
    "                source_unique_values = get_sorted_unique(source_column_name)\n",
    "                if len(source_unique_values) > 0:\n",
    "                    categorical_result_list = source_unique_values\n",
    "                    #for source_unique in source_unique_values:\n",
    "                    #    categorical_result = {}\n",
    "                    #    categorical_result[\"name\"] = str(source_unique)\n",
    "                    #    categorical_result[\"value\"] = str(source_unique)\n",
    "                    #    categorical_result_list.append(categorical_result)\n",
    "                break\n",
    "            elif join_categorical_name != source_join_column_name:\n",
    "                #----------------------------------\n",
    "                categorical_result = {}\n",
    "                categorical_result[\"name\"] = str(source_column_name)\n",
    "                categorical_result[\"value\"] = str(source_column_name)\n",
    "                categorical_result_list.append(categorical_result)\n",
    "\n",
    "    return categorical_result_list\n",
    "    \n",
    "    "
   ]
  },
  {
   "cell_type": "code",
   "execution_count": 259,
   "id": "37e454df",
   "metadata": {},
   "outputs": [],
   "source": [
    "#----- set info to group\n",
    "def set_info_group_type(group_row):\n",
    "    group_name = get_name(group_row)\n",
    "    group_feature = get_row_feature(group_row)\n",
    "    group_value_data_type = verify_data_type(group_row)\n",
    "    group_result_index[\"name\"] = grp_name\n",
    "    group_result_index[\"data_type\"] = group_value_data_type   \n",
    "    dict_group_row_value[group_feature] = group_result_index\n",
    "    return \"\"\n",
    "    \n",
    "    "
   ]
  },
  {
   "cell_type": "code",
   "execution_count": null,
   "id": "ba0b4ab6",
   "metadata": {},
   "outputs": [],
   "source": []
  },
  {
   "cell_type": "code",
   "execution_count": null,
   "id": "08fee55a",
   "metadata": {},
   "outputs": [],
   "source": []
  },
  {
   "cell_type": "code",
   "execution_count": 260,
   "id": "e8d45ccc",
   "metadata": {},
   "outputs": [],
   "source": [
    "#---- value will set when data type is categorical\n",
    "def set_categorical_values(dict_row):\n",
    "    data_categorical_row_group = verify_group(dict_row)\n",
    "    data_categorical_row_type = verify_data_type(dict_row)\n",
    "    data_categorical_row_feature = get_row_feature(dict_row)\n",
    "    dict_categorical_row_values = []\n",
    "    #print(\"[categorical] data type : \",data_type,\" - \",data_feature , \" - \" ,data_group)\n",
    "    #----- verify categorical type---\n",
    "    if data_categorical_row_type == \"categorical\":\n",
    "        #-------------------------------- get category from dfa_template loc \n",
    "        categorical_row_list = dfa_template.loc[dfa_template[\"group\"]==data_categorical_row_feature] #--- get group value from column group\n",
    "        if len(categorical_row_list) > 0 :\n",
    "            for categorical_row_index in range(len(categorical_row_list)):\n",
    "                categorical_row = categorical_row_list.iloc[categorical_row_index]\n",
    "                dict_categorical_row_values.append(set_info_categorical_type(categorical_row))      \n",
    "        else :\n",
    "            #------ when data type categorical but empty value\n",
    "            dict_categorical_row_values = get_categorical_value_from_source(data_categorical_row_feature)\n",
    "    else :\n",
    "        dict_categorical_row_values = []\n",
    "    return dict_categorical_row_values"
   ]
  },
  {
   "cell_type": "code",
   "execution_count": 261,
   "id": "a4baf238",
   "metadata": {},
   "outputs": [],
   "source": [
    "#---- fields will set when data type is group\n",
    "def set_group_fields(dict_row):\n",
    "    data_group_row_feature = get_row_feature(dict_row)\n",
    "    data_group_row_group = verify_group(dict_row)\n",
    "    data_group_row_type = verify_data_type(dict_row)\n",
    "    dict_group_fields_values = {}\n",
    "    #print(\"[group] data type : \",data_type,\" - \",data_feature , \" - \" ,data_row_group )\n",
    "    if data_group_row_type == \"group\":\n",
    "        #print(\"detect group type - \",data_row_group)\n",
    "        #------------- get loc from dfa_template\n",
    "        group_row_list = dfa_template.loc[dfa_template[\"group\"]==data_group_row_feature]\n",
    "        if len(group_row_list) > 0 :\n",
    "            #dict_group_fields = {}\n",
    "            for group_row_index in range(len(group_row_list)):\n",
    "                group_result_index = {}\n",
    "                #--------------------------\n",
    "                group_row = group_row_list.iloc[group_row_index]\n",
    "                #--------------------------\n",
    "                group_name = get_name(group_row)\n",
    "                group_value = get_row_feature(group_row)\n",
    "                group_value_data_type = verify_data_type(group_row)\n",
    "                #--------------------------\n",
    "                group_result_index[\"name\"] = group_name\n",
    "                group_result_index[\"data_type\"] = group_value_data_type\n",
    "                #-------------------------- \n",
    "                dict_group_fields_values[group_value] = group_result_index\n",
    "        else : \n",
    "            #------ when data type group but empty value\n",
    "            dict_group_fields_values = {}\n",
    "                \n",
    "                \n",
    "        \n",
    "    else :\n",
    "        dict_group_fields_values = {}\n",
    "    #----- find by name like\n",
    "    return dict_group_fields_values\n"
   ]
  },
  {
   "cell_type": "code",
   "execution_count": null,
   "id": "1ad20f58",
   "metadata": {},
   "outputs": [],
   "source": []
  },
  {
   "cell_type": "code",
   "execution_count": 262,
   "id": "55d97241",
   "metadata": {},
   "outputs": [],
   "source": [
    "def set_float_min(source_float_column_name):\n",
    "    dict_float_min_value = 0\n",
    "    source_column_list = df_raw_data.columns.tolist()\n",
    "    if source_float_column_name in source_column_list:\n",
    "        #------ get direct unique value\n",
    "        source_min_values = df_raw_data[source_float_column_name].min()\n",
    "        dict_float_min_value = float(source_min_values)\n",
    "    else:\n",
    "        dict_float_min_value = float(0)\n",
    "    \n",
    "    return dict_float_min_value"
   ]
  },
  {
   "cell_type": "code",
   "execution_count": 263,
   "id": "5c6008ce",
   "metadata": {},
   "outputs": [],
   "source": [
    "def set_float_max(source_float_column_name):\n",
    "    dict_float_max_value = 0\n",
    "    source_column_list = df_raw_data.columns.tolist()\n",
    "    if source_float_column_name in source_column_list:\n",
    "        #------ get direct unique value\n",
    "        source_max_values = df_raw_data[source_float_column_name].max()\n",
    "        dict_float_max_value = float(source_max_values)\n",
    "    else:\n",
    "        dict_float_max_value = float(0)\n",
    "    return dict_float_max_value\n",
    "    "
   ]
  },
  {
   "cell_type": "code",
   "execution_count": null,
   "id": "a9b7b686",
   "metadata": {},
   "outputs": [],
   "source": []
  },
  {
   "cell_type": "code",
   "execution_count": 264,
   "id": "b60cab55",
   "metadata": {},
   "outputs": [],
   "source": [
    "#----- detect data type and add fields\n",
    "def set_fields_by_data_type(dict_row,dict_row_value):\n",
    "    data_type = verify_data_type(dict_row)\n",
    "    row_group = verify_group(dict_row)\n",
    "    data_feature = get_row_feature(dict_row)\n",
    "    dict_row_value_verify_type = {}\n",
    "    if  data_type == \"string\":\n",
    "        dict_row_value[\"aggregatable\"] = get_row_aggregatable(dict_row)\n",
    "    elif data_type == \"categorical\":\n",
    "        dict_row_value[\"selection\"] = get_row_selection(dict_row)\n",
    "        dict_row_value[\"values\"] = set_categorical_values(dict_row)\n",
    "    elif data_type == \"group\":\n",
    "        dict_row_value[\"fields\"]= set_group_fields(dict_row)\n",
    "    elif data_type == \"float\":\n",
    "        dict_row_value[\"max_value\"] = set_float_max(data_feature) #------------ get max from other source value\n",
    "        dict_row_value[\"min_value\"] = set_float_min(data_feature) #------------ get min from other source value\n",
    "    \n",
    "    return dict_row_value\n"
   ]
  },
  {
   "cell_type": "code",
   "execution_count": null,
   "id": "7e604dcb",
   "metadata": {},
   "outputs": [],
   "source": []
  },
  {
   "cell_type": "code",
   "execution_count": 265,
   "id": "89ce40f5",
   "metadata": {},
   "outputs": [],
   "source": [
    "def set_fields_convert_data1(dict_row):\n",
    "    dict_row_value = {}\n",
    "    dict_row_value = {\n",
    "    #---------- Default value ---------------\n",
    "    \"name\":get_name(dict_row),\n",
    "    \"description\":get_row_description(dict_row),\n",
    "    \"data_type\":verify_data_type(dict_row),\n",
    "    #---------- data type string -------------    \n",
    "    \"aggregatable\":get_row_aggregatable(dict_row),\n",
    "    #-----------data type categorical -----------------    \n",
    "    \"selection\":get_row_selection(dict_row),\n",
    "    \"values\":set_categorical_values(dict_row), #------ value set when data_type is categorical\n",
    "    #----------- Type float ------------------ \n",
    "    \"max_value\":1,\n",
    "    \"min_value\":0,\n",
    "    #----------- data type group -----------------\n",
    "    \"fields\":set_group_fields(dict_row) #---- special case with transact\n",
    "}\n",
    "    #dict_row_value.update(set_fields_by_data_type(dict_row,dict_row_value))\n",
    "    return dict_row_value"
   ]
  },
  {
   "cell_type": "code",
   "execution_count": null,
   "id": "ddbcb828",
   "metadata": {},
   "outputs": [],
   "source": []
  },
  {
   "cell_type": "code",
   "execution_count": 266,
   "id": "10dc7e00",
   "metadata": {},
   "outputs": [],
   "source": [
    "def set_fields_convert_data(dict_row):\n",
    "    dict_row_value = {}\n",
    "    dict_row_value = {\n",
    "    #---------- Default value ---------------\n",
    "    \"name\":get_name(dict_row),\n",
    "    \"description\":get_row_description(dict_row),\n",
    "    \"data_type\":verify_data_type(dict_row),\n",
    "    }\n",
    "    dict_row_value.update(set_fields_by_data_type(dict_row,dict_row_value))\n",
    "    return dict_row_value"
   ]
  },
  {
   "cell_type": "code",
   "execution_count": null,
   "id": "8953c090",
   "metadata": {},
   "outputs": [],
   "source": []
  },
  {
   "cell_type": "code",
   "execution_count": null,
   "id": "66075aa6",
   "metadata": {},
   "outputs": [],
   "source": []
  },
  {
   "cell_type": "code",
   "execution_count": 267,
   "id": "7ca1b7e5",
   "metadata": {},
   "outputs": [],
   "source": [
    "test_dict = {}\n",
    "test_dict = {\"a\":\"a1\"}\n"
   ]
  },
  {
   "cell_type": "code",
   "execution_count": 268,
   "id": "bb5bfe56",
   "metadata": {},
   "outputs": [
    {
     "data": {
      "text/plain": [
       "{'a': 'a1'}"
      ]
     },
     "execution_count": 268,
     "metadata": {},
     "output_type": "execute_result"
    }
   ],
   "source": [
    "test_dict"
   ]
  },
  {
   "cell_type": "code",
   "execution_count": 269,
   "id": "c0933bb2",
   "metadata": {},
   "outputs": [],
   "source": [
    "def set_type(data_type):\n",
    "    dict_row_test = {}\n",
    "    if  data_type == \"string\":\n",
    "        dict_row_test[\"b\"] = \"b1\"\n",
    "    elif data_type == \"categorical\":\n",
    "        dict_row_test[\"c\"] = \"c1\"  \n",
    "    return dict_row_test\n"
   ]
  },
  {
   "cell_type": "code",
   "execution_count": 270,
   "id": "faf529a1",
   "metadata": {},
   "outputs": [],
   "source": [
    "test_dict.update(set_type(\"categorical\"))"
   ]
  },
  {
   "cell_type": "code",
   "execution_count": 271,
   "id": "1b52fbb0",
   "metadata": {},
   "outputs": [
    {
     "data": {
      "text/plain": [
       "{'a': 'a1', 'c': 'c1'}"
      ]
     },
     "execution_count": 271,
     "metadata": {},
     "output_type": "execute_result"
    }
   ],
   "source": [
    "test_dict"
   ]
  },
  {
   "cell_type": "code",
   "execution_count": 272,
   "id": "eb33b4d0",
   "metadata": {},
   "outputs": [],
   "source": [
    "dict_rowtest = dfa_template.loc[1]"
   ]
  },
  {
   "cell_type": "code",
   "execution_count": 273,
   "id": "aee4a3b2",
   "metadata": {},
   "outputs": [],
   "source": [
    "dict_row_group = verify_group(dict_rowtest)"
   ]
  },
  {
   "cell_type": "code",
   "execution_count": 274,
   "id": "13d15fca",
   "metadata": {},
   "outputs": [
    {
     "data": {
      "text/plain": [
       "nan"
      ]
     },
     "execution_count": 274,
     "metadata": {},
     "output_type": "execute_result"
    }
   ],
   "source": [
    "dict_row_group"
   ]
  },
  {
   "cell_type": "code",
   "execution_count": 275,
   "id": "29e304e5",
   "metadata": {},
   "outputs": [
    {
     "name": "stdout",
     "output_type": "stream",
     "text": [
      "detect nan\n"
     ]
    }
   ],
   "source": [
    "if mt.isnan(dict_row_group):\n",
    "    print(\"detect nan\")\n",
    "else:\n",
    "    print(\"------\")"
   ]
  },
  {
   "cell_type": "code",
   "execution_count": null,
   "id": "46999836",
   "metadata": {},
   "outputs": [],
   "source": []
  },
  {
   "cell_type": "code",
   "execution_count": null,
   "id": "7b25a009",
   "metadata": {},
   "outputs": [],
   "source": []
  },
  {
   "cell_type": "code",
   "execution_count": null,
   "id": "069b018e",
   "metadata": {},
   "outputs": [],
   "source": []
  },
  {
   "cell_type": "code",
   "execution_count": null,
   "id": "589afdca",
   "metadata": {},
   "outputs": [],
   "source": []
  },
  {
   "cell_type": "code",
   "execution_count": 276,
   "id": "11d85ab0",
   "metadata": {},
   "outputs": [],
   "source": [
    "def set_row_data(row_index):\n",
    "    dict_row = dfa_template.iloc[row_index] #---- get iloc row\n",
    "    #____________________________________________________\n",
    "    dict_row_group = verify_group(dict_row) #---- group\n",
    "    dict_row_feature = get_row_feature(dict_row) #---- feature\n",
    "    dict_row_data_type = verify_data_type(dict_row) #---- data_type\n",
    "    dict_row_selection = get_row_selection(dict_row) #---- selection\n",
    "    dict_row_name = get_name(dict_row) #---- name \n",
    "    dict_row_description = get_row_description(dict_row) #---- description\n",
    "    dict_row_aggregatable = get_row_description(dict_row) #---- aggregatable\n",
    "    #print(dict_row[\"feature\"],dict_row[\"description\"])\n",
    "    set_row_to_json(dict_row)\n",
    "    #print(dict_row_group, dict_row_feature , dict_row_data_type , dict_row_selection , dict_row_name , dict_row_description , dict_row_description , dict_row_aggregatable  )    \n",
    "    return dict_row"
   ]
  },
  {
   "cell_type": "code",
   "execution_count": null,
   "id": "a592ebd1",
   "metadata": {},
   "outputs": [],
   "source": []
  },
  {
   "cell_type": "code",
   "execution_count": 277,
   "id": "d40b9cc9",
   "metadata": {},
   "outputs": [
    {
     "name": "stdout",
     "output_type": "stream",
     "text": [
      "[sort]- member_gender\n",
      "[sort-unique]- member_gender\n",
      "[sort-unique] len - 3\n",
      "[sort]- member_maritalstatus\n",
      "[sort-unique]- member_maritalstatus\n",
      "[sort-unique] len - 3\n",
      "[sort]- recency_group\n",
      "[sort-unique]- recency_group\n",
      "[sort-unique] len - 8\n",
      "[sort]- age_group\n",
      "[sort-unique]- age_group\n",
      "[sort-unique] len - 7\n",
      "[sort]- tenure_years_group\n",
      "[sort-unique]- tenure_years_group\n",
      "[sort-unique] len - 0\n",
      "[sort-unique]- tenure_years_group\n",
      "[sort]- rfm_frequency_score\n",
      "[sort-unique]- rfm_frequency_score\n",
      "[sort-unique] len - 0\n",
      "[sort-unique]- rfm_frequency_score\n",
      "[sort]- rfm_monetary_score\n",
      "[sort-unique]- rfm_monetary_score\n",
      "[sort-unique] len - 0\n",
      "[sort-unique]- rfm_monetary_score\n",
      "[sort]- rfm_recency_score\n",
      "[sort-unique]- rfm_recency_score\n",
      "[sort-unique] len - 0\n",
      "[sort-unique]- rfm_recency_score\n",
      "[sort]- rfm_segment\n",
      "[sort-unique]- rfm_segment\n",
      "[sort-unique] len - 0\n",
      "[sort-unique]- rfm_segment\n"
     ]
    }
   ],
   "source": [
    "for data_row in range(len(dfa_template)):\n",
    "    \n",
    "    set_row_data(data_row)"
   ]
  },
  {
   "cell_type": "code",
   "execution_count": 278,
   "id": "bc3541fd",
   "metadata": {},
   "outputs": [],
   "source": [
    "def json_meta_data_result(model_type):\n",
    "    #----- Json 1 space tab [model,client,fields]\n",
    "    json_data_first_space = {\n",
    "        \"model\": model_type,\n",
    "        \"client\": \"@client_customercode\",\n",
    "        \"fields\": dict_json_row\n",
    "    }\n",
    "    return json_data_first_space"
   ]
  },
  {
   "cell_type": "code",
   "execution_count": 279,
   "id": "82827562",
   "metadata": {},
   "outputs": [
    {
     "data": {
      "text/plain": [
       "{'model': 'uc1m1',\n",
       " 'client': '@client_customercode',\n",
       " 'fields': {'blastrecipient_member_id': {'name': 'Member ID',\n",
       "   'description': '',\n",
       "   'data_type': 'string',\n",
       "   'aggregatable': True},\n",
       "  'output_email': {'name': 'Respond to email',\n",
       "   'description': 'Is this member likely to respond to the email campaign?',\n",
       "   'data_type': 'boolean'},\n",
       "  'output_sms': {'name': 'Respond to sms',\n",
       "   'description': 'Is this member likely to respond to the SMS campaign?',\n",
       "   'data_type': 'boolean'},\n",
       "  'is_blast_on_weekday': {'name': 'Blast on weekday?',\n",
       "   'description': 'Is this predicted blast on a weekday?',\n",
       "   'data_type': 'boolean'},\n",
       "  'is_blast_on_weekend': {'name': 'Blast on weekends?',\n",
       "   'description': 'Is this predicted blast on a weekend?',\n",
       "   'data_type': 'boolean'},\n",
       "  'blast_on_day_of_week': {'name': 'Day of week',\n",
       "   'description': 'Day of week of the predicted blast',\n",
       "   'data_type': 'integer'},\n",
       "  'blast_on_month_of_year': {'name': 'Month of year',\n",
       "   'description': 'Month of year of the predicted blast',\n",
       "   'data_type': 'integer'},\n",
       "  'blast_on_day_of_month': {'name': 'Day of month',\n",
       "   'description': 'Day of month of the predicted blast',\n",
       "   'data_type': 'integer'},\n",
       "  'member_gender': {'name': 'Member Gender',\n",
       "   'description': '',\n",
       "   'data_type': 'categorical',\n",
       "   'selection': 'single',\n",
       "   'values': [{'name': 'female', 'value': 'female'},\n",
       "    {'name': 'male', 'value': 'male'},\n",
       "    {'name': 'others', 'value': 'others'}]},\n",
       "  'card_tier': {'name': 'Membership Tier',\n",
       "   'description': '',\n",
       "   'data_type': 'categorical',\n",
       "   'selection': 'multiple',\n",
       "   'values': [{'name': 'card_tier_Shopper', 'value': 'card_tier_Shopper'},\n",
       "    {'name': 'card_tier_Member', 'value': 'card_tier_Member'}]},\n",
       "  'member_notify': {'name': 'Member Communications',\n",
       "   'description': 'Members notification methods',\n",
       "   'data_type': 'categorical',\n",
       "   'selection': 'multiple',\n",
       "   'values': [{'name': 'Is member subscribed to email communications',\n",
       "     'value': 'member_sender_issubscribed'},\n",
       "    {'name': 'Is member subscribed to SMS communications',\n",
       "     'value': 'member_notifysms'},\n",
       "    {'name': 'Is member subscribed to PNS communications',\n",
       "     'value': 'member_pns_devices_pushalert'}]},\n",
       "  'member_marital_status': {'name': 'Marital Status',\n",
       "   'description': '',\n",
       "   'data_type': 'categorical',\n",
       "   'selection': 'single',\n",
       "   'values': [{'name': 'single', 'value': 'single'},\n",
       "    {'name': 'married', 'value': 'married'},\n",
       "    {'name': 'others', 'value': 'others'}]},\n",
       "  'recency': {'name': 'Recency(days)',\n",
       "   'description': 'The number of days since last purchase',\n",
       "   'data_type': 'integer'},\n",
       "  'recency_group': {'name': 'Recency group',\n",
       "   'description': '',\n",
       "   'data_type': 'categorical',\n",
       "   'selection': 'single',\n",
       "   'values': [{'name': 'last 1 week(s)', 'value': 'last 1 week(s)'},\n",
       "    {'name': 'last 2 week(s)', 'value': 'last 2 week(s)'},\n",
       "    {'name': 'last 1 month(s)', 'value': 'last 1 month(s)'},\n",
       "    {'name': 'last 3 month(s)', 'value': 'last 3 month(s)'},\n",
       "    {'name': 'last 6 month(s)', 'value': 'last 6 month(s)'},\n",
       "    {'name': 'last 6 -12 month(s)', 'value': 'last 6 -12 month(s)'},\n",
       "    {'name': '> 12 month(s)', 'value': '> 12 month(s)'},\n",
       "    {'name': 'others', 'value': 'others'}]},\n",
       "  'age': {'name': 'Member age(years)',\n",
       "   'description': 'Member age in years. If age = 0, means membership age is unknown.',\n",
       "   'data_type': 'integer'},\n",
       "  'age_group': {'name': 'Member age group',\n",
       "   'description': '',\n",
       "   'data_type': 'categorical',\n",
       "   'selection': 'single',\n",
       "   'values': [{'name': '< 20', 'value': 'less_than_20'},\n",
       "    {'name': '20 - 35', 'value': '20_to_35'},\n",
       "    {'name': '36 - 49', 'value': '36_to_49'},\n",
       "    {'name': '50 - 65', 'value': '50_to_65'},\n",
       "    {'name': '65 - 100', 'value': '65_to_100'},\n",
       "    {'name': '100+', 'value': 'more_than_100'},\n",
       "    {'name': 'others', 'value': 'others'}]},\n",
       "  'tenure_days': {'name': 'Membership tenure(days)',\n",
       "   'description': 'No of days since member joined',\n",
       "   'data_type': 'integer'},\n",
       "  'tenure_years': {'name': 'Membership tenure(years)',\n",
       "   'description': 'No of years since member joined',\n",
       "   'data_type': 'integer'},\n",
       "  'tenure_years_group': {'name': 'Membership tenure group',\n",
       "   'description': '',\n",
       "   'data_type': 'categorical',\n",
       "   'selection': 'single',\n",
       "   'values': [{'name': '1 year(s) or less', 'value': '1 year(s) or less'},\n",
       "    {'name': '2 year(s)', 'value': '2 year(s)'},\n",
       "    {'name': '3 year(s)', 'value': '3 year(s)'},\n",
       "    {'name': '4 year(s)', 'value': '4 year(s)'},\n",
       "    {'name': '5 year(s)', 'value': '5 year(s)'},\n",
       "    {'name': '6 year(s) or more', 'value': '6 year(s) or more'}]},\n",
       "  'no_of_vouchers_issued': {'name': 'Number of vouchers issued to member',\n",
       "   'description': '',\n",
       "   'data_type': 'integer'},\n",
       "  'no_of_vouchers_utilized': {'name': 'Number of vouchers utilized by member',\n",
       "   'description': '',\n",
       "   'data_type': 'integer'},\n",
       "  'perc_of_vouchers_utilized': {'name': 'Percentage of voucher utilized by members',\n",
       "   'description': '',\n",
       "   'data_type': 'float',\n",
       "   'max_value': 3.1,\n",
       "   'min_value': 0.0},\n",
       "  'voucher_value_issued_last': {'name': 'Vouchers value issued',\n",
       "   'description': '',\n",
       "   'data_type': 'group',\n",
       "   'fields': {'voucher_value_issued_last_7_days': {'name': 'Vouchers value issued past 7 days',\n",
       "     'data_type': 'money'},\n",
       "    'voucher_value_issued_last_30_days': {'name': 'Vouchers value issued past 30 days',\n",
       "     'data_type': 'money'},\n",
       "    'voucher_value_issued_last_90_days': {'name': 'Vouchers value issued past 90 days',\n",
       "     'data_type': 'money'},\n",
       "    'voucher_value_issued_last_180_days': {'name': 'Vouchers value issued past 180 days',\n",
       "     'data_type': 'money'},\n",
       "    'voucher_value_issued_last_270_days': {'name': 'Vouchers value issued past 270 days',\n",
       "     'data_type': 'money'},\n",
       "    'voucher_value_issued_last_360_days': {'name': 'Vouchers value issued past 360 days',\n",
       "     'data_type': 'money'}}},\n",
       "  'voucher_value_utilized_last': {'name': 'Voucher value utilized',\n",
       "   'description': '',\n",
       "   'data_type': 'group',\n",
       "   'fields': {'voucher_value_utilized_last_7_days': {'name': 'Vouchers value utilized past 7 days',\n",
       "     'data_type': 'money'},\n",
       "    'voucher_value_utilized_last_30_days': {'name': 'Vouchers value utilized past 30 days',\n",
       "     'data_type': 'money'},\n",
       "    'voucher_value_utilized_last_90_days': {'name': 'Vouchers value utilized past 90 days',\n",
       "     'data_type': 'money'},\n",
       "    'voucher_value_utilized_last_180_days': {'name': 'Vouchers value utilized past 180 days',\n",
       "     'data_type': 'money'},\n",
       "    'voucher_value_utilized_last_270_days': {'name': 'Vouchers value utilized past 270 days',\n",
       "     'data_type': 'money'},\n",
       "    'voucher_value_utilized_last_360_days': {'name': 'Vouchers value utilized past 360 days',\n",
       "     'data_type': 'money'}}},\n",
       "  'no_of_transact_past': {'name': 'Number of transactions',\n",
       "   'description': '',\n",
       "   'data_type': 'group',\n",
       "   'fields': {'no_of_transact_past_7_days': {'name': 'Number of transactions past 7 days',\n",
       "     'data_type': 'integer'},\n",
       "    'no_of_transact_past_30_days': {'name': 'Number of transactions past 30 days',\n",
       "     'data_type': 'integer'},\n",
       "    'no_of_transact_past_90_days': {'name': 'Number of transactions past 90 days',\n",
       "     'data_type': 'integer'},\n",
       "    'no_of_transact_past_180_days': {'name': 'Number of transactions past 180 days',\n",
       "     'data_type': 'integer'},\n",
       "    'no_of_transact_past_270_days': {'name': 'Number of transactions past 270 days',\n",
       "     'data_type': 'integer'},\n",
       "    'no_of_transact_past_360_days': {'name': 'Number of transactions past 360 days',\n",
       "     'data_type': 'integer'}}},\n",
       "  'transact_nettspent_past': {'name': 'Nett Spent',\n",
       "   'description': '',\n",
       "   'data_type': 'group',\n",
       "   'fields': {'transact_nettspent_past_7_days': {'name': 'Nett Spent past 7 days',\n",
       "     'data_type': 'money'},\n",
       "    'transact_nettspent_past_30_days': {'name': 'Nett Spent past 30 days',\n",
       "     'data_type': 'money'},\n",
       "    'transact_nettspent_past_90_days': {'name': 'Nett Spent past 90 days',\n",
       "     'data_type': 'money'},\n",
       "    'transact_nettspent_past_180_days': {'name': 'Nett Spent past 180 days',\n",
       "     'data_type': 'money'},\n",
       "    'transact_nettspent_past_270_days': {'name': 'Nett Spent past 270 days',\n",
       "     'data_type': 'money'},\n",
       "    'transact_nettspent_past_360_days': {'name': 'Nett Spent past 360 days',\n",
       "     'data_type': 'money'}}},\n",
       "  'transact_transactpoints_past': {'name': 'Transaction points',\n",
       "   'description': '',\n",
       "   'data_type': 'group',\n",
       "   'fields': {'transact_transactpoints_past_7_days': {'name': 'Transaction points past 7 days',\n",
       "     'data_type': 'integer'},\n",
       "    'transact_transactpoints_past_30_days': {'name': 'Transaction points past 30 days',\n",
       "     'data_type': 'integer'},\n",
       "    'transact_transactpoints_past_90_days': {'name': 'Transaction points past 90 days',\n",
       "     'data_type': 'integer'},\n",
       "    'transact_transactpoints_past_180_days': {'name': 'Transaction points past 180 days',\n",
       "     'data_type': 'integer'},\n",
       "    'transact_transactpoints_past_270_days': {'name': 'Transaction points past 270 days',\n",
       "     'data_type': 'integer'},\n",
       "    'transact_transactpoints_past_360_days': {'name': 'Transaction points past 360 days',\n",
       "     'data_type': 'integer'}}},\n",
       "  'no_of_vouchers_issued_by_campaign': {'name': 'Number of vouchers issued by campaign',\n",
       "   'description': '',\n",
       "   'data_type': 'integer'},\n",
       "  'no_of_vouchers_issued_by_campaign_and_utilized': {'name': 'Number of vouchers issued by campaign and utilized',\n",
       "   'description': '',\n",
       "   'data_type': 'integer'},\n",
       "  'no_of_past_campaign_hits': {'name': 'Number of past campaign hits',\n",
       "   'description': '',\n",
       "   'data_type': 'integer'},\n",
       "  'member_most_freq_outlet': {'name': 'Member most frequent outlet',\n",
       "   'description': '',\n",
       "   'data_type': 'string',\n",
       "   'aggregatable': ''},\n",
       "  'no_of_unique_visited_outlets': {'name': 'Number of uniquely visited outlet',\n",
       "   'description': '',\n",
       "   'data_type': 'integer'},\n",
       "  'no_of_blasts_sent': {'name': 'Number of blast sent',\n",
       "   'description': 'Number of email blasts(not campaign) received in the past, at member level',\n",
       "   'data_type': 'integer'},\n",
       "  'no_of_blasts_read': {'name': 'Number of blast read',\n",
       "   'description': 'Number of email blasts(not campaign) read in the past, at member level',\n",
       "   'data_type': 'integer'},\n",
       "  'interest_group': {'name': 'Member interest group',\n",
       "   'description': '',\n",
       "   'data_type': 'categorical',\n",
       "   'selection': 'multiple',\n",
       "   'values': [{'name': 'interest_group_code_Dancing',\n",
       "     'value': 'interest_group_code_Dancing'},\n",
       "    {'name': 'interest_group_code_Shopping',\n",
       "     'value': 'interest_group_code_Shopping'}]},\n",
       "  'campaignqualifiedlog_transact_autoid': {'name': 'Number of past campaign hits',\n",
       "   'description': '',\n",
       "   'data_type': 'group',\n",
       "   'fields': {'campaignqualifiedlog_transact_autoid_past_7_days': {'name': 'Number of past campaign hits past 7 days',\n",
       "     'data_type': 'integer'},\n",
       "    'campaignqualifiedlog_transact_autoid_past_30_days': {'name': 'Number of past campaign hits past 30 days',\n",
       "     'data_type': 'integer'},\n",
       "    'campaignqualifiedlog_transact_autoid_past_90_days': {'name': 'Number of past campaign hits past 90 days',\n",
       "     'data_type': 'integer'},\n",
       "    'campaignqualifiedlog_transact_autoid_past_180_days': {'name': 'Number of past campaign hits past 180 days',\n",
       "     'data_type': 'integer'},\n",
       "    'campaignqualifiedlog_transact_autoid_past_270_days': {'name': 'Number of past campaign hits past 270 days',\n",
       "     'data_type': 'integer'},\n",
       "    'campaignqualifiedlog_transact_autoid_past_360_days': {'name': 'Number of past campaign hits past 360 days',\n",
       "     'data_type': 'integer'}}},\n",
       "  'rfm_frequency': {'name': 'RFM Raw frequency value',\n",
       "   'description': 'Raw frequency value before binning',\n",
       "   'data_type': 'integer'},\n",
       "  'rfm_frequency_score': {'name': 'RFM Frequency Score',\n",
       "   'description': 'Frequency score of RFM for the latest period',\n",
       "   'data_type': 'categorical',\n",
       "   'selection': 'single',\n",
       "   'values': [{'name': 0, 'value': 0},\n",
       "    {'name': 1, 'value': 1},\n",
       "    {'name': 2, 'value': 2},\n",
       "    {'name': 3, 'value': 3},\n",
       "    {'name': 4, 'value': 4},\n",
       "    {'name': 5, 'value': 5},\n",
       "    {'name': 6, 'value': 6}]},\n",
       "  'rfm_monetary': {'name': 'RFM Raw monetary value',\n",
       "   'description': 'Raw monetary value before binning',\n",
       "   'data_type': 'integer'},\n",
       "  'rfm_monetary_score': {'name': 'RFM Monetary Score',\n",
       "   'description': 'Monetary score of RFM for the latest period',\n",
       "   'data_type': 'categorical',\n",
       "   'selection': 'single',\n",
       "   'values': [{'name': 0, 'value': 0},\n",
       "    {'name': 1, 'value': 1},\n",
       "    {'name': 2, 'value': 2},\n",
       "    {'name': 3, 'value': 3},\n",
       "    {'name': 4, 'value': 4},\n",
       "    {'name': 5, 'value': 5},\n",
       "    {'name': 6, 'value': 6}]},\n",
       "  'rfm_recency': {'name': 'RFM Raw recency value',\n",
       "   'description': 'Raw recency value before binning',\n",
       "   'data_type': 'integer'},\n",
       "  'rfm_recency_score': {'name': 'RFM Recency Score',\n",
       "   'description': 'Recency score of RFM for the latest period',\n",
       "   'data_type': 'categorical',\n",
       "   'selection': 'single',\n",
       "   'values': [{'name': 0, 'value': 0},\n",
       "    {'name': 1, 'value': 1},\n",
       "    {'name': 2, 'value': 2},\n",
       "    {'name': 3, 'value': 3},\n",
       "    {'name': 4, 'value': 4},\n",
       "    {'name': 5, 'value': 5}]},\n",
       "  'rfm_score': {'name': 'RFM Score',\n",
       "   'description': '',\n",
       "   'data_type': 'integer'},\n",
       "  'rfm_segment': {'name': 'RFM Segment',\n",
       "   'description': 'RFM segment for the latest period (eg. Lost, At Risk, etc)',\n",
       "   'data_type': 'categorical',\n",
       "   'selection': 'single',\n",
       "   'values': [{'name': 'About To Sleep', 'value': 'About To Sleep'},\n",
       "    {'name': 'At Risk', 'value': 'At Risk'},\n",
       "    {'name': 'Champions', 'value': 'Champions'},\n",
       "    {'name': 'Hibernating', 'value': 'Hibernating'},\n",
       "    {'name': 'Lapsed', 'value': 'Lapsed'},\n",
       "    {'name': 'Lost', 'value': 'Lost'},\n",
       "    {'name': 'Loyal Customers', 'value': 'Loyal Customers'},\n",
       "    {'name': 'Need Attention', 'value': 'Need Attention'},\n",
       "    {'name': 'Potential Loyalist', 'value': 'Potential Loyalist'},\n",
       "    {'name': 'Promising', 'value': 'Promising'},\n",
       "    {'name': 'Recent Customers', 'value': 'Recent Customers'}]},\n",
       "  'waiting_period': {'name': 'Waiting period',\n",
       "   'description': 'Predicted optimal waiting period between campaigns',\n",
       "   'data_type': 'integer'},\n",
       "  'burnout': {'name': 'Burnout',\n",
       "   'description': 'Is member likely to burnout from campaign?',\n",
       "   'data_type': 'integer'},\n",
       "  'lapse_prediction': {'name': 'Lapsed',\n",
       "   'description': 'Is this member likely to lapse?',\n",
       "   'data_type': 'boolean'},\n",
       "  'lapse_threshold': {'name': 'Lapsed Threshold',\n",
       "   'description': 'The number of days that correspond to \"lapsed\" status. Based on past purchase interval+2 standard deviation.',\n",
       "   'data_type': 'float',\n",
       "   'max_value': 0.0,\n",
       "   'min_value': 0.0},\n",
       "  'membership_status_active': {'name': 'Is Member active?',\n",
       "   'description': '',\n",
       "   'data_type': 'boolean'}}}"
      ]
     },
     "execution_count": 279,
     "metadata": {},
     "output_type": "execute_result"
    }
   ],
   "source": [
    "json_meta_data_result(model_type)"
   ]
  },
  {
   "cell_type": "code",
   "execution_count": null,
   "id": "659001ff",
   "metadata": {},
   "outputs": [],
   "source": []
  },
  {
   "cell_type": "code",
   "execution_count": 280,
   "id": "8b41aa02",
   "metadata": {},
   "outputs": [
    {
     "data": {
      "text/plain": [
       "{'blastrecipient_member_id': {'name': 'Member ID',\n",
       "  'description': '',\n",
       "  'data_type': 'string',\n",
       "  'aggregatable': True},\n",
       " 'output_email': {'name': 'Respond to email',\n",
       "  'description': 'Is this member likely to respond to the email campaign?',\n",
       "  'data_type': 'boolean'},\n",
       " 'output_sms': {'name': 'Respond to sms',\n",
       "  'description': 'Is this member likely to respond to the SMS campaign?',\n",
       "  'data_type': 'boolean'},\n",
       " 'is_blast_on_weekday': {'name': 'Blast on weekday?',\n",
       "  'description': 'Is this predicted blast on a weekday?',\n",
       "  'data_type': 'boolean'},\n",
       " 'is_blast_on_weekend': {'name': 'Blast on weekends?',\n",
       "  'description': 'Is this predicted blast on a weekend?',\n",
       "  'data_type': 'boolean'},\n",
       " 'blast_on_day_of_week': {'name': 'Day of week',\n",
       "  'description': 'Day of week of the predicted blast',\n",
       "  'data_type': 'integer'},\n",
       " 'blast_on_month_of_year': {'name': 'Month of year',\n",
       "  'description': 'Month of year of the predicted blast',\n",
       "  'data_type': 'integer'},\n",
       " 'blast_on_day_of_month': {'name': 'Day of month',\n",
       "  'description': 'Day of month of the predicted blast',\n",
       "  'data_type': 'integer'},\n",
       " 'member_gender': {'name': 'Member Gender',\n",
       "  'description': '',\n",
       "  'data_type': 'categorical',\n",
       "  'selection': 'single',\n",
       "  'values': [{'name': 'female', 'value': 'female'},\n",
       "   {'name': 'male', 'value': 'male'},\n",
       "   {'name': 'others', 'value': 'others'}]},\n",
       " 'card_tier': {'name': 'Membership Tier',\n",
       "  'description': '',\n",
       "  'data_type': 'categorical',\n",
       "  'selection': 'multiple',\n",
       "  'values': [{'name': 'card_tier_Shopper', 'value': 'card_tier_Shopper'},\n",
       "   {'name': 'card_tier_Member', 'value': 'card_tier_Member'}]},\n",
       " 'member_notify': {'name': 'Member Communications',\n",
       "  'description': 'Members notification methods',\n",
       "  'data_type': 'categorical',\n",
       "  'selection': 'multiple',\n",
       "  'values': [{'name': 'Is member subscribed to email communications',\n",
       "    'value': 'member_sender_issubscribed'},\n",
       "   {'name': 'Is member subscribed to SMS communications',\n",
       "    'value': 'member_notifysms'},\n",
       "   {'name': 'Is member subscribed to PNS communications',\n",
       "    'value': 'member_pns_devices_pushalert'}]},\n",
       " 'member_marital_status': {'name': 'Marital Status',\n",
       "  'description': '',\n",
       "  'data_type': 'categorical',\n",
       "  'selection': 'single',\n",
       "  'values': [{'name': 'single', 'value': 'single'},\n",
       "   {'name': 'married', 'value': 'married'},\n",
       "   {'name': 'others', 'value': 'others'}]},\n",
       " 'recency': {'name': 'Recency(days)',\n",
       "  'description': 'The number of days since last purchase',\n",
       "  'data_type': 'integer'},\n",
       " 'recency_group': {'name': 'Recency group',\n",
       "  'description': '',\n",
       "  'data_type': 'categorical',\n",
       "  'selection': 'single',\n",
       "  'values': [{'name': 'last 1 week(s)', 'value': 'last 1 week(s)'},\n",
       "   {'name': 'last 2 week(s)', 'value': 'last 2 week(s)'},\n",
       "   {'name': 'last 1 month(s)', 'value': 'last 1 month(s)'},\n",
       "   {'name': 'last 3 month(s)', 'value': 'last 3 month(s)'},\n",
       "   {'name': 'last 6 month(s)', 'value': 'last 6 month(s)'},\n",
       "   {'name': 'last 6 -12 month(s)', 'value': 'last 6 -12 month(s)'},\n",
       "   {'name': '> 12 month(s)', 'value': '> 12 month(s)'},\n",
       "   {'name': 'others', 'value': 'others'}]},\n",
       " 'age': {'name': 'Member age(years)',\n",
       "  'description': 'Member age in years. If age = 0, means membership age is unknown.',\n",
       "  'data_type': 'integer'},\n",
       " 'age_group': {'name': 'Member age group',\n",
       "  'description': '',\n",
       "  'data_type': 'categorical',\n",
       "  'selection': 'single',\n",
       "  'values': [{'name': '< 20', 'value': 'less_than_20'},\n",
       "   {'name': '20 - 35', 'value': '20_to_35'},\n",
       "   {'name': '36 - 49', 'value': '36_to_49'},\n",
       "   {'name': '50 - 65', 'value': '50_to_65'},\n",
       "   {'name': '65 - 100', 'value': '65_to_100'},\n",
       "   {'name': '100+', 'value': 'more_than_100'},\n",
       "   {'name': 'others', 'value': 'others'}]},\n",
       " 'tenure_days': {'name': 'Membership tenure(days)',\n",
       "  'description': 'No of days since member joined',\n",
       "  'data_type': 'integer'},\n",
       " 'tenure_years': {'name': 'Membership tenure(years)',\n",
       "  'description': 'No of years since member joined',\n",
       "  'data_type': 'integer'},\n",
       " 'tenure_years_group': {'name': 'Membership tenure group',\n",
       "  'description': '',\n",
       "  'data_type': 'categorical',\n",
       "  'selection': 'single',\n",
       "  'values': [{'name': '1 year(s) or less', 'value': '1 year(s) or less'},\n",
       "   {'name': '2 year(s)', 'value': '2 year(s)'},\n",
       "   {'name': '3 year(s)', 'value': '3 year(s)'},\n",
       "   {'name': '4 year(s)', 'value': '4 year(s)'},\n",
       "   {'name': '5 year(s)', 'value': '5 year(s)'},\n",
       "   {'name': '6 year(s) or more', 'value': '6 year(s) or more'}]},\n",
       " 'no_of_vouchers_issued': {'name': 'Number of vouchers issued to member',\n",
       "  'description': '',\n",
       "  'data_type': 'integer'},\n",
       " 'no_of_vouchers_utilized': {'name': 'Number of vouchers utilized by member',\n",
       "  'description': '',\n",
       "  'data_type': 'integer'},\n",
       " 'perc_of_vouchers_utilized': {'name': 'Percentage of voucher utilized by members',\n",
       "  'description': '',\n",
       "  'data_type': 'float',\n",
       "  'max_value': 3.1,\n",
       "  'min_value': 0.0},\n",
       " 'voucher_value_issued_last': {'name': 'Vouchers value issued',\n",
       "  'description': '',\n",
       "  'data_type': 'group',\n",
       "  'fields': {'voucher_value_issued_last_7_days': {'name': 'Vouchers value issued past 7 days',\n",
       "    'data_type': 'money'},\n",
       "   'voucher_value_issued_last_30_days': {'name': 'Vouchers value issued past 30 days',\n",
       "    'data_type': 'money'},\n",
       "   'voucher_value_issued_last_90_days': {'name': 'Vouchers value issued past 90 days',\n",
       "    'data_type': 'money'},\n",
       "   'voucher_value_issued_last_180_days': {'name': 'Vouchers value issued past 180 days',\n",
       "    'data_type': 'money'},\n",
       "   'voucher_value_issued_last_270_days': {'name': 'Vouchers value issued past 270 days',\n",
       "    'data_type': 'money'},\n",
       "   'voucher_value_issued_last_360_days': {'name': 'Vouchers value issued past 360 days',\n",
       "    'data_type': 'money'}}},\n",
       " 'voucher_value_utilized_last': {'name': 'Voucher value utilized',\n",
       "  'description': '',\n",
       "  'data_type': 'group',\n",
       "  'fields': {'voucher_value_utilized_last_7_days': {'name': 'Vouchers value utilized past 7 days',\n",
       "    'data_type': 'money'},\n",
       "   'voucher_value_utilized_last_30_days': {'name': 'Vouchers value utilized past 30 days',\n",
       "    'data_type': 'money'},\n",
       "   'voucher_value_utilized_last_90_days': {'name': 'Vouchers value utilized past 90 days',\n",
       "    'data_type': 'money'},\n",
       "   'voucher_value_utilized_last_180_days': {'name': 'Vouchers value utilized past 180 days',\n",
       "    'data_type': 'money'},\n",
       "   'voucher_value_utilized_last_270_days': {'name': 'Vouchers value utilized past 270 days',\n",
       "    'data_type': 'money'},\n",
       "   'voucher_value_utilized_last_360_days': {'name': 'Vouchers value utilized past 360 days',\n",
       "    'data_type': 'money'}}},\n",
       " 'no_of_transact_past': {'name': 'Number of transactions',\n",
       "  'description': '',\n",
       "  'data_type': 'group',\n",
       "  'fields': {'no_of_transact_past_7_days': {'name': 'Number of transactions past 7 days',\n",
       "    'data_type': 'integer'},\n",
       "   'no_of_transact_past_30_days': {'name': 'Number of transactions past 30 days',\n",
       "    'data_type': 'integer'},\n",
       "   'no_of_transact_past_90_days': {'name': 'Number of transactions past 90 days',\n",
       "    'data_type': 'integer'},\n",
       "   'no_of_transact_past_180_days': {'name': 'Number of transactions past 180 days',\n",
       "    'data_type': 'integer'},\n",
       "   'no_of_transact_past_270_days': {'name': 'Number of transactions past 270 days',\n",
       "    'data_type': 'integer'},\n",
       "   'no_of_transact_past_360_days': {'name': 'Number of transactions past 360 days',\n",
       "    'data_type': 'integer'}}},\n",
       " 'transact_nettspent_past': {'name': 'Nett Spent',\n",
       "  'description': '',\n",
       "  'data_type': 'group',\n",
       "  'fields': {'transact_nettspent_past_7_days': {'name': 'Nett Spent past 7 days',\n",
       "    'data_type': 'money'},\n",
       "   'transact_nettspent_past_30_days': {'name': 'Nett Spent past 30 days',\n",
       "    'data_type': 'money'},\n",
       "   'transact_nettspent_past_90_days': {'name': 'Nett Spent past 90 days',\n",
       "    'data_type': 'money'},\n",
       "   'transact_nettspent_past_180_days': {'name': 'Nett Spent past 180 days',\n",
       "    'data_type': 'money'},\n",
       "   'transact_nettspent_past_270_days': {'name': 'Nett Spent past 270 days',\n",
       "    'data_type': 'money'},\n",
       "   'transact_nettspent_past_360_days': {'name': 'Nett Spent past 360 days',\n",
       "    'data_type': 'money'}}},\n",
       " 'transact_transactpoints_past': {'name': 'Transaction points',\n",
       "  'description': '',\n",
       "  'data_type': 'group',\n",
       "  'fields': {'transact_transactpoints_past_7_days': {'name': 'Transaction points past 7 days',\n",
       "    'data_type': 'integer'},\n",
       "   'transact_transactpoints_past_30_days': {'name': 'Transaction points past 30 days',\n",
       "    'data_type': 'integer'},\n",
       "   'transact_transactpoints_past_90_days': {'name': 'Transaction points past 90 days',\n",
       "    'data_type': 'integer'},\n",
       "   'transact_transactpoints_past_180_days': {'name': 'Transaction points past 180 days',\n",
       "    'data_type': 'integer'},\n",
       "   'transact_transactpoints_past_270_days': {'name': 'Transaction points past 270 days',\n",
       "    'data_type': 'integer'},\n",
       "   'transact_transactpoints_past_360_days': {'name': 'Transaction points past 360 days',\n",
       "    'data_type': 'integer'}}},\n",
       " 'no_of_vouchers_issued_by_campaign': {'name': 'Number of vouchers issued by campaign',\n",
       "  'description': '',\n",
       "  'data_type': 'integer'},\n",
       " 'no_of_vouchers_issued_by_campaign_and_utilized': {'name': 'Number of vouchers issued by campaign and utilized',\n",
       "  'description': '',\n",
       "  'data_type': 'integer'},\n",
       " 'no_of_past_campaign_hits': {'name': 'Number of past campaign hits',\n",
       "  'description': '',\n",
       "  'data_type': 'integer'},\n",
       " 'member_most_freq_outlet': {'name': 'Member most frequent outlet',\n",
       "  'description': '',\n",
       "  'data_type': 'string',\n",
       "  'aggregatable': ''},\n",
       " 'no_of_unique_visited_outlets': {'name': 'Number of uniquely visited outlet',\n",
       "  'description': '',\n",
       "  'data_type': 'integer'},\n",
       " 'no_of_blasts_sent': {'name': 'Number of blast sent',\n",
       "  'description': 'Number of email blasts(not campaign) received in the past, at member level',\n",
       "  'data_type': 'integer'},\n",
       " 'no_of_blasts_read': {'name': 'Number of blast read',\n",
       "  'description': 'Number of email blasts(not campaign) read in the past, at member level',\n",
       "  'data_type': 'integer'},\n",
       " 'interest_group': {'name': 'Member interest group',\n",
       "  'description': '',\n",
       "  'data_type': 'categorical',\n",
       "  'selection': 'multiple',\n",
       "  'values': [{'name': 'interest_group_code_Dancing',\n",
       "    'value': 'interest_group_code_Dancing'},\n",
       "   {'name': 'interest_group_code_Shopping',\n",
       "    'value': 'interest_group_code_Shopping'}]},\n",
       " 'campaignqualifiedlog_transact_autoid': {'name': 'Number of past campaign hits',\n",
       "  'description': '',\n",
       "  'data_type': 'group',\n",
       "  'fields': {'campaignqualifiedlog_transact_autoid_past_7_days': {'name': 'Number of past campaign hits past 7 days',\n",
       "    'data_type': 'integer'},\n",
       "   'campaignqualifiedlog_transact_autoid_past_30_days': {'name': 'Number of past campaign hits past 30 days',\n",
       "    'data_type': 'integer'},\n",
       "   'campaignqualifiedlog_transact_autoid_past_90_days': {'name': 'Number of past campaign hits past 90 days',\n",
       "    'data_type': 'integer'},\n",
       "   'campaignqualifiedlog_transact_autoid_past_180_days': {'name': 'Number of past campaign hits past 180 days',\n",
       "    'data_type': 'integer'},\n",
       "   'campaignqualifiedlog_transact_autoid_past_270_days': {'name': 'Number of past campaign hits past 270 days',\n",
       "    'data_type': 'integer'},\n",
       "   'campaignqualifiedlog_transact_autoid_past_360_days': {'name': 'Number of past campaign hits past 360 days',\n",
       "    'data_type': 'integer'}}},\n",
       " 'rfm_frequency': {'name': 'RFM Raw frequency value',\n",
       "  'description': 'Raw frequency value before binning',\n",
       "  'data_type': 'integer'},\n",
       " 'rfm_frequency_score': {'name': 'RFM Frequency Score',\n",
       "  'description': 'Frequency score of RFM for the latest period',\n",
       "  'data_type': 'categorical',\n",
       "  'selection': 'single',\n",
       "  'values': [{'name': 0, 'value': 0},\n",
       "   {'name': 1, 'value': 1},\n",
       "   {'name': 2, 'value': 2},\n",
       "   {'name': 3, 'value': 3},\n",
       "   {'name': 4, 'value': 4},\n",
       "   {'name': 5, 'value': 5},\n",
       "   {'name': 6, 'value': 6}]},\n",
       " 'rfm_monetary': {'name': 'RFM Raw monetary value',\n",
       "  'description': 'Raw monetary value before binning',\n",
       "  'data_type': 'integer'},\n",
       " 'rfm_monetary_score': {'name': 'RFM Monetary Score',\n",
       "  'description': 'Monetary score of RFM for the latest period',\n",
       "  'data_type': 'categorical',\n",
       "  'selection': 'single',\n",
       "  'values': [{'name': 0, 'value': 0},\n",
       "   {'name': 1, 'value': 1},\n",
       "   {'name': 2, 'value': 2},\n",
       "   {'name': 3, 'value': 3},\n",
       "   {'name': 4, 'value': 4},\n",
       "   {'name': 5, 'value': 5},\n",
       "   {'name': 6, 'value': 6}]},\n",
       " 'rfm_recency': {'name': 'RFM Raw recency value',\n",
       "  'description': 'Raw recency value before binning',\n",
       "  'data_type': 'integer'},\n",
       " 'rfm_recency_score': {'name': 'RFM Recency Score',\n",
       "  'description': 'Recency score of RFM for the latest period',\n",
       "  'data_type': 'categorical',\n",
       "  'selection': 'single',\n",
       "  'values': [{'name': 0, 'value': 0},\n",
       "   {'name': 1, 'value': 1},\n",
       "   {'name': 2, 'value': 2},\n",
       "   {'name': 3, 'value': 3},\n",
       "   {'name': 4, 'value': 4},\n",
       "   {'name': 5, 'value': 5}]},\n",
       " 'rfm_score': {'name': 'RFM Score', 'description': '', 'data_type': 'integer'},\n",
       " 'rfm_segment': {'name': 'RFM Segment',\n",
       "  'description': 'RFM segment for the latest period (eg. Lost, At Risk, etc)',\n",
       "  'data_type': 'categorical',\n",
       "  'selection': 'single',\n",
       "  'values': [{'name': 'About To Sleep', 'value': 'About To Sleep'},\n",
       "   {'name': 'At Risk', 'value': 'At Risk'},\n",
       "   {'name': 'Champions', 'value': 'Champions'},\n",
       "   {'name': 'Hibernating', 'value': 'Hibernating'},\n",
       "   {'name': 'Lapsed', 'value': 'Lapsed'},\n",
       "   {'name': 'Lost', 'value': 'Lost'},\n",
       "   {'name': 'Loyal Customers', 'value': 'Loyal Customers'},\n",
       "   {'name': 'Need Attention', 'value': 'Need Attention'},\n",
       "   {'name': 'Potential Loyalist', 'value': 'Potential Loyalist'},\n",
       "   {'name': 'Promising', 'value': 'Promising'},\n",
       "   {'name': 'Recent Customers', 'value': 'Recent Customers'}]},\n",
       " 'waiting_period': {'name': 'Waiting period',\n",
       "  'description': 'Predicted optimal waiting period between campaigns',\n",
       "  'data_type': 'integer'},\n",
       " 'burnout': {'name': 'Burnout',\n",
       "  'description': 'Is member likely to burnout from campaign?',\n",
       "  'data_type': 'integer'},\n",
       " 'lapse_prediction': {'name': 'Lapsed',\n",
       "  'description': 'Is this member likely to lapse?',\n",
       "  'data_type': 'boolean'},\n",
       " 'lapse_threshold': {'name': 'Lapsed Threshold',\n",
       "  'description': 'The number of days that correspond to \"lapsed\" status. Based on past purchase interval+2 standard deviation.',\n",
       "  'data_type': 'float',\n",
       "  'max_value': 0.0,\n",
       "  'min_value': 0.0},\n",
       " 'membership_status_active': {'name': 'Is Member active?',\n",
       "  'description': '',\n",
       "  'data_type': 'boolean'}}"
      ]
     },
     "execution_count": 280,
     "metadata": {},
     "output_type": "execute_result"
    }
   ],
   "source": [
    "dict_json_row"
   ]
  },
  {
   "cell_type": "code",
   "execution_count": null,
   "id": "050f1787",
   "metadata": {},
   "outputs": [],
   "source": []
  },
  {
   "cell_type": "code",
   "execution_count": null,
   "id": "f5d1f11e",
   "metadata": {},
   "outputs": [],
   "source": []
  },
  {
   "cell_type": "code",
   "execution_count": null,
   "id": "5db54235",
   "metadata": {},
   "outputs": [],
   "source": []
  },
  {
   "cell_type": "code",
   "execution_count": 228,
   "id": "fb61a584",
   "metadata": {},
   "outputs": [],
   "source": [
    "def mapping_column(dummyCol,colname):\n",
    "    colname = colname.split(\"|\")\n",
    "    listColumn = []\n",
    "    for col in colname:\n",
    "        if dummyCol in col:\n",
    "            listColumn.append(col)\n",
    "    \n",
    "    res = (\"|\").join(listColumn)\n",
    "    return res"
   ]
  },
  {
   "cell_type": "code",
   "execution_count": null,
   "id": "bf72280f",
   "metadata": {},
   "outputs": [],
   "source": []
  },
  {
   "cell_type": "code",
   "execution_count": null,
   "id": "3249a197",
   "metadata": {},
   "outputs": [],
   "source": []
  },
  {
   "cell_type": "code",
   "execution_count": null,
   "id": "14afbf40",
   "metadata": {},
   "outputs": [],
   "source": []
  },
  {
   "cell_type": "code",
   "execution_count": null,
   "id": "e11b4023",
   "metadata": {},
   "outputs": [],
   "source": []
  },
  {
   "cell_type": "code",
   "execution_count": null,
   "id": "f837daf3",
   "metadata": {},
   "outputs": [],
   "source": []
  },
  {
   "cell_type": "code",
   "execution_count": null,
   "id": "28d1f5ee",
   "metadata": {},
   "outputs": [],
   "source": []
  },
  {
   "cell_type": "code",
   "execution_count": null,
   "id": "4d1e4adf",
   "metadata": {},
   "outputs": [],
   "source": []
  },
  {
   "cell_type": "code",
   "execution_count": null,
   "id": "e4ef7b44",
   "metadata": {},
   "outputs": [],
   "source": []
  },
  {
   "cell_type": "code",
   "execution_count": null,
   "id": "65931ede",
   "metadata": {},
   "outputs": [],
   "source": []
  },
  {
   "cell_type": "code",
   "execution_count": 86,
   "id": "c42e08e8",
   "metadata": {},
   "outputs": [],
   "source": [
    "test = \"member_marital_status\""
   ]
  },
  {
   "cell_type": "code",
   "execution_count": 87,
   "id": "613acc67",
   "metadata": {},
   "outputs": [],
   "source": [
    "test_name = test.split(\"_\")\n"
   ]
  },
  {
   "cell_type": "code",
   "execution_count": 91,
   "id": "de1ca2b4",
   "metadata": {},
   "outputs": [
    {
     "data": {
      "text/plain": [
       "['member', 'marital', 'status']"
      ]
     },
     "execution_count": 91,
     "metadata": {},
     "output_type": "execute_result"
    }
   ],
   "source": [
    "test_name"
   ]
  },
  {
   "cell_type": "code",
   "execution_count": 92,
   "id": "2a3448e8",
   "metadata": {},
   "outputs": [],
   "source": [
    "ress = (\"\").join(test_name)"
   ]
  },
  {
   "cell_type": "code",
   "execution_count": 93,
   "id": "de4ab53a",
   "metadata": {},
   "outputs": [
    {
     "data": {
      "text/plain": [
       "'membermaritalstatus'"
      ]
     },
     "execution_count": 93,
     "metadata": {},
     "output_type": "execute_result"
    }
   ],
   "source": [
    "ress"
   ]
  },
  {
   "cell_type": "code",
   "execution_count": null,
   "id": "13b24e12",
   "metadata": {},
   "outputs": [],
   "source": []
  },
  {
   "cell_type": "code",
   "execution_count": null,
   "id": "e30e523f",
   "metadata": {},
   "outputs": [],
   "source": []
  },
  {
   "cell_type": "code",
   "execution_count": null,
   "id": "346b4af4",
   "metadata": {},
   "outputs": [],
   "source": []
  },
  {
   "cell_type": "code",
   "execution_count": 51,
   "id": "b6f14787",
   "metadata": {},
   "outputs": [
    {
     "name": "stdout",
     "output_type": "stream",
     "text": [
      "{'name': 'Is member subscribed to email communications', 'value': 'member_sender_issubscribed'}\n",
      "{'name': 'Is member subscribed to SMS communications', 'value': 'member_notifysms'}\n",
      "{'name': 'Is member subscribed to PNS communications', 'value': 'member_pns_devices_pushalert'}\n"
     ]
    }
   ],
   "source": [
    "grp_rows = dfa_template.loc[dfa_template[\"group\"]==\"member_notify\"]\n",
    "dict_grp_row_value = []\n",
    "for grp_row_index in range(len(grp_rows)):\n",
    "    grp_result = {}\n",
    "    dict_grp_row = grp_rows.iloc[grp_row_index]\n",
    "    grp_name = get_name(dict_grp_row)\n",
    "    grp_value = get_row_feature(dict_grp_row)\n",
    "    grp_result[\"name\"] = grp_name\n",
    "    grp_result[\"value\"] = grp_value\n",
    "    print(grp_result)\n",
    "    dict_grp_row_value.append(grp_result)"
   ]
  },
  {
   "cell_type": "code",
   "execution_count": 52,
   "id": "9fd3700a",
   "metadata": {},
   "outputs": [
    {
     "data": {
      "text/plain": [
       "[{'name': 'Is member subscribed to email communications',\n",
       "  'value': 'member_sender_issubscribed'},\n",
       " {'name': 'Is member subscribed to SMS communications',\n",
       "  'value': 'member_notifysms'},\n",
       " {'name': 'Is member subscribed to PNS communications',\n",
       "  'value': 'member_pns_devices_pushalert'}]"
      ]
     },
     "execution_count": 52,
     "metadata": {},
     "output_type": "execute_result"
    }
   ],
   "source": [
    "dict_grp_row_value"
   ]
  },
  {
   "cell_type": "code",
   "execution_count": null,
   "id": "de72852a",
   "metadata": {},
   "outputs": [],
   "source": []
  },
  {
   "cell_type": "code",
   "execution_count": 53,
   "id": "ac7c6bc5",
   "metadata": {},
   "outputs": [
    {
     "name": "stdout",
     "output_type": "stream",
     "text": [
      "{}\n",
      "{}\n",
      "{}\n",
      "{}\n",
      "{}\n",
      "{}\n"
     ]
    }
   ],
   "source": [
    "group_rows = dfa_template.loc[dfa_template[\"group\"]==\"transact_transactpoints_past\"]\n",
    "dict_group_row_value = {}\n",
    "\n",
    "\n",
    "for row_index in range(len(group_rows)):\n",
    "    group_result_index = {}\n",
    "    group_result = {}\n",
    "    dict_group_row = group_rows.iloc[row_index]\n",
    "    group_name = get_name(dict_group_row)\n",
    "    group_value = get_row_feature(dict_group_row)\n",
    "    group_value_data_type = verify_data_type(dict_group_row)\n",
    "    group_result_index[\"name\"] = grp_name\n",
    "    group_result_index[\"data_type\"] = group_value_data_type\n",
    "    \n",
    "    dict_group_row_value[group_value] = group_result_index\n",
    "    print(group_result)\n",
    "\n",
    "    #dict_group_row_value.append(group_result)"
   ]
  },
  {
   "cell_type": "code",
   "execution_count": 54,
   "id": "7b53710d",
   "metadata": {},
   "outputs": [
    {
     "data": {
      "text/plain": [
       "{'transact_transactpoints_past_7_days': {'name': 'Is member subscribed to PNS communications',\n",
       "  'data_type': 'integer'},\n",
       " 'transact_transactpoints_past_30_days': {'name': 'Is member subscribed to PNS communications',\n",
       "  'data_type': 'integer'},\n",
       " 'transact_transactpoints_past_90_days': {'name': 'Is member subscribed to PNS communications',\n",
       "  'data_type': 'integer'},\n",
       " 'transact_transactpoints_past_180_days': {'name': 'Is member subscribed to PNS communications',\n",
       "  'data_type': 'integer'},\n",
       " 'transact_transactpoints_past_270_days': {'name': 'Is member subscribed to PNS communications',\n",
       "  'data_type': 'integer'},\n",
       " 'transact_transactpoints_past_360_days': {'name': 'Is member subscribed to PNS communications',\n",
       "  'data_type': 'integer'}}"
      ]
     },
     "execution_count": 54,
     "metadata": {},
     "output_type": "execute_result"
    }
   ],
   "source": [
    "dict_group_row_value"
   ]
  },
  {
   "cell_type": "code",
   "execution_count": null,
   "id": "e969d8ca",
   "metadata": {},
   "outputs": [],
   "source": []
  },
  {
   "cell_type": "code",
   "execution_count": null,
   "id": "c67ce889",
   "metadata": {},
   "outputs": [],
   "source": []
  },
  {
   "cell_type": "code",
   "execution_count": 55,
   "id": "ba5eccfe",
   "metadata": {},
   "outputs": [],
   "source": [
    "def set_dict_inner_value(column_name):\n",
    "    dict_value_data = {\n",
    "               \"name\":column_name,\n",
    "               \"value\":\"\"\n",
    "            }\n",
    "    \n",
    "    return dict_value_data"
   ]
  },
  {
   "cell_type": "code",
   "execution_count": null,
   "id": "1744ed6e",
   "metadata": {},
   "outputs": [],
   "source": []
  },
  {
   "cell_type": "code",
   "execution_count": 56,
   "id": "12b5d50e",
   "metadata": {},
   "outputs": [
    {
     "ename": "SyntaxError",
     "evalue": "expression expected after dictionary key and ':' (4076463019.py, line 11)",
     "output_type": "error",
     "traceback": [
      "\u001b[1;36m  Input \u001b[1;32mIn [56]\u001b[1;36m\u001b[0m\n\u001b[1;33m    \"fields\":\u001b[0m\n\u001b[1;37m            ^\u001b[0m\n\u001b[1;31mSyntaxError\u001b[0m\u001b[1;31m:\u001b[0m expression expected after dictionary key and ':'\n"
     ]
    }
   ],
   "source": [
    "def set_fields_data(column_name,description,data_type,selection):\n",
    "    dict_inner_column = {\n",
    "    \"name\":column_name,\n",
    "    \"description\":description,\n",
    "    \"data_type\":data_type,\n",
    "    \"aggregatable\":'',\n",
    "    \"selection\":'',\n",
    "    \"values\":[],\n",
    "    \"max_value\":1,\n",
    "    \"min_value\":0,\n",
    "    \"fields\":\n",
    "}"
   ]
  },
  {
   "cell_type": "code",
   "execution_count": 57,
   "id": "f99e4e38",
   "metadata": {},
   "outputs": [
    {
     "ename": "NameError",
     "evalue": "name 'set_fields_data' is not defined",
     "output_type": "error",
     "traceback": [
      "\u001b[1;31m---------------------------------------------------------------------------\u001b[0m",
      "\u001b[1;31mNameError\u001b[0m                                 Traceback (most recent call last)",
      "Input \u001b[1;32mIn [57]\u001b[0m, in \u001b[0;36m<cell line: 2>\u001b[1;34m()\u001b[0m\n\u001b[0;32m      1\u001b[0m output_data_column \u001b[38;5;241m=\u001b[39m {\n\u001b[0;32m      2\u001b[0m     \u001b[38;5;124m\"\u001b[39m\u001b[38;5;124mmodel\u001b[39m\u001b[38;5;124m\"\u001b[39m: \u001b[38;5;124m\"\u001b[39m\u001b[38;5;124mu1m1\u001b[39m\u001b[38;5;124m\"\u001b[39m,\n\u001b[0;32m      3\u001b[0m     \u001b[38;5;124m\"\u001b[39m\u001b[38;5;124mclient\u001b[39m\u001b[38;5;124m\"\u001b[39m: \u001b[38;5;124m\"\u001b[39m\u001b[38;5;124mstarbucks_old\u001b[39m\u001b[38;5;124m\"\u001b[39m,\n\u001b[1;32m----> 4\u001b[0m     \u001b[38;5;124m\"\u001b[39m\u001b[38;5;124mfields\u001b[39m\u001b[38;5;124m\"\u001b[39m: \u001b[43mset_fields_data\u001b[49m\n\u001b[0;32m      5\u001b[0m }\n",
      "\u001b[1;31mNameError\u001b[0m: name 'set_fields_data' is not defined"
     ]
    }
   ],
   "source": [
    "output_data_column = {\n",
    "    \"model\": \"u1m1\",\n",
    "    \"client\": \"starbucks_old\",\n",
    "    \"fields\": set_fields_data\n",
    "}"
   ]
  },
  {
   "cell_type": "code",
   "execution_count": null,
   "id": "c0af4335",
   "metadata": {},
   "outputs": [],
   "source": []
  },
  {
   "cell_type": "code",
   "execution_count": 58,
   "id": "a79a0ebd",
   "metadata": {},
   "outputs": [],
   "source": [
    "output_list = df_raw_data.columns.tolist()"
   ]
  },
  {
   "cell_type": "code",
   "execution_count": 59,
   "id": "368960ee",
   "metadata": {},
   "outputs": [
    {
     "data": {
      "text/plain": [
       "['blast_type',\n",
       " 'blastrecipient_autoid',\n",
       " 'blastrecipient_member_autoid',\n",
       " 'blastrecipient_member_id',\n",
       " 'blast_blastdate',\n",
       " 'is_blast_on_weekday',\n",
       " 'is_blast_on_weekend',\n",
       " 'blast_on_day_of_week',\n",
       " 'blast_on_month_of_year',\n",
       " 'blast_on_day_of_month',\n",
       " 'tenure_days',\n",
       " 'tenure_years',\n",
       " 'tenure_years_group',\n",
       " 'tenure_years_group_order',\n",
       " 'no_of_vouchers_issued',\n",
       " 'no_of_vouchers_utilized',\n",
       " 'perc_of_vouchers_utilized',\n",
       " 'voucher_value_utilized_last_7_days',\n",
       " 'voucher_value_utilized_last_30_days',\n",
       " 'voucher_value_utilized_last_90_days',\n",
       " 'voucher_value_utilized_last_180_days',\n",
       " 'voucher_value_utilized_last_270_days',\n",
       " 'voucher_value_utilized_last_360_days',\n",
       " 'no_of_vouchers_issued_by_campaign',\n",
       " 'no_of_vouchers_issued_by_campaign_and_utilized',\n",
       " 'no_of_past_campaign_hits',\n",
       " 'member_autoid',\n",
       " 'member_maritalstatus',\n",
       " 'member_gender',\n",
       " 'member_notifysms',\n",
       " 'member_notifypost',\n",
       " 'no_of_transact_past_7_days',\n",
       " 'no_of_transact_past_30_days',\n",
       " 'no_of_transact_past_90_days',\n",
       " 'no_of_transact_past_180_days',\n",
       " 'no_of_transact_past_270_days',\n",
       " 'no_of_transact_past_360_days',\n",
       " 'transact_nettspent_past_7_days',\n",
       " 'transact_nettspent_past_30_days',\n",
       " 'transact_nettspent_past_90_days',\n",
       " 'transact_nettspent_past_180_days',\n",
       " 'transact_nettspent_past_270_days',\n",
       " 'transact_nettspent_past_360_days',\n",
       " 'transact_transactpoints_past_7_days',\n",
       " 'transact_transactpoints_past_30_days',\n",
       " 'transact_transactpoints_past_90_days',\n",
       " 'transact_transactpoints_past_180_days',\n",
       " 'transact_transactpoints_past_270_days',\n",
       " 'transact_transactpoints_past_360_days',\n",
       " 'campaignqualifiedlog_transact_autoid_past_7_days',\n",
       " 'campaignqualifiedlog_transact_autoid_past_30_days',\n",
       " 'campaignqualifiedlog_transact_autoid_past_90_days',\n",
       " 'campaignqualifiedlog_transact_autoid_past_180_days',\n",
       " 'campaignqualifiedlog_transact_autoid_past_270_days',\n",
       " 'campaignqualifiedlog_transact_autoid_past_360_days',\n",
       " 'recency',\n",
       " 'recency_group',\n",
       " 'recency_group_order',\n",
       " 'age',\n",
       " 'age_group',\n",
       " 'age_group_order',\n",
       " 'member_most_freq_outlet',\n",
       " 'no_of_unique_visited_outlets',\n",
       " 'no_of_blasts_sent',\n",
       " 'no_of_blasts_read',\n",
       " 'card_tier_Member',\n",
       " 'card_tier_Shopper',\n",
       " 'membership_status_active',\n",
       " 'member_sender_issubscribed',\n",
       " 'member_pns_devices_pushalert',\n",
       " 'interest_group_code_Shopping',\n",
       " 'interest_group_code_Dancing',\n",
       " 'waiting_period',\n",
       " 'rfm_recency',\n",
       " 'rfm_recency_score',\n",
       " 'rfm_frequency',\n",
       " 'rfm_frequency_score',\n",
       " 'rfm_monetary',\n",
       " 'rfm_monetary_score',\n",
       " 'rfm_score',\n",
       " 'recencyscore',\n",
       " 'frequencyscore',\n",
       " 'monetaryscore',\n",
       " 'rfmvalue',\n",
       " 'fmscore',\n",
       " 'rfmshortscore',\n",
       " 'rfmsegmentorder',\n",
       " 'recencyorder',\n",
       " 'frequencyorder',\n",
       " 'monetaryorder',\n",
       " 'r_order',\n",
       " 'fm_order',\n",
       " 'rfm_segment',\n",
       " 'blast_type_email',\n",
       " 'blast_type_sms',\n",
       " 'rfm_score_415',\n",
       " 'rfm_score_112',\n",
       " 'rfm_score_512',\n",
       " 'rfm_score_113',\n",
       " 'rfm_score_524',\n",
       " 'rfm_score_214',\n",
       " 'rfm_score_100',\n",
       " 'rfm_score_523',\n",
       " 'rfm_score_535',\n",
       " 'rfm_score_525',\n",
       " 'rfm_score_413',\n",
       " 'rfm_score_111',\n",
       " 'rfm_score_545',\n",
       " 'rfm_score_412',\n",
       " 'rfm_score_115',\n",
       " 'rfm_score_414',\n",
       " 'rfm_score_511',\n",
       " 'rfm_score_114',\n",
       " 'rfm_score_213',\n",
       " 'rfm_score_555',\n",
       " 'rfm_score_515',\n",
       " 'rfm_score_313',\n",
       " 'rfm_score_212',\n",
       " 'rfm_score_513',\n",
       " 'rfm_score_314',\n",
       " 'rfm_score_514',\n",
       " 'rfm_score_211',\n",
       " 'rfm_score_312',\n",
       " 'rfm_score_235',\n",
       " 'rfm_score_510',\n",
       " 'rfm_score_315',\n",
       " 'rfm_score_411',\n",
       " 'rfm_score_215',\n",
       " 'rfm_score_355',\n",
       " 'rfm_score_311',\n",
       " 'member_gender_female',\n",
       " 'member_gender_others',\n",
       " 'member_gender_male',\n",
       " 'member_maritalstatus_others',\n",
       " 'member_maritalstatus_married',\n",
       " 'member_maritalstatus_single',\n",
       " 'output']"
      ]
     },
     "execution_count": 59,
     "metadata": {},
     "output_type": "execute_result"
    }
   ],
   "source": [
    "output_list"
   ]
  },
  {
   "cell_type": "code",
   "execution_count": 60,
   "id": "42ca6817",
   "metadata": {},
   "outputs": [
    {
     "ename": "TypeError",
     "evalue": "'in <string>' requires string as left operand, not list",
     "output_type": "error",
     "traceback": [
      "\u001b[1;31m---------------------------------------------------------------------------\u001b[0m",
      "\u001b[1;31mTypeError\u001b[0m                                 Traceback (most recent call last)",
      "Input \u001b[1;32mIn [60]\u001b[0m, in \u001b[0;36m<cell line: 1>\u001b[1;34m()\u001b[0m\n\u001b[1;32m----> 1\u001b[0m \u001b[43mmapping_column\u001b[49m\u001b[43m(\u001b[49m\u001b[43moutput_list\u001b[49m\u001b[43m,\u001b[49m\u001b[38;5;124;43m\"\u001b[39;49m\u001b[38;5;124;43minterest_group\u001b[39;49m\u001b[38;5;124;43m\"\u001b[39;49m\u001b[43m)\u001b[49m\n",
      "Input \u001b[1;32mIn [47]\u001b[0m, in \u001b[0;36mmapping_column\u001b[1;34m(dummyCol, colname)\u001b[0m\n\u001b[0;32m      3\u001b[0m listColumn \u001b[38;5;241m=\u001b[39m []\n\u001b[0;32m      4\u001b[0m \u001b[38;5;28;01mfor\u001b[39;00m col \u001b[38;5;129;01min\u001b[39;00m colname:\n\u001b[1;32m----> 5\u001b[0m     \u001b[38;5;28;01mif\u001b[39;00m \u001b[43mdummyCol\u001b[49m\u001b[43m \u001b[49m\u001b[38;5;129;43;01min\u001b[39;49;00m\u001b[43m \u001b[49m\u001b[43mcol\u001b[49m:\n\u001b[0;32m      6\u001b[0m         listColumn\u001b[38;5;241m.\u001b[39mappend(col)\n\u001b[0;32m      8\u001b[0m res \u001b[38;5;241m=\u001b[39m (\u001b[38;5;124m\"\u001b[39m\u001b[38;5;124m|\u001b[39m\u001b[38;5;124m\"\u001b[39m)\u001b[38;5;241m.\u001b[39mjoin(listColumn)\n",
      "\u001b[1;31mTypeError\u001b[0m: 'in <string>' requires string as left operand, not list"
     ]
    }
   ],
   "source": [
    "mapping_column(output_list,\"interest_group\")"
   ]
  },
  {
   "cell_type": "code",
   "execution_count": 225,
   "id": "e1872d47",
   "metadata": {},
   "outputs": [
    {
     "data": {
      "text/plain": [
       "7    349464\n",
       "5     21888\n",
       "4     20596\n",
       "6     16504\n",
       "3     12650\n",
       "1      8870\n",
       "2      6714\n",
       "Name: recency_group_order, dtype: int64"
      ]
     },
     "execution_count": 225,
     "metadata": {},
     "output_type": "execute_result"
    }
   ],
   "source": [
    "df_raw_data[\"recency_group_order\"].value_counts()"
   ]
  },
  {
   "cell_type": "code",
   "execution_count": null,
   "id": "0a2755ed",
   "metadata": {},
   "outputs": [],
   "source": []
  },
  {
   "cell_type": "code",
   "execution_count": null,
   "id": "787ee602",
   "metadata": {},
   "outputs": [],
   "source": []
  },
  {
   "cell_type": "code",
   "execution_count": null,
   "id": "50c71ac6",
   "metadata": {},
   "outputs": [],
   "source": []
  },
  {
   "cell_type": "code",
   "execution_count": 62,
   "id": "5c725f88",
   "metadata": {},
   "outputs": [
    {
     "name": "stdout",
     "output_type": "stream",
     "text": [
      "in list\n"
     ]
    }
   ],
   "source": [
    "xs = ['abc-123', 'def-456', 'ghi-789', 'abc-456']\n",
    "\n",
    "if any(\"de\" in s for s in xs):\n",
    "    print(\"in list\")\n"
   ]
  },
  {
   "cell_type": "code",
   "execution_count": 63,
   "id": "fcde74a9",
   "metadata": {},
   "outputs": [
    {
     "name": "stdout",
     "output_type": "stream",
     "text": [
      "out list\n"
     ]
    }
   ],
   "source": [
    "if \"interest_group\" in output_list:\n",
    "    print(\"in list\")\n",
    "else:\n",
    "    print(\"out list\")"
   ]
  },
  {
   "cell_type": "code",
   "execution_count": 226,
   "id": "41093d65",
   "metadata": {},
   "outputs": [],
   "source": [
    "a = df_raw_data[\"recency_group_order\"].unique()"
   ]
  },
  {
   "cell_type": "code",
   "execution_count": 227,
   "id": "1c2fd9a4",
   "metadata": {},
   "outputs": [
    {
     "name": "stdout",
     "output_type": "stream",
     "text": [
      "[1, 2, 3, 4, 5, 6, 7]\n"
     ]
    }
   ],
   "source": [
    "print(sorted(a))"
   ]
  },
  {
   "cell_type": "code",
   "execution_count": 66,
   "id": "012361e9",
   "metadata": {},
   "outputs": [
    {
     "data": {
      "text/plain": [
       "3"
      ]
     },
     "execution_count": 66,
     "metadata": {},
     "output_type": "execute_result"
    }
   ],
   "source": [
    "len(a)"
   ]
  },
  {
   "cell_type": "code",
   "execution_count": 67,
   "id": "98a51f0f",
   "metadata": {},
   "outputs": [
    {
     "name": "stdout",
     "output_type": "stream",
     "text": [
      "female\n",
      "male\n",
      "others\n"
     ]
    }
   ],
   "source": [
    "for les in a:\n",
    "    print(les)"
   ]
  },
  {
   "cell_type": "code",
   "execution_count": null,
   "id": "39280761",
   "metadata": {},
   "outputs": [],
   "source": []
  },
  {
   "cell_type": "code",
   "execution_count": 68,
   "id": "6b7531cb",
   "metadata": {},
   "outputs": [],
   "source": [
    "def map_column(dummyCol,output_list):\n",
    "    colname = output_list.split(\",\")\n",
    "    listColumn = []\n",
    "    for col in output_list:\n",
    "        if dummyCol in col:\n",
    "            listColumn.append(col)\n",
    "    \n",
    "    res = (\"|\").join(listColumn)\n",
    "    return res"
   ]
  },
  {
   "cell_type": "code",
   "execution_count": null,
   "id": "0698ff9c",
   "metadata": {},
   "outputs": [],
   "source": []
  },
  {
   "cell_type": "code",
   "execution_count": 69,
   "id": "b4d4a0b2",
   "metadata": {},
   "outputs": [],
   "source": [
    "listss = ['abc123', 'def456', 'ghi789']"
   ]
  },
  {
   "cell_type": "code",
   "execution_count": 70,
   "id": "fd0e6bc6",
   "metadata": {},
   "outputs": [
    {
     "name": "stdout",
     "output_type": "stream",
     "text": [
      "nope\n",
      "nope\n",
      "nope\n"
     ]
    }
   ],
   "source": [
    "for ss in listss:\n",
    "    if \"as\" in ss:\n",
    "        print(\"yeah\")\n",
    "    else:\n",
    "        print(\"nope\")"
   ]
  },
  {
   "cell_type": "code",
   "execution_count": null,
   "id": "1c80dbe8",
   "metadata": {},
   "outputs": [],
   "source": []
  },
  {
   "cell_type": "code",
   "execution_count": 71,
   "id": "0837f417",
   "metadata": {},
   "outputs": [],
   "source": [
    "minn = df_raw_data[\"perc_of_vouchers_utilized\"].min()\n",
    "maxx = df_raw_data[\"perc_of_vouchers_utilized\"].max()"
   ]
  },
  {
   "cell_type": "code",
   "execution_count": 72,
   "id": "7519f667",
   "metadata": {},
   "outputs": [
    {
     "name": "stdout",
     "output_type": "stream",
     "text": [
      "Min :  0.0  | Max :  3.1\n"
     ]
    }
   ],
   "source": [
    "print(\"Min : \",minn,\" | Max : \",maxx)"
   ]
  },
  {
   "cell_type": "code",
   "execution_count": null,
   "id": "16d34e39",
   "metadata": {},
   "outputs": [],
   "source": []
  },
  {
   "cell_type": "code",
   "execution_count": 73,
   "id": "fb610978",
   "metadata": {},
   "outputs": [],
   "source": [
    "source_columns = df_raw_data.columns.tolist()"
   ]
  },
  {
   "cell_type": "code",
   "execution_count": 115,
   "id": "76ae662c",
   "metadata": {},
   "outputs": [
    {
     "name": "stdout",
     "output_type": "stream",
     "text": [
      "yeah_ rfm_recency_score\n"
     ]
    }
   ],
   "source": [
    "for sc in source_columns:\n",
    "    if \"rfm_recency_score\" in sc:\n",
    "        print(\"yeah_\" ,sc)\n",
    "    "
   ]
  },
  {
   "cell_type": "code",
   "execution_count": null,
   "id": "1c4caf0a",
   "metadata": {},
   "outputs": [],
   "source": []
  },
  {
   "cell_type": "code",
   "execution_count": 75,
   "id": "275500e2",
   "metadata": {},
   "outputs": [],
   "source": [
    "assss = []"
   ]
  },
  {
   "cell_type": "code",
   "execution_count": 76,
   "id": "5b2415d9",
   "metadata": {},
   "outputs": [],
   "source": [
    "def get_categorical_value_from_source_test(categorical_name):\n",
    "    categorical_result_list = []\n",
    "    source_column_list = df_raw_data.columns.tolist()\n",
    "    if categorical_name in source_column_list:\n",
    "        #------ get direct unique value\n",
    "        source_unique_values = sorted(df_raw_data[categorical_name].unique()) #---------- sorted mapping with mapper csv\n",
    "        if len(source_unique_values) > 0:\n",
    "            for source_unique in source_unique_values:\n",
    "                categorical_result = {}\n",
    "                categorical_result[\"name\"] = str(source_unique)\n",
    "                categorical_result[\"value\"] = str(source_unique)\n",
    "                categorical_result_list.append(categorical_result)\n",
    "    else:\n",
    "        #------ find by like\n",
    "        for source_column_name in source_column_list:\n",
    "            if categorical_name in source_column_name:\n",
    "                print(source_column_name)\n",
    "                categorical_result = {}\n",
    "                categorical_result[\"name\"] = str(source_column_name)\n",
    "                categorical_result[\"value\"] = str(source_column_name)\n",
    "                categorical_result_list.append(categorical_result)\n",
    "\n",
    "    return categorical_result_list\n",
    "    \n",
    "    "
   ]
  },
  {
   "cell_type": "code",
   "execution_count": 114,
   "id": "c83d5d56",
   "metadata": {},
   "outputs": [],
   "source": [
    "assss = get_categorical_value_from_source(\"rfm_recency_score\")"
   ]
  },
  {
   "cell_type": "code",
   "execution_count": 85,
   "id": "407715fa",
   "metadata": {},
   "outputs": [
    {
     "data": {
      "text/plain": [
       "[{'name': 'member_maritalstatus', 'value': 'member_maritalstatus'},\n",
       " {'name': 'member_maritalstatus_others',\n",
       "  'value': 'member_maritalstatus_others'},\n",
       " {'name': 'member_maritalstatus_married',\n",
       "  'value': 'member_maritalstatus_married'},\n",
       " {'name': 'member_maritalstatus_single',\n",
       "  'value': 'member_maritalstatus_single'}]"
      ]
     },
     "execution_count": 85,
     "metadata": {},
     "output_type": "execute_result"
    }
   ],
   "source": [
    "assss"
   ]
  },
  {
   "cell_type": "code",
   "execution_count": null,
   "id": "688b2879",
   "metadata": {},
   "outputs": [],
   "source": []
  },
  {
   "cell_type": "code",
   "execution_count": 79,
   "id": "b5a5c7c5",
   "metadata": {},
   "outputs": [],
   "source": [
    "def set_float_min_test(source_float_column_name):\n",
    "    dict_float_min_value = 0\n",
    "    source_column_list = df_raw_data.columns.tolist()\n",
    "    if source_float_column_name in source_column_list:\n",
    "        #------ get direct unique value\n",
    "        source_min_values = df_raw_data[source_float_column_name].min()\n",
    "        dict_float_min_value = float(source_min_values)\n",
    "    else:\n",
    "        dict_float_min_value = float(0)\n",
    "    \n",
    "    return dict_float_min_value\n",
    "    "
   ]
  },
  {
   "cell_type": "code",
   "execution_count": 80,
   "id": "2cad3d12",
   "metadata": {},
   "outputs": [],
   "source": [
    "def set_float_max_test(source_float_column_name):\n",
    "    dict_float_max_value = 0\n",
    "    source_column_list = df_raw_data.columns.tolist()\n",
    "    if source_float_column_name in source_column_list:\n",
    "        #------ get direct unique value\n",
    "        source_max_values = df_raw_data[source_float_column_name].max()\n",
    "        dict_float_max_value = float(source_max_values)\n",
    "    else:\n",
    "        dict_float_max_value = float(1)\n",
    "    return dict_float_max_value\n",
    "    "
   ]
  },
  {
   "cell_type": "code",
   "execution_count": 81,
   "id": "70a5ab89",
   "metadata": {},
   "outputs": [
    {
     "name": "stdout",
     "output_type": "stream",
     "text": [
      "0.0\n",
      "3.1\n"
     ]
    }
   ],
   "source": [
    "print(set_float_min_test(\"perc_of_vouchers_utilized\"))\n",
    "print(set_float_max_test(\"perc_of_vouchers_utilized\"))"
   ]
  },
  {
   "cell_type": "code",
   "execution_count": null,
   "id": "6d244b1c",
   "metadata": {},
   "outputs": [],
   "source": []
  },
  {
   "cell_type": "code",
   "execution_count": 100,
   "id": "a9353280",
   "metadata": {},
   "outputs": [],
   "source": []
  },
  {
   "cell_type": "code",
   "execution_count": 108,
   "id": "154a953b",
   "metadata": {},
   "outputs": [
    {
     "data": {
      "text/plain": [
       "'percofvouchersutilized'"
      ]
     },
     "execution_count": 108,
     "metadata": {},
     "output_type": "execute_result"
    }
   ],
   "source": []
  },
  {
   "cell_type": "code",
   "execution_count": null,
   "id": "431e6ae1",
   "metadata": {},
   "outputs": [],
   "source": []
  },
  {
   "cell_type": "code",
   "execution_count": 117,
   "id": "5499f744",
   "metadata": {},
   "outputs": [
    {
     "name": "stdout",
     "output_type": "stream",
     "text": [
      "got it  rfm_recency_score\n"
     ]
    }
   ],
   "source": [
    "input_col_name = \"rfm_recency_score\"\n",
    "join_input_col_name = join_column_name(input_col_name)\n",
    "\n",
    "\n",
    "for scn in source_columns:\n",
    "    source_join_column_name = join_column_name(scn)\n",
    "    \n",
    "    if join_input_col_name in source_join_column_name:\n",
    "        if join_input_col_name == source_join_column_name:\n",
    "            print(\"got it \" ,scn)\n",
    "        else:\n",
    "            print(\"\" ,scn)"
   ]
  },
  {
   "cell_type": "code",
   "execution_count": null,
   "id": "cf21b658",
   "metadata": {},
   "outputs": [],
   "source": []
  },
  {
   "cell_type": "code",
   "execution_count": 552,
   "id": "da88de65",
   "metadata": {},
   "outputs": [],
   "source": [
    "def get_categorical_value_from_source_testtt(categorical_name):\n",
    "    categorical_result_list = []\n",
    "    source_column_list = df_raw_data.columns.tolist()\n",
    "    join_categorical_name = join_column_name(categorical_name)\n",
    "  \n",
    "    for source_column_name in source_column_list:\n",
    "        source_join_column_name = join_column_name(source_column_name)\n",
    "        if join_categorical_name in source_join_column_name:\n",
    "            if join_categorical_name == source_join_column_name:\n",
    "                #source_unique_values = sorted(df_raw_data[source_column_name].unique())\n",
    "                source_unique_values = get_sorted_uniquetest(source_column_name)\n",
    "                print(source_unique_values)\n",
    "                if len(source_unique_values) > 0:\n",
    "                    for source_unique in source_unique_values:\n",
    "                        \n",
    "                        categorical_result = {}\n",
    "                        categorical_result[\"name\"] = str(source_unique)\n",
    "                        categorical_result[\"value\"] = str(source_unique)\n",
    "                        categorical_result_list.append(categorical_result)\n",
    "                break\n",
    "            elif join_categorical_name != source_join_column_name:\n",
    "                categorical_result = {}\n",
    "                categorical_result[\"name\"] = str(source_column_name)\n",
    "                categorical_result[\"value\"] = str(source_column_name)\n",
    "                categorical_result_list.append(categorical_result)\n",
    "\n",
    "    return categorical_result_list\n",
    "    "
   ]
  },
  {
   "cell_type": "code",
   "execution_count": 553,
   "id": "719614b8",
   "metadata": {},
   "outputs": [
    {
     "name": "stdout",
     "output_type": "stream",
     "text": [
      "['100+', '20 - 35', '36 - 49', '50 - 65', '65 - 100', '< 20', 'others']\n"
     ]
    },
    {
     "data": {
      "text/plain": [
       "[{'name': '100+', 'value': '100+'},\n",
       " {'name': '20 - 35', 'value': '20 - 35'},\n",
       " {'name': '36 - 49', 'value': '36 - 49'},\n",
       " {'name': '50 - 65', 'value': '50 - 65'},\n",
       " {'name': '65 - 100', 'value': '65 - 100'},\n",
       " {'name': '< 20', 'value': '< 20'},\n",
       " {'name': 'others', 'value': 'others'}]"
      ]
     },
     "execution_count": 553,
     "metadata": {},
     "output_type": "execute_result"
    }
   ],
   "source": [
    "get_categorical_value_from_source_testtt(\"age_group\")"
   ]
  },
  {
   "cell_type": "code",
   "execution_count": 395,
   "id": "4bab65dc",
   "metadata": {},
   "outputs": [
    {
     "data": {
      "text/plain": [
       "[{'name': 'card_tier_Member', 'value': 'card_tier_Member'},\n",
       " {'name': 'card_tier_Shopper', 'value': 'card_tier_Shopper'}]"
      ]
     },
     "execution_count": 395,
     "metadata": {},
     "output_type": "execute_result"
    }
   ],
   "source": [
    "get_categorical_value_from_source_testtt(\"card_tier\")"
   ]
  },
  {
   "cell_type": "code",
   "execution_count": null,
   "id": "76bfc759",
   "metadata": {},
   "outputs": [],
   "source": []
  },
  {
   "cell_type": "code",
   "execution_count": 280,
   "id": "31ebfad9",
   "metadata": {},
   "outputs": [],
   "source": []
  },
  {
   "cell_type": "code",
   "execution_count": null,
   "id": "7c7547da",
   "metadata": {},
   "outputs": [],
   "source": []
  },
  {
   "cell_type": "code",
   "execution_count": null,
   "id": "d82d2cc2",
   "metadata": {},
   "outputs": [],
   "source": []
  },
  {
   "cell_type": "code",
   "execution_count": 54,
   "id": "4126f190",
   "metadata": {},
   "outputs": [],
   "source": [
    "gd = dfa_sort_value_standard.loc[dfa_sort_value_standard[\"domain\"]==\"agegroup\"]"
   ]
  },
  {
   "cell_type": "code",
   "execution_count": 58,
   "id": "f50509fd",
   "metadata": {},
   "outputs": [
    {
     "name": "stdout",
     "output_type": "stream",
     "text": [
      "['less_than_20' '20_to_35' '36_to_49' '50_to_65' '65_to_100'\n",
      " 'more_than_100' 'others']\n"
     ]
    }
   ],
   "source": [
    "if len(gd[\"std_name\"]) > 0:\n",
    "    print(gd[\"std_name\"].unique())\n",
    "else :\n",
    "    print(gd[\"std_values\"].unique())"
   ]
  },
  {
   "cell_type": "code",
   "execution_count": 59,
   "id": "3a393487",
   "metadata": {},
   "outputs": [
    {
     "data": {
      "text/plain": [
       "array(['< 20', '20 - 35', '36 - 49', '50 - 65', '65 - 100', '100+',\n",
       "       'others'], dtype=object)"
      ]
     },
     "execution_count": 59,
     "metadata": {},
     "output_type": "execute_result"
    }
   ],
   "source": [
    "gd[\"std_values\"].unique()"
   ]
  },
  {
   "cell_type": "code",
   "execution_count": 305,
   "id": "b27ea8d6",
   "metadata": {},
   "outputs": [
    {
     "name": "stdout",
     "output_type": "stream",
     "text": [
      "domain\n",
      "src_values\n",
      "std_values\n",
      "std_order\n",
      "enrich_gender\n",
      "min_value\n",
      "max_value\n",
      "exception\n",
      "addedby\n",
      "addedon\n",
      "modifiedby\n",
      "modifiedon\n"
     ]
    }
   ],
   "source": [
    "for innn in gd:\n",
    "    #if innn[\"domain\"] == \"gender\":\n",
    "    print(innn)"
   ]
  },
  {
   "cell_type": "code",
   "execution_count": 326,
   "id": "eb74d648",
   "metadata": {},
   "outputs": [
    {
     "data": {
      "text/html": [
       "<div>\n",
       "<style scoped>\n",
       "    .dataframe tbody tr th:only-of-type {\n",
       "        vertical-align: middle;\n",
       "    }\n",
       "\n",
       "    .dataframe tbody tr th {\n",
       "        vertical-align: top;\n",
       "    }\n",
       "\n",
       "    .dataframe thead th {\n",
       "        text-align: right;\n",
       "    }\n",
       "</style>\n",
       "<table border=\"1\" class=\"dataframe\">\n",
       "  <thead>\n",
       "    <tr style=\"text-align: right;\">\n",
       "      <th></th>\n",
       "      <th>domain</th>\n",
       "      <th>src_values</th>\n",
       "      <th>std_values</th>\n",
       "      <th>std_order</th>\n",
       "      <th>enrich_gender</th>\n",
       "      <th>min_value</th>\n",
       "      <th>max_value</th>\n",
       "      <th>exception</th>\n",
       "      <th>addedby</th>\n",
       "      <th>addedon</th>\n",
       "      <th>modifiedby</th>\n",
       "      <th>modifiedon</th>\n",
       "    </tr>\n",
       "  </thead>\n",
       "  <tbody>\n",
       "    <tr>\n",
       "      <th>0</th>\n",
       "      <td>gender</td>\n",
       "      <td>F</td>\n",
       "      <td>female</td>\n",
       "      <td>1.0</td>\n",
       "      <td>NaN</td>\n",
       "      <td>NaN</td>\n",
       "      <td>NaN</td>\n",
       "      <td>n</td>\n",
       "      <td>NaN</td>\n",
       "      <td>NaN</td>\n",
       "      <td>NaN</td>\n",
       "      <td>NaN</td>\n",
       "    </tr>\n",
       "    <tr>\n",
       "      <th>1</th>\n",
       "      <td>gender</td>\n",
       "      <td>Female</td>\n",
       "      <td>female</td>\n",
       "      <td>1.0</td>\n",
       "      <td>NaN</td>\n",
       "      <td>NaN</td>\n",
       "      <td>NaN</td>\n",
       "      <td>n</td>\n",
       "      <td>NaN</td>\n",
       "      <td>NaN</td>\n",
       "      <td>NaN</td>\n",
       "      <td>NaN</td>\n",
       "    </tr>\n",
       "    <tr>\n",
       "      <th>2</th>\n",
       "      <td>gender</td>\n",
       "      <td>M</td>\n",
       "      <td>male</td>\n",
       "      <td>2.0</td>\n",
       "      <td>NaN</td>\n",
       "      <td>NaN</td>\n",
       "      <td>NaN</td>\n",
       "      <td>n</td>\n",
       "      <td>NaN</td>\n",
       "      <td>NaN</td>\n",
       "      <td>NaN</td>\n",
       "      <td>NaN</td>\n",
       "    </tr>\n",
       "    <tr>\n",
       "      <th>3</th>\n",
       "      <td>gender</td>\n",
       "      <td>Male</td>\n",
       "      <td>male</td>\n",
       "      <td>2.0</td>\n",
       "      <td>NaN</td>\n",
       "      <td>NaN</td>\n",
       "      <td>NaN</td>\n",
       "      <td>n</td>\n",
       "      <td>NaN</td>\n",
       "      <td>NaN</td>\n",
       "      <td>NaN</td>\n",
       "      <td>NaN</td>\n",
       "    </tr>\n",
       "    <tr>\n",
       "      <th>4</th>\n",
       "      <td>gender</td>\n",
       "      <td>0</td>\n",
       "      <td>others</td>\n",
       "      <td>99.0</td>\n",
       "      <td>NaN</td>\n",
       "      <td>NaN</td>\n",
       "      <td>NaN</td>\n",
       "      <td>y</td>\n",
       "      <td>NaN</td>\n",
       "      <td>NaN</td>\n",
       "      <td>NaN</td>\n",
       "      <td>NaN</td>\n",
       "    </tr>\n",
       "    <tr>\n",
       "      <th>5</th>\n",
       "      <td>gender</td>\n",
       "      <td>&amp;</td>\n",
       "      <td>others</td>\n",
       "      <td>99.0</td>\n",
       "      <td>NaN</td>\n",
       "      <td>NaN</td>\n",
       "      <td>NaN</td>\n",
       "      <td>y</td>\n",
       "      <td>NaN</td>\n",
       "      <td>NaN</td>\n",
       "      <td>NaN</td>\n",
       "      <td>NaN</td>\n",
       "    </tr>\n",
       "    <tr>\n",
       "      <th>6</th>\n",
       "      <td>gender</td>\n",
       "      <td>(</td>\n",
       "      <td>others</td>\n",
       "      <td>99.0</td>\n",
       "      <td>NaN</td>\n",
       "      <td>NaN</td>\n",
       "      <td>NaN</td>\n",
       "      <td>y</td>\n",
       "      <td>NaN</td>\n",
       "      <td>NaN</td>\n",
       "      <td>NaN</td>\n",
       "      <td>NaN</td>\n",
       "    </tr>\n",
       "    <tr>\n",
       "      <th>7</th>\n",
       "      <td>gender</td>\n",
       "      <td>C</td>\n",
       "      <td>others</td>\n",
       "      <td>99.0</td>\n",
       "      <td>NaN</td>\n",
       "      <td>NaN</td>\n",
       "      <td>NaN</td>\n",
       "      <td>y</td>\n",
       "      <td>NaN</td>\n",
       "      <td>NaN</td>\n",
       "      <td>NaN</td>\n",
       "      <td>NaN</td>\n",
       "    </tr>\n",
       "    <tr>\n",
       "      <th>8</th>\n",
       "      <td>gender</td>\n",
       "      <td>D</td>\n",
       "      <td>others</td>\n",
       "      <td>99.0</td>\n",
       "      <td>NaN</td>\n",
       "      <td>NaN</td>\n",
       "      <td>NaN</td>\n",
       "      <td>y</td>\n",
       "      <td>NaN</td>\n",
       "      <td>NaN</td>\n",
       "      <td>NaN</td>\n",
       "      <td>NaN</td>\n",
       "    </tr>\n",
       "    <tr>\n",
       "      <th>9</th>\n",
       "      <td>gender</td>\n",
       "      <td>G</td>\n",
       "      <td>others</td>\n",
       "      <td>99.0</td>\n",
       "      <td>NaN</td>\n",
       "      <td>NaN</td>\n",
       "      <td>NaN</td>\n",
       "      <td>y</td>\n",
       "      <td>NaN</td>\n",
       "      <td>NaN</td>\n",
       "      <td>NaN</td>\n",
       "      <td>NaN</td>\n",
       "    </tr>\n",
       "    <tr>\n",
       "      <th>10</th>\n",
       "      <td>gender</td>\n",
       "      <td>N</td>\n",
       "      <td>others</td>\n",
       "      <td>99.0</td>\n",
       "      <td>NaN</td>\n",
       "      <td>NaN</td>\n",
       "      <td>NaN</td>\n",
       "      <td>y</td>\n",
       "      <td>NaN</td>\n",
       "      <td>NaN</td>\n",
       "      <td>NaN</td>\n",
       "      <td>NaN</td>\n",
       "    </tr>\n",
       "    <tr>\n",
       "      <th>11</th>\n",
       "      <td>gender</td>\n",
       "      <td>None</td>\n",
       "      <td>others</td>\n",
       "      <td>99.0</td>\n",
       "      <td>NaN</td>\n",
       "      <td>NaN</td>\n",
       "      <td>NaN</td>\n",
       "      <td>y</td>\n",
       "      <td>NaN</td>\n",
       "      <td>NaN</td>\n",
       "      <td>NaN</td>\n",
       "      <td>NaN</td>\n",
       "    </tr>\n",
       "    <tr>\n",
       "      <th>12</th>\n",
       "      <td>gender</td>\n",
       "      <td>O</td>\n",
       "      <td>others</td>\n",
       "      <td>99.0</td>\n",
       "      <td>NaN</td>\n",
       "      <td>NaN</td>\n",
       "      <td>NaN</td>\n",
       "      <td>y</td>\n",
       "      <td>NaN</td>\n",
       "      <td>NaN</td>\n",
       "      <td>NaN</td>\n",
       "      <td>NaN</td>\n",
       "    </tr>\n",
       "    <tr>\n",
       "      <th>13</th>\n",
       "      <td>gender</td>\n",
       "      <td>Others</td>\n",
       "      <td>others</td>\n",
       "      <td>99.0</td>\n",
       "      <td>NaN</td>\n",
       "      <td>NaN</td>\n",
       "      <td>NaN</td>\n",
       "      <td>y</td>\n",
       "      <td>NaN</td>\n",
       "      <td>NaN</td>\n",
       "      <td>NaN</td>\n",
       "      <td>NaN</td>\n",
       "    </tr>\n",
       "    <tr>\n",
       "      <th>14</th>\n",
       "      <td>gender</td>\n",
       "      <td>P</td>\n",
       "      <td>others</td>\n",
       "      <td>99.0</td>\n",
       "      <td>NaN</td>\n",
       "      <td>NaN</td>\n",
       "      <td>NaN</td>\n",
       "      <td>y</td>\n",
       "      <td>NaN</td>\n",
       "      <td>NaN</td>\n",
       "      <td>NaN</td>\n",
       "      <td>NaN</td>\n",
       "    </tr>\n",
       "    <tr>\n",
       "      <th>15</th>\n",
       "      <td>gender</td>\n",
       "      <td>s</td>\n",
       "      <td>others</td>\n",
       "      <td>99.0</td>\n",
       "      <td>NaN</td>\n",
       "      <td>NaN</td>\n",
       "      <td>NaN</td>\n",
       "      <td>y</td>\n",
       "      <td>NaN</td>\n",
       "      <td>NaN</td>\n",
       "      <td>NaN</td>\n",
       "      <td>NaN</td>\n",
       "    </tr>\n",
       "    <tr>\n",
       "      <th>16</th>\n",
       "      <td>gender</td>\n",
       "      <td>X</td>\n",
       "      <td>others</td>\n",
       "      <td>99.0</td>\n",
       "      <td>NaN</td>\n",
       "      <td>NaN</td>\n",
       "      <td>NaN</td>\n",
       "      <td>y</td>\n",
       "      <td>NaN</td>\n",
       "      <td>NaN</td>\n",
       "      <td>NaN</td>\n",
       "      <td>NaN</td>\n",
       "    </tr>\n",
       "    <tr>\n",
       "      <th>17</th>\n",
       "      <td>gender</td>\n",
       "      <td>exception</td>\n",
       "      <td>others</td>\n",
       "      <td>99.0</td>\n",
       "      <td>NaN</td>\n",
       "      <td>NaN</td>\n",
       "      <td>NaN</td>\n",
       "      <td>y</td>\n",
       "      <td>NaN</td>\n",
       "      <td>NaN</td>\n",
       "      <td>NaN</td>\n",
       "      <td>NaN</td>\n",
       "    </tr>\n",
       "  </tbody>\n",
       "</table>\n",
       "</div>"
      ],
      "text/plain": [
       "    domain src_values std_values  std_order enrich_gender  min_value  \\\n",
       "0   gender          F     female        1.0           NaN        NaN   \n",
       "1   gender     Female     female        1.0           NaN        NaN   \n",
       "2   gender          M       male        2.0           NaN        NaN   \n",
       "3   gender       Male       male        2.0           NaN        NaN   \n",
       "4   gender          0     others       99.0           NaN        NaN   \n",
       "5   gender          &     others       99.0           NaN        NaN   \n",
       "6   gender          (     others       99.0           NaN        NaN   \n",
       "7   gender          C     others       99.0           NaN        NaN   \n",
       "8   gender          D     others       99.0           NaN        NaN   \n",
       "9   gender          G     others       99.0           NaN        NaN   \n",
       "10  gender          N     others       99.0           NaN        NaN   \n",
       "11  gender       None     others       99.0           NaN        NaN   \n",
       "12  gender          O     others       99.0           NaN        NaN   \n",
       "13  gender     Others     others       99.0           NaN        NaN   \n",
       "14  gender          P     others       99.0           NaN        NaN   \n",
       "15  gender          s     others       99.0           NaN        NaN   \n",
       "16  gender          X     others       99.0           NaN        NaN   \n",
       "17  gender  exception     others       99.0           NaN        NaN   \n",
       "\n",
       "    max_value exception addedby  addedon  modifiedby  modifiedon  \n",
       "0         NaN         n     NaN      NaN         NaN         NaN  \n",
       "1         NaN         n     NaN      NaN         NaN         NaN  \n",
       "2         NaN         n     NaN      NaN         NaN         NaN  \n",
       "3         NaN         n     NaN      NaN         NaN         NaN  \n",
       "4         NaN         y     NaN      NaN         NaN         NaN  \n",
       "5         NaN         y     NaN      NaN         NaN         NaN  \n",
       "6         NaN         y     NaN      NaN         NaN         NaN  \n",
       "7         NaN         y     NaN      NaN         NaN         NaN  \n",
       "8         NaN         y     NaN      NaN         NaN         NaN  \n",
       "9         NaN         y     NaN      NaN         NaN         NaN  \n",
       "10        NaN         y     NaN      NaN         NaN         NaN  \n",
       "11        NaN         y     NaN      NaN         NaN         NaN  \n",
       "12        NaN         y     NaN      NaN         NaN         NaN  \n",
       "13        NaN         y     NaN      NaN         NaN         NaN  \n",
       "14        NaN         y     NaN      NaN         NaN         NaN  \n",
       "15        NaN         y     NaN      NaN         NaN         NaN  \n",
       "16        NaN         y     NaN      NaN         NaN         NaN  \n",
       "17        NaN         y     NaN      NaN         NaN         NaN  "
      ]
     },
     "execution_count": 326,
     "metadata": {},
     "output_type": "execute_result"
    }
   ],
   "source": [
    "gd"
   ]
  },
  {
   "cell_type": "code",
   "execution_count": 335,
   "id": "803bf11d",
   "metadata": {},
   "outputs": [],
   "source": [
    "dd = gd.drop_duplicates(subset = [\"std_values\"]).sort_values(by=['std_order'])"
   ]
  },
  {
   "cell_type": "code",
   "execution_count": 336,
   "id": "dbe5d8c4",
   "metadata": {},
   "outputs": [
    {
     "data": {
      "text/html": [
       "<div>\n",
       "<style scoped>\n",
       "    .dataframe tbody tr th:only-of-type {\n",
       "        vertical-align: middle;\n",
       "    }\n",
       "\n",
       "    .dataframe tbody tr th {\n",
       "        vertical-align: top;\n",
       "    }\n",
       "\n",
       "    .dataframe thead th {\n",
       "        text-align: right;\n",
       "    }\n",
       "</style>\n",
       "<table border=\"1\" class=\"dataframe\">\n",
       "  <thead>\n",
       "    <tr style=\"text-align: right;\">\n",
       "      <th></th>\n",
       "      <th>domain</th>\n",
       "      <th>src_values</th>\n",
       "      <th>std_values</th>\n",
       "      <th>std_order</th>\n",
       "      <th>enrich_gender</th>\n",
       "      <th>min_value</th>\n",
       "      <th>max_value</th>\n",
       "      <th>exception</th>\n",
       "      <th>addedby</th>\n",
       "      <th>addedon</th>\n",
       "      <th>modifiedby</th>\n",
       "      <th>modifiedon</th>\n",
       "    </tr>\n",
       "  </thead>\n",
       "  <tbody>\n",
       "    <tr>\n",
       "      <th>0</th>\n",
       "      <td>gender</td>\n",
       "      <td>F</td>\n",
       "      <td>female</td>\n",
       "      <td>1.0</td>\n",
       "      <td>NaN</td>\n",
       "      <td>NaN</td>\n",
       "      <td>NaN</td>\n",
       "      <td>n</td>\n",
       "      <td>NaN</td>\n",
       "      <td>NaN</td>\n",
       "      <td>NaN</td>\n",
       "      <td>NaN</td>\n",
       "    </tr>\n",
       "    <tr>\n",
       "      <th>2</th>\n",
       "      <td>gender</td>\n",
       "      <td>M</td>\n",
       "      <td>male</td>\n",
       "      <td>2.0</td>\n",
       "      <td>NaN</td>\n",
       "      <td>NaN</td>\n",
       "      <td>NaN</td>\n",
       "      <td>n</td>\n",
       "      <td>NaN</td>\n",
       "      <td>NaN</td>\n",
       "      <td>NaN</td>\n",
       "      <td>NaN</td>\n",
       "    </tr>\n",
       "    <tr>\n",
       "      <th>4</th>\n",
       "      <td>gender</td>\n",
       "      <td>0</td>\n",
       "      <td>others</td>\n",
       "      <td>99.0</td>\n",
       "      <td>NaN</td>\n",
       "      <td>NaN</td>\n",
       "      <td>NaN</td>\n",
       "      <td>y</td>\n",
       "      <td>NaN</td>\n",
       "      <td>NaN</td>\n",
       "      <td>NaN</td>\n",
       "      <td>NaN</td>\n",
       "    </tr>\n",
       "  </tbody>\n",
       "</table>\n",
       "</div>"
      ],
      "text/plain": [
       "   domain src_values std_values  std_order enrich_gender  min_value  \\\n",
       "0  gender          F     female        1.0           NaN        NaN   \n",
       "2  gender          M       male        2.0           NaN        NaN   \n",
       "4  gender          0     others       99.0           NaN        NaN   \n",
       "\n",
       "   max_value exception addedby  addedon  modifiedby  modifiedon  \n",
       "0        NaN         n     NaN      NaN         NaN         NaN  \n",
       "2        NaN         n     NaN      NaN         NaN         NaN  \n",
       "4        NaN         y     NaN      NaN         NaN         NaN  "
      ]
     },
     "execution_count": 336,
     "metadata": {},
     "output_type": "execute_result"
    }
   ],
   "source": [
    "dd"
   ]
  },
  {
   "cell_type": "code",
   "execution_count": 333,
   "id": "74ba51bf",
   "metadata": {},
   "outputs": [],
   "source": [
    "dfss = dd.sort_values(by=['std_order'])"
   ]
  },
  {
   "cell_type": "code",
   "execution_count": 334,
   "id": "7242e073",
   "metadata": {},
   "outputs": [
    {
     "data": {
      "text/html": [
       "<div>\n",
       "<style scoped>\n",
       "    .dataframe tbody tr th:only-of-type {\n",
       "        vertical-align: middle;\n",
       "    }\n",
       "\n",
       "    .dataframe tbody tr th {\n",
       "        vertical-align: top;\n",
       "    }\n",
       "\n",
       "    .dataframe thead th {\n",
       "        text-align: right;\n",
       "    }\n",
       "</style>\n",
       "<table border=\"1\" class=\"dataframe\">\n",
       "  <thead>\n",
       "    <tr style=\"text-align: right;\">\n",
       "      <th></th>\n",
       "      <th>domain</th>\n",
       "      <th>src_values</th>\n",
       "      <th>std_values</th>\n",
       "      <th>std_order</th>\n",
       "      <th>enrich_gender</th>\n",
       "      <th>min_value</th>\n",
       "      <th>max_value</th>\n",
       "      <th>exception</th>\n",
       "      <th>addedby</th>\n",
       "      <th>addedon</th>\n",
       "      <th>modifiedby</th>\n",
       "      <th>modifiedon</th>\n",
       "    </tr>\n",
       "  </thead>\n",
       "  <tbody>\n",
       "    <tr>\n",
       "      <th>0</th>\n",
       "      <td>gender</td>\n",
       "      <td>F</td>\n",
       "      <td>female</td>\n",
       "      <td>1.0</td>\n",
       "      <td>NaN</td>\n",
       "      <td>NaN</td>\n",
       "      <td>NaN</td>\n",
       "      <td>n</td>\n",
       "      <td>NaN</td>\n",
       "      <td>NaN</td>\n",
       "      <td>NaN</td>\n",
       "      <td>NaN</td>\n",
       "    </tr>\n",
       "    <tr>\n",
       "      <th>2</th>\n",
       "      <td>gender</td>\n",
       "      <td>M</td>\n",
       "      <td>male</td>\n",
       "      <td>2.0</td>\n",
       "      <td>NaN</td>\n",
       "      <td>NaN</td>\n",
       "      <td>NaN</td>\n",
       "      <td>n</td>\n",
       "      <td>NaN</td>\n",
       "      <td>NaN</td>\n",
       "      <td>NaN</td>\n",
       "      <td>NaN</td>\n",
       "    </tr>\n",
       "    <tr>\n",
       "      <th>4</th>\n",
       "      <td>gender</td>\n",
       "      <td>0</td>\n",
       "      <td>others</td>\n",
       "      <td>99.0</td>\n",
       "      <td>NaN</td>\n",
       "      <td>NaN</td>\n",
       "      <td>NaN</td>\n",
       "      <td>y</td>\n",
       "      <td>NaN</td>\n",
       "      <td>NaN</td>\n",
       "      <td>NaN</td>\n",
       "      <td>NaN</td>\n",
       "    </tr>\n",
       "  </tbody>\n",
       "</table>\n",
       "</div>"
      ],
      "text/plain": [
       "   domain src_values std_values  std_order enrich_gender  min_value  \\\n",
       "0  gender          F     female        1.0           NaN        NaN   \n",
       "2  gender          M       male        2.0           NaN        NaN   \n",
       "4  gender          0     others       99.0           NaN        NaN   \n",
       "\n",
       "   max_value exception addedby  addedon  modifiedby  modifiedon  \n",
       "0        NaN         n     NaN      NaN         NaN         NaN  \n",
       "2        NaN         n     NaN      NaN         NaN         NaN  \n",
       "4        NaN         y     NaN      NaN         NaN         NaN  "
      ]
     },
     "execution_count": 334,
     "metadata": {},
     "output_type": "execute_result"
    }
   ],
   "source": [
    "dfss"
   ]
  },
  {
   "cell_type": "code",
   "execution_count": 263,
   "id": "cecbe54d",
   "metadata": {},
   "outputs": [],
   "source": []
  },
  {
   "cell_type": "code",
   "execution_count": 264,
   "id": "1a5dc2d0",
   "metadata": {},
   "outputs": [
    {
     "data": {
      "text/html": [
       "<div>\n",
       "<style scoped>\n",
       "    .dataframe tbody tr th:only-of-type {\n",
       "        vertical-align: middle;\n",
       "    }\n",
       "\n",
       "    .dataframe tbody tr th {\n",
       "        vertical-align: top;\n",
       "    }\n",
       "\n",
       "    .dataframe thead th {\n",
       "        text-align: right;\n",
       "    }\n",
       "</style>\n",
       "<table border=\"1\" class=\"dataframe\">\n",
       "  <thead>\n",
       "    <tr style=\"text-align: right;\">\n",
       "      <th></th>\n",
       "      <th>domain</th>\n",
       "      <th>std_order</th>\n",
       "      <th>std_values</th>\n",
       "    </tr>\n",
       "  </thead>\n",
       "  <tbody>\n",
       "    <tr>\n",
       "      <th>0</th>\n",
       "      <td>gender</td>\n",
       "      <td>1.0</td>\n",
       "      <td>female</td>\n",
       "    </tr>\n",
       "    <tr>\n",
       "      <th>1</th>\n",
       "      <td>gender</td>\n",
       "      <td>1.0</td>\n",
       "      <td>female</td>\n",
       "    </tr>\n",
       "    <tr>\n",
       "      <th>2</th>\n",
       "      <td>gender</td>\n",
       "      <td>2.0</td>\n",
       "      <td>male</td>\n",
       "    </tr>\n",
       "    <tr>\n",
       "      <th>3</th>\n",
       "      <td>gender</td>\n",
       "      <td>2.0</td>\n",
       "      <td>male</td>\n",
       "    </tr>\n",
       "    <tr>\n",
       "      <th>4</th>\n",
       "      <td>gender</td>\n",
       "      <td>99.0</td>\n",
       "      <td>others</td>\n",
       "    </tr>\n",
       "    <tr>\n",
       "      <th>5</th>\n",
       "      <td>gender</td>\n",
       "      <td>99.0</td>\n",
       "      <td>others</td>\n",
       "    </tr>\n",
       "    <tr>\n",
       "      <th>6</th>\n",
       "      <td>gender</td>\n",
       "      <td>99.0</td>\n",
       "      <td>others</td>\n",
       "    </tr>\n",
       "    <tr>\n",
       "      <th>7</th>\n",
       "      <td>gender</td>\n",
       "      <td>99.0</td>\n",
       "      <td>others</td>\n",
       "    </tr>\n",
       "    <tr>\n",
       "      <th>8</th>\n",
       "      <td>gender</td>\n",
       "      <td>99.0</td>\n",
       "      <td>others</td>\n",
       "    </tr>\n",
       "    <tr>\n",
       "      <th>9</th>\n",
       "      <td>gender</td>\n",
       "      <td>99.0</td>\n",
       "      <td>others</td>\n",
       "    </tr>\n",
       "    <tr>\n",
       "      <th>10</th>\n",
       "      <td>gender</td>\n",
       "      <td>99.0</td>\n",
       "      <td>others</td>\n",
       "    </tr>\n",
       "    <tr>\n",
       "      <th>11</th>\n",
       "      <td>gender</td>\n",
       "      <td>99.0</td>\n",
       "      <td>others</td>\n",
       "    </tr>\n",
       "    <tr>\n",
       "      <th>12</th>\n",
       "      <td>gender</td>\n",
       "      <td>99.0</td>\n",
       "      <td>others</td>\n",
       "    </tr>\n",
       "    <tr>\n",
       "      <th>13</th>\n",
       "      <td>gender</td>\n",
       "      <td>99.0</td>\n",
       "      <td>others</td>\n",
       "    </tr>\n",
       "    <tr>\n",
       "      <th>14</th>\n",
       "      <td>gender</td>\n",
       "      <td>99.0</td>\n",
       "      <td>others</td>\n",
       "    </tr>\n",
       "    <tr>\n",
       "      <th>15</th>\n",
       "      <td>gender</td>\n",
       "      <td>99.0</td>\n",
       "      <td>others</td>\n",
       "    </tr>\n",
       "    <tr>\n",
       "      <th>16</th>\n",
       "      <td>gender</td>\n",
       "      <td>99.0</td>\n",
       "      <td>others</td>\n",
       "    </tr>\n",
       "    <tr>\n",
       "      <th>17</th>\n",
       "      <td>gender</td>\n",
       "      <td>99.0</td>\n",
       "      <td>others</td>\n",
       "    </tr>\n",
       "  </tbody>\n",
       "</table>\n",
       "</div>"
      ],
      "text/plain": [
       "    domain  std_order std_values\n",
       "0   gender        1.0     female\n",
       "1   gender        1.0     female\n",
       "2   gender        2.0       male\n",
       "3   gender        2.0       male\n",
       "4   gender       99.0     others\n",
       "5   gender       99.0     others\n",
       "6   gender       99.0     others\n",
       "7   gender       99.0     others\n",
       "8   gender       99.0     others\n",
       "9   gender       99.0     others\n",
       "10  gender       99.0     others\n",
       "11  gender       99.0     others\n",
       "12  gender       99.0     others\n",
       "13  gender       99.0     others\n",
       "14  gender       99.0     others\n",
       "15  gender       99.0     others\n",
       "16  gender       99.0     others\n",
       "17  gender       99.0     others"
      ]
     },
     "execution_count": 264,
     "metadata": {},
     "output_type": "execute_result"
    }
   ],
   "source": []
  },
  {
   "cell_type": "code",
   "execution_count": 268,
   "id": "2f4eaa3f",
   "metadata": {},
   "outputs": [],
   "source": [
    "k = \"female\",\"male\",\"others\""
   ]
  },
  {
   "cell_type": "code",
   "execution_count": 276,
   "id": "b9166db4",
   "metadata": {},
   "outputs": [],
   "source": [
    "df_values = dfa_sort_value_standard[dfa_sort_value_standard['std_values'].isin(['female', 'male','others'])]"
   ]
  },
  {
   "cell_type": "code",
   "execution_count": 274,
   "id": "4a8abc29",
   "metadata": {},
   "outputs": [
    {
     "data": {
      "text/html": [
       "<div>\n",
       "<style scoped>\n",
       "    .dataframe tbody tr th:only-of-type {\n",
       "        vertical-align: middle;\n",
       "    }\n",
       "\n",
       "    .dataframe tbody tr th {\n",
       "        vertical-align: top;\n",
       "    }\n",
       "\n",
       "    .dataframe thead th {\n",
       "        text-align: right;\n",
       "    }\n",
       "</style>\n",
       "<table border=\"1\" class=\"dataframe\">\n",
       "  <thead>\n",
       "    <tr style=\"text-align: right;\">\n",
       "      <th></th>\n",
       "      <th>domain</th>\n",
       "      <th>src_values</th>\n",
       "      <th>std_values</th>\n",
       "      <th>std_order</th>\n",
       "      <th>enrich_gender</th>\n",
       "      <th>min_value</th>\n",
       "      <th>max_value</th>\n",
       "      <th>exception</th>\n",
       "      <th>addedby</th>\n",
       "      <th>addedon</th>\n",
       "      <th>modifiedby</th>\n",
       "      <th>modifiedon</th>\n",
       "    </tr>\n",
       "  </thead>\n",
       "  <tbody>\n",
       "    <tr>\n",
       "      <th>0</th>\n",
       "      <td>gender</td>\n",
       "      <td>F</td>\n",
       "      <td>female</td>\n",
       "      <td>1.0</td>\n",
       "      <td>NaN</td>\n",
       "      <td>NaN</td>\n",
       "      <td>NaN</td>\n",
       "      <td>n</td>\n",
       "      <td>NaN</td>\n",
       "      <td>NaN</td>\n",
       "      <td>NaN</td>\n",
       "      <td>NaN</td>\n",
       "    </tr>\n",
       "    <tr>\n",
       "      <th>1</th>\n",
       "      <td>gender</td>\n",
       "      <td>Female</td>\n",
       "      <td>female</td>\n",
       "      <td>1.0</td>\n",
       "      <td>NaN</td>\n",
       "      <td>NaN</td>\n",
       "      <td>NaN</td>\n",
       "      <td>n</td>\n",
       "      <td>NaN</td>\n",
       "      <td>NaN</td>\n",
       "      <td>NaN</td>\n",
       "      <td>NaN</td>\n",
       "    </tr>\n",
       "    <tr>\n",
       "      <th>2</th>\n",
       "      <td>gender</td>\n",
       "      <td>M</td>\n",
       "      <td>male</td>\n",
       "      <td>2.0</td>\n",
       "      <td>NaN</td>\n",
       "      <td>NaN</td>\n",
       "      <td>NaN</td>\n",
       "      <td>n</td>\n",
       "      <td>NaN</td>\n",
       "      <td>NaN</td>\n",
       "      <td>NaN</td>\n",
       "      <td>NaN</td>\n",
       "    </tr>\n",
       "    <tr>\n",
       "      <th>3</th>\n",
       "      <td>gender</td>\n",
       "      <td>Male</td>\n",
       "      <td>male</td>\n",
       "      <td>2.0</td>\n",
       "      <td>NaN</td>\n",
       "      <td>NaN</td>\n",
       "      <td>NaN</td>\n",
       "      <td>n</td>\n",
       "      <td>NaN</td>\n",
       "      <td>NaN</td>\n",
       "      <td>NaN</td>\n",
       "      <td>NaN</td>\n",
       "    </tr>\n",
       "    <tr>\n",
       "      <th>4</th>\n",
       "      <td>gender</td>\n",
       "      <td>0</td>\n",
       "      <td>others</td>\n",
       "      <td>99.0</td>\n",
       "      <td>NaN</td>\n",
       "      <td>NaN</td>\n",
       "      <td>NaN</td>\n",
       "      <td>y</td>\n",
       "      <td>NaN</td>\n",
       "      <td>NaN</td>\n",
       "      <td>NaN</td>\n",
       "      <td>NaN</td>\n",
       "    </tr>\n",
       "    <tr>\n",
       "      <th>5</th>\n",
       "      <td>gender</td>\n",
       "      <td>&amp;</td>\n",
       "      <td>others</td>\n",
       "      <td>99.0</td>\n",
       "      <td>NaN</td>\n",
       "      <td>NaN</td>\n",
       "      <td>NaN</td>\n",
       "      <td>y</td>\n",
       "      <td>NaN</td>\n",
       "      <td>NaN</td>\n",
       "      <td>NaN</td>\n",
       "      <td>NaN</td>\n",
       "    </tr>\n",
       "    <tr>\n",
       "      <th>6</th>\n",
       "      <td>gender</td>\n",
       "      <td>(</td>\n",
       "      <td>others</td>\n",
       "      <td>99.0</td>\n",
       "      <td>NaN</td>\n",
       "      <td>NaN</td>\n",
       "      <td>NaN</td>\n",
       "      <td>y</td>\n",
       "      <td>NaN</td>\n",
       "      <td>NaN</td>\n",
       "      <td>NaN</td>\n",
       "      <td>NaN</td>\n",
       "    </tr>\n",
       "    <tr>\n",
       "      <th>7</th>\n",
       "      <td>gender</td>\n",
       "      <td>C</td>\n",
       "      <td>others</td>\n",
       "      <td>99.0</td>\n",
       "      <td>NaN</td>\n",
       "      <td>NaN</td>\n",
       "      <td>NaN</td>\n",
       "      <td>y</td>\n",
       "      <td>NaN</td>\n",
       "      <td>NaN</td>\n",
       "      <td>NaN</td>\n",
       "      <td>NaN</td>\n",
       "    </tr>\n",
       "    <tr>\n",
       "      <th>8</th>\n",
       "      <td>gender</td>\n",
       "      <td>D</td>\n",
       "      <td>others</td>\n",
       "      <td>99.0</td>\n",
       "      <td>NaN</td>\n",
       "      <td>NaN</td>\n",
       "      <td>NaN</td>\n",
       "      <td>y</td>\n",
       "      <td>NaN</td>\n",
       "      <td>NaN</td>\n",
       "      <td>NaN</td>\n",
       "      <td>NaN</td>\n",
       "    </tr>\n",
       "    <tr>\n",
       "      <th>9</th>\n",
       "      <td>gender</td>\n",
       "      <td>G</td>\n",
       "      <td>others</td>\n",
       "      <td>99.0</td>\n",
       "      <td>NaN</td>\n",
       "      <td>NaN</td>\n",
       "      <td>NaN</td>\n",
       "      <td>y</td>\n",
       "      <td>NaN</td>\n",
       "      <td>NaN</td>\n",
       "      <td>NaN</td>\n",
       "      <td>NaN</td>\n",
       "    </tr>\n",
       "    <tr>\n",
       "      <th>10</th>\n",
       "      <td>gender</td>\n",
       "      <td>N</td>\n",
       "      <td>others</td>\n",
       "      <td>99.0</td>\n",
       "      <td>NaN</td>\n",
       "      <td>NaN</td>\n",
       "      <td>NaN</td>\n",
       "      <td>y</td>\n",
       "      <td>NaN</td>\n",
       "      <td>NaN</td>\n",
       "      <td>NaN</td>\n",
       "      <td>NaN</td>\n",
       "    </tr>\n",
       "    <tr>\n",
       "      <th>11</th>\n",
       "      <td>gender</td>\n",
       "      <td>None</td>\n",
       "      <td>others</td>\n",
       "      <td>99.0</td>\n",
       "      <td>NaN</td>\n",
       "      <td>NaN</td>\n",
       "      <td>NaN</td>\n",
       "      <td>y</td>\n",
       "      <td>NaN</td>\n",
       "      <td>NaN</td>\n",
       "      <td>NaN</td>\n",
       "      <td>NaN</td>\n",
       "    </tr>\n",
       "    <tr>\n",
       "      <th>12</th>\n",
       "      <td>gender</td>\n",
       "      <td>O</td>\n",
       "      <td>others</td>\n",
       "      <td>99.0</td>\n",
       "      <td>NaN</td>\n",
       "      <td>NaN</td>\n",
       "      <td>NaN</td>\n",
       "      <td>y</td>\n",
       "      <td>NaN</td>\n",
       "      <td>NaN</td>\n",
       "      <td>NaN</td>\n",
       "      <td>NaN</td>\n",
       "    </tr>\n",
       "    <tr>\n",
       "      <th>13</th>\n",
       "      <td>gender</td>\n",
       "      <td>Others</td>\n",
       "      <td>others</td>\n",
       "      <td>99.0</td>\n",
       "      <td>NaN</td>\n",
       "      <td>NaN</td>\n",
       "      <td>NaN</td>\n",
       "      <td>y</td>\n",
       "      <td>NaN</td>\n",
       "      <td>NaN</td>\n",
       "      <td>NaN</td>\n",
       "      <td>NaN</td>\n",
       "    </tr>\n",
       "    <tr>\n",
       "      <th>14</th>\n",
       "      <td>gender</td>\n",
       "      <td>P</td>\n",
       "      <td>others</td>\n",
       "      <td>99.0</td>\n",
       "      <td>NaN</td>\n",
       "      <td>NaN</td>\n",
       "      <td>NaN</td>\n",
       "      <td>y</td>\n",
       "      <td>NaN</td>\n",
       "      <td>NaN</td>\n",
       "      <td>NaN</td>\n",
       "      <td>NaN</td>\n",
       "    </tr>\n",
       "    <tr>\n",
       "      <th>15</th>\n",
       "      <td>gender</td>\n",
       "      <td>s</td>\n",
       "      <td>others</td>\n",
       "      <td>99.0</td>\n",
       "      <td>NaN</td>\n",
       "      <td>NaN</td>\n",
       "      <td>NaN</td>\n",
       "      <td>y</td>\n",
       "      <td>NaN</td>\n",
       "      <td>NaN</td>\n",
       "      <td>NaN</td>\n",
       "      <td>NaN</td>\n",
       "    </tr>\n",
       "    <tr>\n",
       "      <th>16</th>\n",
       "      <td>gender</td>\n",
       "      <td>X</td>\n",
       "      <td>others</td>\n",
       "      <td>99.0</td>\n",
       "      <td>NaN</td>\n",
       "      <td>NaN</td>\n",
       "      <td>NaN</td>\n",
       "      <td>y</td>\n",
       "      <td>NaN</td>\n",
       "      <td>NaN</td>\n",
       "      <td>NaN</td>\n",
       "      <td>NaN</td>\n",
       "    </tr>\n",
       "    <tr>\n",
       "      <th>17</th>\n",
       "      <td>gender</td>\n",
       "      <td>exception</td>\n",
       "      <td>others</td>\n",
       "      <td>99.0</td>\n",
       "      <td>NaN</td>\n",
       "      <td>NaN</td>\n",
       "      <td>NaN</td>\n",
       "      <td>y</td>\n",
       "      <td>NaN</td>\n",
       "      <td>NaN</td>\n",
       "      <td>NaN</td>\n",
       "      <td>NaN</td>\n",
       "    </tr>\n",
       "    <tr>\n",
       "      <th>161</th>\n",
       "      <td>maritalstatus</td>\n",
       "      <td>50</td>\n",
       "      <td>others</td>\n",
       "      <td>99.0</td>\n",
       "      <td>NaN</td>\n",
       "      <td>NaN</td>\n",
       "      <td>NaN</td>\n",
       "      <td>y</td>\n",
       "      <td>NaN</td>\n",
       "      <td>NaN</td>\n",
       "      <td>NaN</td>\n",
       "      <td>NaN</td>\n",
       "    </tr>\n",
       "    <tr>\n",
       "      <th>162</th>\n",
       "      <td>maritalstatus</td>\n",
       "      <td>51</td>\n",
       "      <td>others</td>\n",
       "      <td>99.0</td>\n",
       "      <td>NaN</td>\n",
       "      <td>NaN</td>\n",
       "      <td>NaN</td>\n",
       "      <td>y</td>\n",
       "      <td>NaN</td>\n",
       "      <td>NaN</td>\n",
       "      <td>NaN</td>\n",
       "      <td>NaN</td>\n",
       "    </tr>\n",
       "    <tr>\n",
       "      <th>163</th>\n",
       "      <td>maritalstatus</td>\n",
       "      <td>52</td>\n",
       "      <td>others</td>\n",
       "      <td>99.0</td>\n",
       "      <td>NaN</td>\n",
       "      <td>NaN</td>\n",
       "      <td>NaN</td>\n",
       "      <td>y</td>\n",
       "      <td>NaN</td>\n",
       "      <td>NaN</td>\n",
       "      <td>NaN</td>\n",
       "      <td>NaN</td>\n",
       "    </tr>\n",
       "    <tr>\n",
       "      <th>164</th>\n",
       "      <td>maritalstatus</td>\n",
       "      <td>MARITAL_OTHERS</td>\n",
       "      <td>others</td>\n",
       "      <td>99.0</td>\n",
       "      <td>NaN</td>\n",
       "      <td>NaN</td>\n",
       "      <td>NaN</td>\n",
       "      <td>y</td>\n",
       "      <td>NaN</td>\n",
       "      <td>NaN</td>\n",
       "      <td>NaN</td>\n",
       "      <td>NaN</td>\n",
       "    </tr>\n",
       "    <tr>\n",
       "      <th>165</th>\n",
       "      <td>maritalstatus</td>\n",
       "      <td>None</td>\n",
       "      <td>others</td>\n",
       "      <td>99.0</td>\n",
       "      <td>NaN</td>\n",
       "      <td>NaN</td>\n",
       "      <td>NaN</td>\n",
       "      <td>y</td>\n",
       "      <td>NaN</td>\n",
       "      <td>NaN</td>\n",
       "      <td>NaN</td>\n",
       "      <td>NaN</td>\n",
       "    </tr>\n",
       "    <tr>\n",
       "      <th>166</th>\n",
       "      <td>maritalstatus</td>\n",
       "      <td>NaN</td>\n",
       "      <td>others</td>\n",
       "      <td>99.0</td>\n",
       "      <td>NaN</td>\n",
       "      <td>NaN</td>\n",
       "      <td>NaN</td>\n",
       "      <td>y</td>\n",
       "      <td>NaN</td>\n",
       "      <td>NaN</td>\n",
       "      <td>NaN</td>\n",
       "      <td>NaN</td>\n",
       "    </tr>\n",
       "    <tr>\n",
       "      <th>167</th>\n",
       "      <td>maritalstatus</td>\n",
       "      <td>OTHERS</td>\n",
       "      <td>others</td>\n",
       "      <td>99.0</td>\n",
       "      <td>NaN</td>\n",
       "      <td>NaN</td>\n",
       "      <td>NaN</td>\n",
       "      <td>y</td>\n",
       "      <td>NaN</td>\n",
       "      <td>NaN</td>\n",
       "      <td>NaN</td>\n",
       "      <td>NaN</td>\n",
       "    </tr>\n",
       "    <tr>\n",
       "      <th>168</th>\n",
       "      <td>maritalstatus</td>\n",
       "      <td>string</td>\n",
       "      <td>others</td>\n",
       "      <td>99.0</td>\n",
       "      <td>NaN</td>\n",
       "      <td>NaN</td>\n",
       "      <td>NaN</td>\n",
       "      <td>y</td>\n",
       "      <td>NaN</td>\n",
       "      <td>NaN</td>\n",
       "      <td>NaN</td>\n",
       "      <td>NaN</td>\n",
       "    </tr>\n",
       "    <tr>\n",
       "      <th>183</th>\n",
       "      <td>membershipstatus</td>\n",
       "      <td>NaN</td>\n",
       "      <td>others</td>\n",
       "      <td>NaN</td>\n",
       "      <td>NaN</td>\n",
       "      <td>NaN</td>\n",
       "      <td>NaN</td>\n",
       "      <td>y</td>\n",
       "      <td>NaN</td>\n",
       "      <td>NaN</td>\n",
       "      <td>NaN</td>\n",
       "      <td>NaN</td>\n",
       "    </tr>\n",
       "    <tr>\n",
       "      <th>196</th>\n",
       "      <td>membershipstatus</td>\n",
       "      <td>exception</td>\n",
       "      <td>others</td>\n",
       "      <td>NaN</td>\n",
       "      <td>NaN</td>\n",
       "      <td>NaN</td>\n",
       "      <td>NaN</td>\n",
       "      <td>y</td>\n",
       "      <td>NaN</td>\n",
       "      <td>NaN</td>\n",
       "      <td>NaN</td>\n",
       "      <td>NaN</td>\n",
       "    </tr>\n",
       "    <tr>\n",
       "      <th>203</th>\n",
       "      <td>agegroup</td>\n",
       "      <td>others</td>\n",
       "      <td>others</td>\n",
       "      <td>99.0</td>\n",
       "      <td>NaN</td>\n",
       "      <td>NaN</td>\n",
       "      <td>NaN</td>\n",
       "      <td>y</td>\n",
       "      <td>NaN</td>\n",
       "      <td>NaN</td>\n",
       "      <td>NaN</td>\n",
       "      <td>NaN</td>\n",
       "    </tr>\n",
       "    <tr>\n",
       "      <th>211</th>\n",
       "      <td>recencygroup</td>\n",
       "      <td>others</td>\n",
       "      <td>others</td>\n",
       "      <td>99.0</td>\n",
       "      <td>NaN</td>\n",
       "      <td>NaN</td>\n",
       "      <td>NaN</td>\n",
       "      <td>y</td>\n",
       "      <td>NaN</td>\n",
       "      <td>NaN</td>\n",
       "      <td>NaN</td>\n",
       "      <td>NaN</td>\n",
       "    </tr>\n",
       "    <tr>\n",
       "      <th>218</th>\n",
       "      <td>tenuregroup</td>\n",
       "      <td>others</td>\n",
       "      <td>others</td>\n",
       "      <td>99.0</td>\n",
       "      <td>NaN</td>\n",
       "      <td>NaN</td>\n",
       "      <td>NaN</td>\n",
       "      <td>y</td>\n",
       "      <td>NaN</td>\n",
       "      <td>NaN</td>\n",
       "      <td>NaN</td>\n",
       "      <td>NaN</td>\n",
       "    </tr>\n",
       "  </tbody>\n",
       "</table>\n",
       "</div>"
      ],
      "text/plain": [
       "               domain      src_values std_values  std_order enrich_gender  \\\n",
       "0              gender               F     female        1.0           NaN   \n",
       "1              gender          Female     female        1.0           NaN   \n",
       "2              gender               M       male        2.0           NaN   \n",
       "3              gender            Male       male        2.0           NaN   \n",
       "4              gender               0     others       99.0           NaN   \n",
       "5              gender               &     others       99.0           NaN   \n",
       "6              gender               (     others       99.0           NaN   \n",
       "7              gender               C     others       99.0           NaN   \n",
       "8              gender               D     others       99.0           NaN   \n",
       "9              gender               G     others       99.0           NaN   \n",
       "10             gender               N     others       99.0           NaN   \n",
       "11             gender            None     others       99.0           NaN   \n",
       "12             gender               O     others       99.0           NaN   \n",
       "13             gender          Others     others       99.0           NaN   \n",
       "14             gender               P     others       99.0           NaN   \n",
       "15             gender               s     others       99.0           NaN   \n",
       "16             gender               X     others       99.0           NaN   \n",
       "17             gender       exception     others       99.0           NaN   \n",
       "161     maritalstatus              50     others       99.0           NaN   \n",
       "162     maritalstatus              51     others       99.0           NaN   \n",
       "163     maritalstatus              52     others       99.0           NaN   \n",
       "164     maritalstatus  MARITAL_OTHERS     others       99.0           NaN   \n",
       "165     maritalstatus            None     others       99.0           NaN   \n",
       "166     maritalstatus             NaN     others       99.0           NaN   \n",
       "167     maritalstatus          OTHERS     others       99.0           NaN   \n",
       "168     maritalstatus          string     others       99.0           NaN   \n",
       "183  membershipstatus             NaN     others        NaN           NaN   \n",
       "196  membershipstatus       exception     others        NaN           NaN   \n",
       "203          agegroup          others     others       99.0           NaN   \n",
       "211      recencygroup          others     others       99.0           NaN   \n",
       "218       tenuregroup          others     others       99.0           NaN   \n",
       "\n",
       "     min_value  max_value exception addedby  addedon  modifiedby  modifiedon  \n",
       "0          NaN        NaN         n     NaN      NaN         NaN         NaN  \n",
       "1          NaN        NaN         n     NaN      NaN         NaN         NaN  \n",
       "2          NaN        NaN         n     NaN      NaN         NaN         NaN  \n",
       "3          NaN        NaN         n     NaN      NaN         NaN         NaN  \n",
       "4          NaN        NaN         y     NaN      NaN         NaN         NaN  \n",
       "5          NaN        NaN         y     NaN      NaN         NaN         NaN  \n",
       "6          NaN        NaN         y     NaN      NaN         NaN         NaN  \n",
       "7          NaN        NaN         y     NaN      NaN         NaN         NaN  \n",
       "8          NaN        NaN         y     NaN      NaN         NaN         NaN  \n",
       "9          NaN        NaN         y     NaN      NaN         NaN         NaN  \n",
       "10         NaN        NaN         y     NaN      NaN         NaN         NaN  \n",
       "11         NaN        NaN         y     NaN      NaN         NaN         NaN  \n",
       "12         NaN        NaN         y     NaN      NaN         NaN         NaN  \n",
       "13         NaN        NaN         y     NaN      NaN         NaN         NaN  \n",
       "14         NaN        NaN         y     NaN      NaN         NaN         NaN  \n",
       "15         NaN        NaN         y     NaN      NaN         NaN         NaN  \n",
       "16         NaN        NaN         y     NaN      NaN         NaN         NaN  \n",
       "17         NaN        NaN         y     NaN      NaN         NaN         NaN  \n",
       "161        NaN        NaN         y     NaN      NaN         NaN         NaN  \n",
       "162        NaN        NaN         y     NaN      NaN         NaN         NaN  \n",
       "163        NaN        NaN         y     NaN      NaN         NaN         NaN  \n",
       "164        NaN        NaN         y     NaN      NaN         NaN         NaN  \n",
       "165        NaN        NaN         y     NaN      NaN         NaN         NaN  \n",
       "166        NaN        NaN         y     NaN      NaN         NaN         NaN  \n",
       "167        NaN        NaN         y     NaN      NaN         NaN         NaN  \n",
       "168        NaN        NaN         y     NaN      NaN         NaN         NaN  \n",
       "183        NaN        NaN         y     NaN      NaN         NaN         NaN  \n",
       "196        NaN        NaN         y     NaN      NaN         NaN         NaN  \n",
       "203        NaN        NaN         y     NaN      NaN         NaN         NaN  \n",
       "211        NaN        NaN         y     NaN      NaN         NaN         NaN  \n",
       "218        NaN        NaN         y     NaN      NaN         NaN         NaN  "
      ]
     },
     "execution_count": 274,
     "metadata": {},
     "output_type": "execute_result"
    }
   ],
   "source": [
    "df_values"
   ]
  },
  {
   "cell_type": "code",
   "execution_count": null,
   "id": "52aa8bb4",
   "metadata": {},
   "outputs": [],
   "source": []
  },
  {
   "cell_type": "code",
   "execution_count": null,
   "id": "5ff31d34",
   "metadata": {},
   "outputs": [],
   "source": [
    "\"membergender\""
   ]
  },
  {
   "cell_type": "code",
   "execution_count": null,
   "id": "27f166a3",
   "metadata": {},
   "outputs": [],
   "source": []
  },
  {
   "cell_type": "code",
   "execution_count": 167,
   "id": "dfa3dc13",
   "metadata": {},
   "outputs": [
    {
     "name": "stdout",
     "output_type": "stream",
     "text": [
      "['gender' 'salutation' 'maritalstatus' 'membershipstatus' 'agegroup'\n",
      " 'recencygroup']\n"
     ]
    }
   ],
   "source": [
    "domain_type_listtest = dfa_sort_value_standard[\"domain\"].unique()\n",
    "print(domain_type_list)"
   ]
  },
  {
   "cell_type": "code",
   "execution_count": 281,
   "id": "2baf7867",
   "metadata": {},
   "outputs": [],
   "source": [
    "def sorted_source_unique_mappertest(source_column_name):\n",
    "    source_unique_values = []\n",
    "    categorical_result_list =[]\n",
    "    source_unique_values = sorted(df_raw_data[source_column_name].unique())\n",
    "    if len(source_unique_values) > 0:\n",
    "        for unique_values in source_unique_values:\n",
    "            categorical_result = {}\n",
    "            categorical_result[\"name\"] = unique_values\n",
    "            categorical_result[\"value\"] = unique_values\n",
    "            categorical_result_list.append(categorical_result)\n",
    "    return categorical_result_list"
   ]
  },
  {
   "cell_type": "code",
   "execution_count": 282,
   "id": "04579c16",
   "metadata": {},
   "outputs": [],
   "source": [
    "def sorted_domain_unique_mappertest(source_column_name):\n",
    "    domain_values = []\n",
    "    categorical_result_list =[]\n",
    "    source_column_name = join_column_name(source_column_name)\n",
    "    for sort_type in domain_type_list:\n",
    "        if sort_type in source_column_name :\n",
    "            #domain_list = dfa_sort_value_standard.loc[dfa_sort_value_standard[\"domain\"]==sort_type].sort_values(by=['std_order'])\n",
    "            domain_list = dfa_sort_value_standard.loc[dfa_sort_value_standard[\"domain\"]==sort_type].drop_duplicates(subset='std_values').sort_values(by=['std_order'])\n",
    "            for row_index in domain_list.index :\n",
    "                #print(domain_list[\"std_name\"].notna(),\"type - \",type(domain_list[\"std_name\"].notna()),\"-\",row_index)\n",
    "                categorical_result = {}\n",
    "                if str(domain_list[\"std_name\"][row_index]) != \"nan\" :\n",
    "                    categorical_result[\"name\"] = str(domain_list[\"std_values\"][row_index])\n",
    "                    categorical_result[\"value\"] = str(domain_list[\"std_name\"][row_index])\n",
    "                else:\n",
    "                    categorical_result[\"name\"] = str(domain_list[\"std_values\"][row_index])\n",
    "                    categorical_result[\"value\"] = str(domain_list[\"std_values\"][row_index])\n",
    "                categorical_result_list.append(categorical_result)\n",
    "                \n",
    "            #domain_values = domain_list.drop_duplicates(subset = [\"std_values\"]).sort_values(by=['std_order'])[\"std_values\"]\n",
    "            #domain_values = dfa_sort_value_standard.loc[dfa_sort_value_standard[\"domain\"]==sort_type].drop_duplicates(subset='std_values').sort_values(by=['std_order'])\n",
    "            #print(domain_values[\"std_name\"])\n",
    "    return categorical_result_list"
   ]
  },
  {
   "cell_type": "code",
   "execution_count": null,
   "id": "25c23770",
   "metadata": {},
   "outputs": [],
   "source": []
  },
  {
   "cell_type": "code",
   "execution_count": 283,
   "id": "859af8e9",
   "metadata": {},
   "outputs": [],
   "source": [
    "def get_sorted_uniquetest(source_column_name): #age_group\n",
    "    source_unique_values = []\n",
    "    source_unique_values = sorted_domain_unique_mappertest(source_column_name)\n",
    "    if len(source_unique_values) <= 0:\n",
    "        print(\"--------- source_unique_values<0 \")\n",
    "        source_unique_values = sorted_source_unique_mappertest(source_column_name)\n",
    "    return source_unique_values"
   ]
  },
  {
   "cell_type": "code",
   "execution_count": 325,
   "id": "95edfdc1",
   "metadata": {},
   "outputs": [
    {
     "data": {
      "text/plain": [
       "[]"
      ]
     },
     "execution_count": 325,
     "metadata": {},
     "output_type": "execute_result"
    }
   ],
   "source": [
    "sorted_domain_unique_mappertest(\"card_tier\")"
   ]
  },
  {
   "cell_type": "code",
   "execution_count": 326,
   "id": "bae63830",
   "metadata": {},
   "outputs": [
    {
     "name": "stdout",
     "output_type": "stream",
     "text": [
      "--------- source_unique_values<0 \n"
     ]
    },
    {
     "ename": "KeyError",
     "evalue": "'card_tier'",
     "output_type": "error",
     "traceback": [
      "\u001b[1;31m---------------------------------------------------------------------------\u001b[0m",
      "\u001b[1;31mKeyError\u001b[0m                                  Traceback (most recent call last)",
      "File \u001b[1;32m~\\AppData\\Local\\Programs\\Python\\Python310\\lib\\site-packages\\pandas\\core\\indexes\\base.py:3621\u001b[0m, in \u001b[0;36mIndex.get_loc\u001b[1;34m(self, key, method, tolerance)\u001b[0m\n\u001b[0;32m   3620\u001b[0m \u001b[38;5;28;01mtry\u001b[39;00m:\n\u001b[1;32m-> 3621\u001b[0m     \u001b[38;5;28;01mreturn\u001b[39;00m \u001b[38;5;28;43mself\u001b[39;49m\u001b[38;5;241;43m.\u001b[39;49m\u001b[43m_engine\u001b[49m\u001b[38;5;241;43m.\u001b[39;49m\u001b[43mget_loc\u001b[49m\u001b[43m(\u001b[49m\u001b[43mcasted_key\u001b[49m\u001b[43m)\u001b[49m\n\u001b[0;32m   3622\u001b[0m \u001b[38;5;28;01mexcept\u001b[39;00m \u001b[38;5;167;01mKeyError\u001b[39;00m \u001b[38;5;28;01mas\u001b[39;00m err:\n",
      "File \u001b[1;32m~\\AppData\\Local\\Programs\\Python\\Python310\\lib\\site-packages\\pandas\\_libs\\index.pyx:136\u001b[0m, in \u001b[0;36mpandas._libs.index.IndexEngine.get_loc\u001b[1;34m()\u001b[0m\n",
      "File \u001b[1;32m~\\AppData\\Local\\Programs\\Python\\Python310\\lib\\site-packages\\pandas\\_libs\\index.pyx:163\u001b[0m, in \u001b[0;36mpandas._libs.index.IndexEngine.get_loc\u001b[1;34m()\u001b[0m\n",
      "File \u001b[1;32mpandas\\_libs\\hashtable_class_helper.pxi:5198\u001b[0m, in \u001b[0;36mpandas._libs.hashtable.PyObjectHashTable.get_item\u001b[1;34m()\u001b[0m\n",
      "File \u001b[1;32mpandas\\_libs\\hashtable_class_helper.pxi:5206\u001b[0m, in \u001b[0;36mpandas._libs.hashtable.PyObjectHashTable.get_item\u001b[1;34m()\u001b[0m\n",
      "\u001b[1;31mKeyError\u001b[0m: 'card_tier'",
      "\nThe above exception was the direct cause of the following exception:\n",
      "\u001b[1;31mKeyError\u001b[0m                                  Traceback (most recent call last)",
      "Input \u001b[1;32mIn [326]\u001b[0m, in \u001b[0;36m<cell line: 1>\u001b[1;34m()\u001b[0m\n\u001b[1;32m----> 1\u001b[0m \u001b[43mget_sorted_uniquetest\u001b[49m\u001b[43m(\u001b[49m\u001b[38;5;124;43m\"\u001b[39;49m\u001b[38;5;124;43mcard_tier\u001b[39;49m\u001b[38;5;124;43m\"\u001b[39;49m\u001b[43m)\u001b[49m\n",
      "Input \u001b[1;32mIn [283]\u001b[0m, in \u001b[0;36mget_sorted_uniquetest\u001b[1;34m(source_column_name)\u001b[0m\n\u001b[0;32m      4\u001b[0m \u001b[38;5;28;01mif\u001b[39;00m \u001b[38;5;28mlen\u001b[39m(source_unique_values) \u001b[38;5;241m<\u001b[39m\u001b[38;5;241m=\u001b[39m \u001b[38;5;241m0\u001b[39m:\n\u001b[0;32m      5\u001b[0m     \u001b[38;5;28mprint\u001b[39m(\u001b[38;5;124m\"\u001b[39m\u001b[38;5;124m--------- source_unique_values<0 \u001b[39m\u001b[38;5;124m\"\u001b[39m)\n\u001b[1;32m----> 6\u001b[0m     source_unique_values \u001b[38;5;241m=\u001b[39m \u001b[43msorted_source_unique_mappertest\u001b[49m\u001b[43m(\u001b[49m\u001b[43msource_column_name\u001b[49m\u001b[43m)\u001b[49m\n\u001b[0;32m      7\u001b[0m \u001b[38;5;28;01mreturn\u001b[39;00m source_unique_values\n",
      "Input \u001b[1;32mIn [281]\u001b[0m, in \u001b[0;36msorted_source_unique_mappertest\u001b[1;34m(source_column_name)\u001b[0m\n\u001b[0;32m      2\u001b[0m source_unique_values \u001b[38;5;241m=\u001b[39m []\n\u001b[0;32m      3\u001b[0m categorical_result_list \u001b[38;5;241m=\u001b[39m[]\n\u001b[1;32m----> 4\u001b[0m source_unique_values \u001b[38;5;241m=\u001b[39m \u001b[38;5;28msorted\u001b[39m(\u001b[43mdf_raw_data\u001b[49m\u001b[43m[\u001b[49m\u001b[43msource_column_name\u001b[49m\u001b[43m]\u001b[49m\u001b[38;5;241m.\u001b[39munique())\n\u001b[0;32m      5\u001b[0m \u001b[38;5;28;01mif\u001b[39;00m \u001b[38;5;28mlen\u001b[39m(source_unique_values) \u001b[38;5;241m>\u001b[39m \u001b[38;5;241m0\u001b[39m:\n\u001b[0;32m      6\u001b[0m     \u001b[38;5;28;01mfor\u001b[39;00m unique_values \u001b[38;5;129;01min\u001b[39;00m source_unique_values:\n",
      "File \u001b[1;32m~\\AppData\\Local\\Programs\\Python\\Python310\\lib\\site-packages\\pandas\\core\\frame.py:3505\u001b[0m, in \u001b[0;36mDataFrame.__getitem__\u001b[1;34m(self, key)\u001b[0m\n\u001b[0;32m   3503\u001b[0m \u001b[38;5;28;01mif\u001b[39;00m \u001b[38;5;28mself\u001b[39m\u001b[38;5;241m.\u001b[39mcolumns\u001b[38;5;241m.\u001b[39mnlevels \u001b[38;5;241m>\u001b[39m \u001b[38;5;241m1\u001b[39m:\n\u001b[0;32m   3504\u001b[0m     \u001b[38;5;28;01mreturn\u001b[39;00m \u001b[38;5;28mself\u001b[39m\u001b[38;5;241m.\u001b[39m_getitem_multilevel(key)\n\u001b[1;32m-> 3505\u001b[0m indexer \u001b[38;5;241m=\u001b[39m \u001b[38;5;28;43mself\u001b[39;49m\u001b[38;5;241;43m.\u001b[39;49m\u001b[43mcolumns\u001b[49m\u001b[38;5;241;43m.\u001b[39;49m\u001b[43mget_loc\u001b[49m\u001b[43m(\u001b[49m\u001b[43mkey\u001b[49m\u001b[43m)\u001b[49m\n\u001b[0;32m   3506\u001b[0m \u001b[38;5;28;01mif\u001b[39;00m is_integer(indexer):\n\u001b[0;32m   3507\u001b[0m     indexer \u001b[38;5;241m=\u001b[39m [indexer]\n",
      "File \u001b[1;32m~\\AppData\\Local\\Programs\\Python\\Python310\\lib\\site-packages\\pandas\\core\\indexes\\base.py:3623\u001b[0m, in \u001b[0;36mIndex.get_loc\u001b[1;34m(self, key, method, tolerance)\u001b[0m\n\u001b[0;32m   3621\u001b[0m     \u001b[38;5;28;01mreturn\u001b[39;00m \u001b[38;5;28mself\u001b[39m\u001b[38;5;241m.\u001b[39m_engine\u001b[38;5;241m.\u001b[39mget_loc(casted_key)\n\u001b[0;32m   3622\u001b[0m \u001b[38;5;28;01mexcept\u001b[39;00m \u001b[38;5;167;01mKeyError\u001b[39;00m \u001b[38;5;28;01mas\u001b[39;00m err:\n\u001b[1;32m-> 3623\u001b[0m     \u001b[38;5;28;01mraise\u001b[39;00m \u001b[38;5;167;01mKeyError\u001b[39;00m(key) \u001b[38;5;28;01mfrom\u001b[39;00m \u001b[38;5;21;01merr\u001b[39;00m\n\u001b[0;32m   3624\u001b[0m \u001b[38;5;28;01mexcept\u001b[39;00m \u001b[38;5;167;01mTypeError\u001b[39;00m:\n\u001b[0;32m   3625\u001b[0m     \u001b[38;5;66;03m# If we have a listlike key, _check_indexing_error will raise\u001b[39;00m\n\u001b[0;32m   3626\u001b[0m     \u001b[38;5;66;03m#  InvalidIndexError. Otherwise we fall through and re-raise\u001b[39;00m\n\u001b[0;32m   3627\u001b[0m     \u001b[38;5;66;03m#  the TypeError.\u001b[39;00m\n\u001b[0;32m   3628\u001b[0m     \u001b[38;5;28mself\u001b[39m\u001b[38;5;241m.\u001b[39m_check_indexing_error(key)\n",
      "\u001b[1;31mKeyError\u001b[0m: 'card_tier'"
     ]
    }
   ],
   "source": [
    "get_sorted_uniquetest(\"card_tier\")"
   ]
  },
  {
   "cell_type": "code",
   "execution_count": 365,
   "id": "f957300c",
   "metadata": {},
   "outputs": [],
   "source": [
    "def get_categorical_value_from_sourcetest(categorical_name):\n",
    "    categorical_result_list = []\n",
    "    source_column_list = df_raw_data.columns.tolist() #------- column from raw data\n",
    "    join_categorical_name = join_column_name(categorical_name) #----- join  input categorical_name\n",
    "  \n",
    "    for source_column_name in source_column_list:\n",
    "        source_join_column_name = join_column_name(source_column_name) #------ join source column name\n",
    "        \n",
    "        \n",
    "        \n",
    "        \n",
    "        \n",
    "        if join_categorical_name in source_join_column_name:\n",
    "            if join_categorical_name == source_join_column_name:\n",
    "                source_unique_values = get_sorted_unique(source_column_name)\n",
    "                if len(source_unique_values) > 0:\n",
    "                    categorical_result_list = source_unique_values\n",
    "                break\n",
    "            elif join_categorical_name != source_join_column_name:\n",
    "                split_column_name_value = source_column_name\n",
    "                if join_categorical_name in source_join_column_name :\n",
    "                    split_column_name_value = source_column_name.split('_')[-1]\n",
    "                \n",
    "                #----------------------------------\n",
    "                categorical_result = {}\n",
    "                categorical_result[\"name\"] = str(split_column_name_value)\n",
    "                categorical_result[\"value\"] = str(source_column_name) #---- special case card_tier sorting\n",
    "                categorical_result_list.append(categorical_result)\n",
    "\n",
    "    return categorical_result_list\n",
    "    "
   ]
  },
  {
   "cell_type": "code",
   "execution_count": 366,
   "id": "b6ef5983",
   "metadata": {},
   "outputs": [
    {
     "data": {
      "text/plain": [
       "[{'name': 'About To Sleep', 'value': 'About To Sleep'},\n",
       " {'name': 'At Risk', 'value': 'At Risk'},\n",
       " {'name': 'Champions', 'value': 'Champions'},\n",
       " {'name': 'Hibernating', 'value': 'Hibernating'},\n",
       " {'name': 'Lapsed', 'value': 'Lapsed'},\n",
       " {'name': 'Lost', 'value': 'Lost'},\n",
       " {'name': 'Loyal Customers', 'value': 'Loyal Customers'},\n",
       " {'name': 'Need Attention', 'value': 'Need Attention'},\n",
       " {'name': 'Potential Loyalist', 'value': 'Potential Loyalist'},\n",
       " {'name': 'Promising', 'value': 'Promising'},\n",
       " {'name': 'Recent Customers', 'value': 'Recent Customers'}]"
      ]
     },
     "execution_count": 366,
     "metadata": {},
     "output_type": "execute_result"
    }
   ],
   "source": [
    "get_categorical_value_from_sourcetest(\"rfm_segment\")"
   ]
  },
  {
   "cell_type": "code",
   "execution_count": null,
   "id": "6ee93bac",
   "metadata": {},
   "outputs": [],
   "source": []
  },
  {
   "cell_type": "code",
   "execution_count": 342,
   "id": "fd5d8413",
   "metadata": {},
   "outputs": [
    {
     "data": {
      "text/plain": [
       "'Shopper'"
      ]
     },
     "execution_count": 342,
     "metadata": {},
     "output_type": "execute_result"
    }
   ],
   "source": [
    "\"cardtierShopper\".split('cardtier')[-1]"
   ]
  },
  {
   "cell_type": "code",
   "execution_count": null,
   "id": "7ac7fe08",
   "metadata": {},
   "outputs": [],
   "source": []
  },
  {
   "cell_type": "code",
   "execution_count": 336,
   "id": "c1233f65",
   "metadata": {},
   "outputs": [
    {
     "data": {
      "text/plain": [
       "'rfm'"
      ]
     },
     "execution_count": 336,
     "metadata": {},
     "output_type": "execute_result"
    }
   ],
   "source": [
    "\"rfm_segment\".split('_')[0]"
   ]
  },
  {
   "cell_type": "code",
   "execution_count": 287,
   "id": "a53adbc9",
   "metadata": {},
   "outputs": [
    {
     "data": {
      "text/plain": [
       "'feomall'"
      ]
     },
     "execution_count": 287,
     "metadata": {},
     "output_type": "execute_result"
    }
   ],
   "source": [
    "customer_code"
   ]
  },
  {
   "cell_type": "code",
   "execution_count": null,
   "id": "19db9d5d",
   "metadata": {},
   "outputs": [],
   "source": [
    "def join_name(column_name):\n",
    "    split_column_name = column_name.split(\"_\")\n",
    "    column_name = (\"\").join(split_column_name)\n",
    "    return column_name"
   ]
  },
  {
   "cell_type": "code",
   "execution_count": 101,
   "id": "e857c026",
   "metadata": {},
   "outputs": [
    {
     "data": {
      "text/plain": [
       "array(['Lost', 'At Risk', \"Don't Lose Them\", 'Hibernating',\n",
       "       'About To Sleep', 'Need Attention', 'Loyal Customers', 'Promising',\n",
       "       'Potential Loyalist', 'Recent Customers', 'Champions'],\n",
       "      dtype=object)"
      ]
     },
     "execution_count": 101,
     "metadata": {},
     "output_type": "execute_result"
    }
   ],
   "source": [
    "rfm_segment_value_list"
   ]
  },
  {
   "cell_type": "code",
   "execution_count": null,
   "id": "5b534a09",
   "metadata": {},
   "outputs": [],
   "source": [
    "rfm_segment_value_list "
   ]
  },
  {
   "cell_type": "code",
   "execution_count": 160,
   "id": "4bb1e597",
   "metadata": {},
   "outputs": [
    {
     "name": "stdout",
     "output_type": "stream",
     "text": [
      "rowversion\n",
      "autoid\n",
      "membershiptype_autoid\n",
      "code\n",
      "name\n",
      "addedby\n",
      "addedon\n",
      "modifiedby\n",
      "modifiedon\n",
      "deletedby\n",
      "deletedon\n",
      "deletedreason\n",
      "tierrank\n",
      "aimlrank\n",
      "customercode\n"
     ]
    }
   ],
   "source": [
    "for card_tier in dfa_card_tier_sort:\n",
    "    print(card_tier)"
   ]
  },
  {
   "cell_type": "code",
   "execution_count": 289,
   "id": "6e49289d",
   "metadata": {},
   "outputs": [
    {
     "data": {
      "text/plain": [
       "0          feomall\n",
       "1          feomall\n",
       "2    starbucks_old\n",
       "3    starbucks_old\n",
       "4    starbucks_old\n",
       "5    starbucks_old\n",
       "6    starbucks_old\n",
       "7    starbucks_old\n",
       "Name: customercode, dtype: object"
      ]
     },
     "execution_count": 289,
     "metadata": {},
     "output_type": "execute_result"
    }
   ],
   "source": [
    "dfa_card_tier_sort[\"customercode\"]"
   ]
  },
  {
   "cell_type": "code",
   "execution_count": 321,
   "id": "0ebfa25f",
   "metadata": {},
   "outputs": [],
   "source": [
    "def sorted_card_tier_mappertest(customer_code):\n",
    "    domain_values = []\n",
    "    cardtier_result_list =[]\n",
    "    if customer_code in dfa_card_tier_sort[\"customercode\"] :\n",
    "        #print(\"detect : \",card_tier_sort_type)\n",
    "        domain_list = dfa_card_tier_sort.loc[dfa_card_tier_sort[\"customercode\"]==customer_code].drop_duplicates(subset='code').sort_values(by=['tierrank'])\n",
    "        print(\"detect : \",card_tier_sort_type)\n",
    "    else :\n",
    "        print(\"no detect : \",customer_code)\n",
    "    return cardtier_result_list"
   ]
  },
  {
   "cell_type": "code",
   "execution_count": 322,
   "id": "640cd7fb",
   "metadata": {},
   "outputs": [
    {
     "name": "stdout",
     "output_type": "stream",
     "text": [
      "no detect :  feomall\n"
     ]
    },
    {
     "data": {
      "text/plain": [
       "[]"
      ]
     },
     "execution_count": 322,
     "metadata": {},
     "output_type": "execute_result"
    }
   ],
   "source": [
    "sorted_card_tier_mappertest(customer_code)"
   ]
  },
  {
   "cell_type": "code",
   "execution_count": 317,
   "id": "05fe4fc1",
   "metadata": {},
   "outputs": [],
   "source": [
    "cd_list = dfa_card_tier_sort.loc[dfa_card_tier_sort[\"customercode\"]==customer_code].drop_duplicates(subset='code').sort_values(by=['tierrank'])"
   ]
  },
  {
   "cell_type": "code",
   "execution_count": 324,
   "id": "022e441a",
   "metadata": {},
   "outputs": [
    {
     "data": {
      "text/html": [
       "<div>\n",
       "<style scoped>\n",
       "    .dataframe tbody tr th:only-of-type {\n",
       "        vertical-align: middle;\n",
       "    }\n",
       "\n",
       "    .dataframe tbody tr th {\n",
       "        vertical-align: top;\n",
       "    }\n",
       "\n",
       "    .dataframe thead th {\n",
       "        text-align: right;\n",
       "    }\n",
       "</style>\n",
       "<table border=\"1\" class=\"dataframe\">\n",
       "  <thead>\n",
       "    <tr style=\"text-align: right;\">\n",
       "      <th></th>\n",
       "      <th>rowversion</th>\n",
       "      <th>autoid</th>\n",
       "      <th>membershiptype_autoid</th>\n",
       "      <th>code</th>\n",
       "      <th>name</th>\n",
       "      <th>addedby</th>\n",
       "      <th>addedon</th>\n",
       "      <th>modifiedby</th>\n",
       "      <th>modifiedon</th>\n",
       "      <th>deletedby</th>\n",
       "      <th>deletedon</th>\n",
       "      <th>deletedreason</th>\n",
       "      <th>tierrank</th>\n",
       "      <th>aimlrank</th>\n",
       "      <th>customercode</th>\n",
       "    </tr>\n",
       "  </thead>\n",
       "  <tbody>\n",
       "    <tr>\n",
       "      <th>0</th>\n",
       "      <td>2022-07-28 06:57:45.552</td>\n",
       "      <td>1</td>\n",
       "      <td>2</td>\n",
       "      <td>Shopper</td>\n",
       "      <td>Shopper</td>\n",
       "      <td>walter</td>\n",
       "      <td>2018-07-09 23:57:00.000</td>\n",
       "      <td>chong</td>\n",
       "      <td>2021-01-07 00:35:00.000</td>\n",
       "      <td>NaN</td>\n",
       "      <td>NaN</td>\n",
       "      <td>NaN</td>\n",
       "      <td>1.0</td>\n",
       "      <td>1.0</td>\n",
       "      <td>feomall</td>\n",
       "    </tr>\n",
       "    <tr>\n",
       "      <th>1</th>\n",
       "      <td>2022-07-28 06:57:45.552</td>\n",
       "      <td>2</td>\n",
       "      <td>2</td>\n",
       "      <td>Member</td>\n",
       "      <td>Member</td>\n",
       "      <td>walter</td>\n",
       "      <td>2018-07-09 23:57:00.000</td>\n",
       "      <td>chong</td>\n",
       "      <td>2021-01-07 00:35:00.000</td>\n",
       "      <td>NaN</td>\n",
       "      <td>NaN</td>\n",
       "      <td>NaN</td>\n",
       "      <td>2.0</td>\n",
       "      <td>2.0</td>\n",
       "      <td>feomall</td>\n",
       "    </tr>\n",
       "  </tbody>\n",
       "</table>\n",
       "</div>"
      ],
      "text/plain": [
       "                rowversion  autoid  membershiptype_autoid     code     name  \\\n",
       "0  2022-07-28 06:57:45.552       1                      2  Shopper  Shopper   \n",
       "1  2022-07-28 06:57:45.552       2                      2   Member   Member   \n",
       "\n",
       "  addedby                  addedon modifiedby               modifiedon  \\\n",
       "0  walter  2018-07-09 23:57:00.000      chong  2021-01-07 00:35:00.000   \n",
       "1  walter  2018-07-09 23:57:00.000      chong  2021-01-07 00:35:00.000   \n",
       "\n",
       "  deletedby deletedon  deletedreason  tierrank  aimlrank customercode  \n",
       "0       NaN       NaN            NaN       1.0       1.0      feomall  \n",
       "1       NaN       NaN            NaN       2.0       2.0      feomall  "
      ]
     },
     "execution_count": 324,
     "metadata": {},
     "output_type": "execute_result"
    }
   ],
   "source": [
    "cd_list"
   ]
  },
  {
   "cell_type": "code",
   "execution_count": null,
   "id": "3748547e",
   "metadata": {},
   "outputs": [],
   "source": [
    "def cardtier_sort_mapping():\n",
    "    \n",
    "    \n",
    "    \n",
    "    \n",
    "    return \"\""
   ]
  }
 ],
 "metadata": {
  "kernelspec": {
   "display_name": "Python 3 (ipykernel)",
   "language": "python",
   "name": "python3"
  },
  "language_info": {
   "codemirror_mode": {
    "name": "ipython",
    "version": 3
   },
   "file_extension": ".py",
   "mimetype": "text/x-python",
   "name": "python",
   "nbconvert_exporter": "python",
   "pygments_lexer": "ipython3",
   "version": "3.10.5"
  }
 },
 "nbformat": 4,
 "nbformat_minor": 5
}
